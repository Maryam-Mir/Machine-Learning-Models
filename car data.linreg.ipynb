{
 "cells": [
  {
   "cell_type": "markdown",
   "id": "c2a9f124",
   "metadata": {},
   "source": [
    "`11-may-2023`"
   ]
  },
  {
   "cell_type": "code",
   "execution_count": 1,
   "id": "b4587f00",
   "metadata": {},
   "outputs": [],
   "source": [
    "import os\n",
    "import pandas as pd\n",
    "import numpy as np\n",
    "\n",
    "import matplotlib.pyplot as plt\n",
    "import seaborn as sns\n"
   ]
  },
  {
   "cell_type": "code",
   "execution_count": 4,
   "id": "35926d0f",
   "metadata": {},
   "outputs": [],
   "source": [
    "df=pd.read_csv(r\"C:/Users/HP/PGA 32/Machine Learning/ML Data Set/car_done.csv\")"
   ]
  },
  {
   "cell_type": "code",
   "execution_count": 5,
   "id": "d461cb37",
   "metadata": {},
   "outputs": [
    {
     "data": {
      "text/html": [
       "<div>\n",
       "<style scoped>\n",
       "    .dataframe tbody tr th:only-of-type {\n",
       "        vertical-align: middle;\n",
       "    }\n",
       "\n",
       "    .dataframe tbody tr th {\n",
       "        vertical-align: top;\n",
       "    }\n",
       "\n",
       "    .dataframe thead th {\n",
       "        text-align: right;\n",
       "    }\n",
       "</style>\n",
       "<table border=\"1\" class=\"dataframe\">\n",
       "  <thead>\n",
       "    <tr style=\"text-align: right;\">\n",
       "      <th></th>\n",
       "      <th>Manufacturer</th>\n",
       "      <th>Model</th>\n",
       "      <th>Sales_in_thousands</th>\n",
       "      <th>four_year_resale_value</th>\n",
       "      <th>Vehicle_type</th>\n",
       "      <th>Price_in_thousands</th>\n",
       "      <th>Engine_size</th>\n",
       "      <th>Horsepower</th>\n",
       "      <th>Wheelbase</th>\n",
       "      <th>Width</th>\n",
       "      <th>Length</th>\n",
       "      <th>Curb weight</th>\n",
       "      <th>Fuel_capacity</th>\n",
       "      <th>Fuel_efficiency</th>\n",
       "    </tr>\n",
       "  </thead>\n",
       "  <tbody>\n",
       "    <tr>\n",
       "      <th>0</th>\n",
       "      <td>Acura</td>\n",
       "      <td>Integra</td>\n",
       "      <td>16.919</td>\n",
       "      <td>16.360</td>\n",
       "      <td>Passenger</td>\n",
       "      <td>21.50</td>\n",
       "      <td>1.8</td>\n",
       "      <td>140.0</td>\n",
       "      <td>101.2</td>\n",
       "      <td>67.3</td>\n",
       "      <td>172.4</td>\n",
       "      <td>2.639</td>\n",
       "      <td>13.2</td>\n",
       "      <td>28.0</td>\n",
       "    </tr>\n",
       "    <tr>\n",
       "      <th>1</th>\n",
       "      <td>Acura</td>\n",
       "      <td>TL</td>\n",
       "      <td>39.384</td>\n",
       "      <td>19.875</td>\n",
       "      <td>Passenger</td>\n",
       "      <td>28.40</td>\n",
       "      <td>3.2</td>\n",
       "      <td>225.0</td>\n",
       "      <td>108.1</td>\n",
       "      <td>70.3</td>\n",
       "      <td>192.9</td>\n",
       "      <td>3.517</td>\n",
       "      <td>17.2</td>\n",
       "      <td>25.0</td>\n",
       "    </tr>\n",
       "    <tr>\n",
       "      <th>2</th>\n",
       "      <td>Acura</td>\n",
       "      <td>CL</td>\n",
       "      <td>14.114</td>\n",
       "      <td>18.225</td>\n",
       "      <td>Passenger</td>\n",
       "      <td>NaN</td>\n",
       "      <td>3.2</td>\n",
       "      <td>225.0</td>\n",
       "      <td>106.9</td>\n",
       "      <td>70.6</td>\n",
       "      <td>192.0</td>\n",
       "      <td>3.470</td>\n",
       "      <td>17.2</td>\n",
       "      <td>26.0</td>\n",
       "    </tr>\n",
       "    <tr>\n",
       "      <th>3</th>\n",
       "      <td>Acura</td>\n",
       "      <td>RL</td>\n",
       "      <td>8.588</td>\n",
       "      <td>29.725</td>\n",
       "      <td>Passenger</td>\n",
       "      <td>42.00</td>\n",
       "      <td>3.5</td>\n",
       "      <td>210.0</td>\n",
       "      <td>114.6</td>\n",
       "      <td>71.4</td>\n",
       "      <td>196.6</td>\n",
       "      <td>3.850</td>\n",
       "      <td>18.0</td>\n",
       "      <td>22.0</td>\n",
       "    </tr>\n",
       "    <tr>\n",
       "      <th>4</th>\n",
       "      <td>Audi</td>\n",
       "      <td>A4</td>\n",
       "      <td>20.397</td>\n",
       "      <td>22.255</td>\n",
       "      <td>Passenger</td>\n",
       "      <td>23.99</td>\n",
       "      <td>1.8</td>\n",
       "      <td>150.0</td>\n",
       "      <td>102.6</td>\n",
       "      <td>68.2</td>\n",
       "      <td>178.0</td>\n",
       "      <td>2.998</td>\n",
       "      <td>16.4</td>\n",
       "      <td>27.0</td>\n",
       "    </tr>\n",
       "    <tr>\n",
       "      <th>...</th>\n",
       "      <td>...</td>\n",
       "      <td>...</td>\n",
       "      <td>...</td>\n",
       "      <td>...</td>\n",
       "      <td>...</td>\n",
       "      <td>...</td>\n",
       "      <td>...</td>\n",
       "      <td>...</td>\n",
       "      <td>...</td>\n",
       "      <td>...</td>\n",
       "      <td>...</td>\n",
       "      <td>...</td>\n",
       "      <td>...</td>\n",
       "      <td>...</td>\n",
       "    </tr>\n",
       "    <tr>\n",
       "      <th>152</th>\n",
       "      <td>Volvo</td>\n",
       "      <td>V40</td>\n",
       "      <td>3.545</td>\n",
       "      <td>NaN</td>\n",
       "      <td>Passenger</td>\n",
       "      <td>24.40</td>\n",
       "      <td>1.9</td>\n",
       "      <td>160.0</td>\n",
       "      <td>100.5</td>\n",
       "      <td>67.6</td>\n",
       "      <td>176.6</td>\n",
       "      <td>3.042</td>\n",
       "      <td>15.8</td>\n",
       "      <td>25.0</td>\n",
       "    </tr>\n",
       "    <tr>\n",
       "      <th>153</th>\n",
       "      <td>Volvo</td>\n",
       "      <td>S70</td>\n",
       "      <td>15.245</td>\n",
       "      <td>NaN</td>\n",
       "      <td>Passenger</td>\n",
       "      <td>27.50</td>\n",
       "      <td>2.4</td>\n",
       "      <td>168.0</td>\n",
       "      <td>104.9</td>\n",
       "      <td>69.3</td>\n",
       "      <td>185.9</td>\n",
       "      <td>3.208</td>\n",
       "      <td>17.9</td>\n",
       "      <td>25.0</td>\n",
       "    </tr>\n",
       "    <tr>\n",
       "      <th>154</th>\n",
       "      <td>Volvo</td>\n",
       "      <td>V70</td>\n",
       "      <td>17.531</td>\n",
       "      <td>NaN</td>\n",
       "      <td>Passenger</td>\n",
       "      <td>28.80</td>\n",
       "      <td>2.4</td>\n",
       "      <td>168.0</td>\n",
       "      <td>104.9</td>\n",
       "      <td>69.3</td>\n",
       "      <td>186.2</td>\n",
       "      <td>3.259</td>\n",
       "      <td>17.9</td>\n",
       "      <td>25.0</td>\n",
       "    </tr>\n",
       "    <tr>\n",
       "      <th>155</th>\n",
       "      <td>Volvo</td>\n",
       "      <td>C70</td>\n",
       "      <td>3.493</td>\n",
       "      <td>NaN</td>\n",
       "      <td>Passenger</td>\n",
       "      <td>45.50</td>\n",
       "      <td>2.3</td>\n",
       "      <td>236.0</td>\n",
       "      <td>104.9</td>\n",
       "      <td>71.5</td>\n",
       "      <td>185.7</td>\n",
       "      <td>3.601</td>\n",
       "      <td>18.5</td>\n",
       "      <td>23.0</td>\n",
       "    </tr>\n",
       "    <tr>\n",
       "      <th>156</th>\n",
       "      <td>Volvo</td>\n",
       "      <td>S80</td>\n",
       "      <td>18.969</td>\n",
       "      <td>NaN</td>\n",
       "      <td>Passenger</td>\n",
       "      <td>36.00</td>\n",
       "      <td>2.9</td>\n",
       "      <td>201.0</td>\n",
       "      <td>109.9</td>\n",
       "      <td>72.1</td>\n",
       "      <td>189.8</td>\n",
       "      <td>3.600</td>\n",
       "      <td>21.1</td>\n",
       "      <td>24.0</td>\n",
       "    </tr>\n",
       "  </tbody>\n",
       "</table>\n",
       "<p>157 rows × 14 columns</p>\n",
       "</div>"
      ],
      "text/plain": [
       "    Manufacturer    Model  Sales_in_thousands  four_year_resale_value  \\\n",
       "0          Acura  Integra              16.919                  16.360   \n",
       "1          Acura       TL              39.384                  19.875   \n",
       "2          Acura       CL              14.114                  18.225   \n",
       "3          Acura       RL               8.588                  29.725   \n",
       "4           Audi       A4              20.397                  22.255   \n",
       "..           ...      ...                 ...                     ...   \n",
       "152        Volvo      V40               3.545                     NaN   \n",
       "153        Volvo      S70              15.245                     NaN   \n",
       "154        Volvo      V70              17.531                     NaN   \n",
       "155        Volvo      C70               3.493                     NaN   \n",
       "156        Volvo      S80              18.969                     NaN   \n",
       "\n",
       "    Vehicle_type  Price_in_thousands  Engine_size  Horsepower  Wheelbase  \\\n",
       "0      Passenger               21.50          1.8       140.0      101.2   \n",
       "1      Passenger               28.40          3.2       225.0      108.1   \n",
       "2      Passenger                 NaN          3.2       225.0      106.9   \n",
       "3      Passenger               42.00          3.5       210.0      114.6   \n",
       "4      Passenger               23.99          1.8       150.0      102.6   \n",
       "..           ...                 ...          ...         ...        ...   \n",
       "152    Passenger               24.40          1.9       160.0      100.5   \n",
       "153    Passenger               27.50          2.4       168.0      104.9   \n",
       "154    Passenger               28.80          2.4       168.0      104.9   \n",
       "155    Passenger               45.50          2.3       236.0      104.9   \n",
       "156    Passenger               36.00          2.9       201.0      109.9   \n",
       "\n",
       "     Width  Length  Curb weight  Fuel_capacity  Fuel_efficiency  \n",
       "0     67.3   172.4        2.639           13.2             28.0  \n",
       "1     70.3   192.9        3.517           17.2             25.0  \n",
       "2     70.6   192.0        3.470           17.2             26.0  \n",
       "3     71.4   196.6        3.850           18.0             22.0  \n",
       "4     68.2   178.0        2.998           16.4             27.0  \n",
       "..     ...     ...          ...            ...              ...  \n",
       "152   67.6   176.6        3.042           15.8             25.0  \n",
       "153   69.3   185.9        3.208           17.9             25.0  \n",
       "154   69.3   186.2        3.259           17.9             25.0  \n",
       "155   71.5   185.7        3.601           18.5             23.0  \n",
       "156   72.1   189.8        3.600           21.1             24.0  \n",
       "\n",
       "[157 rows x 14 columns]"
      ]
     },
     "execution_count": 5,
     "metadata": {},
     "output_type": "execute_result"
    }
   ],
   "source": [
    "df"
   ]
  },
  {
   "cell_type": "code",
   "execution_count": 6,
   "id": "8562421c",
   "metadata": {},
   "outputs": [
    {
     "data": {
      "text/html": [
       "<div>\n",
       "<style scoped>\n",
       "    .dataframe tbody tr th:only-of-type {\n",
       "        vertical-align: middle;\n",
       "    }\n",
       "\n",
       "    .dataframe tbody tr th {\n",
       "        vertical-align: top;\n",
       "    }\n",
       "\n",
       "    .dataframe thead th {\n",
       "        text-align: right;\n",
       "    }\n",
       "</style>\n",
       "<table border=\"1\" class=\"dataframe\">\n",
       "  <thead>\n",
       "    <tr style=\"text-align: right;\">\n",
       "      <th></th>\n",
       "      <th>Manufacturer</th>\n",
       "      <th>Model</th>\n",
       "      <th>Sales_in_thousands</th>\n",
       "      <th>four_year_resale_value</th>\n",
       "      <th>Vehicle_type</th>\n",
       "      <th>Price_in_thousands</th>\n",
       "      <th>Engine_size</th>\n",
       "      <th>Horsepower</th>\n",
       "      <th>Wheelbase</th>\n",
       "      <th>Width</th>\n",
       "      <th>Length</th>\n",
       "      <th>Curb weight</th>\n",
       "      <th>Fuel_capacity</th>\n",
       "      <th>Fuel_efficiency</th>\n",
       "    </tr>\n",
       "  </thead>\n",
       "  <tbody>\n",
       "    <tr>\n",
       "      <th>0</th>\n",
       "      <td>Acura</td>\n",
       "      <td>Integra</td>\n",
       "      <td>16.919</td>\n",
       "      <td>16.360</td>\n",
       "      <td>Passenger</td>\n",
       "      <td>21.50</td>\n",
       "      <td>1.8</td>\n",
       "      <td>140.0</td>\n",
       "      <td>101.2</td>\n",
       "      <td>67.3</td>\n",
       "      <td>172.4</td>\n",
       "      <td>2.639</td>\n",
       "      <td>13.2</td>\n",
       "      <td>28.0</td>\n",
       "    </tr>\n",
       "    <tr>\n",
       "      <th>1</th>\n",
       "      <td>Acura</td>\n",
       "      <td>TL</td>\n",
       "      <td>39.384</td>\n",
       "      <td>19.875</td>\n",
       "      <td>Passenger</td>\n",
       "      <td>28.40</td>\n",
       "      <td>3.2</td>\n",
       "      <td>225.0</td>\n",
       "      <td>108.1</td>\n",
       "      <td>70.3</td>\n",
       "      <td>192.9</td>\n",
       "      <td>3.517</td>\n",
       "      <td>17.2</td>\n",
       "      <td>25.0</td>\n",
       "    </tr>\n",
       "    <tr>\n",
       "      <th>2</th>\n",
       "      <td>Acura</td>\n",
       "      <td>CL</td>\n",
       "      <td>14.114</td>\n",
       "      <td>18.225</td>\n",
       "      <td>Passenger</td>\n",
       "      <td>NaN</td>\n",
       "      <td>3.2</td>\n",
       "      <td>225.0</td>\n",
       "      <td>106.9</td>\n",
       "      <td>70.6</td>\n",
       "      <td>192.0</td>\n",
       "      <td>3.470</td>\n",
       "      <td>17.2</td>\n",
       "      <td>26.0</td>\n",
       "    </tr>\n",
       "    <tr>\n",
       "      <th>3</th>\n",
       "      <td>Acura</td>\n",
       "      <td>RL</td>\n",
       "      <td>8.588</td>\n",
       "      <td>29.725</td>\n",
       "      <td>Passenger</td>\n",
       "      <td>42.00</td>\n",
       "      <td>3.5</td>\n",
       "      <td>210.0</td>\n",
       "      <td>114.6</td>\n",
       "      <td>71.4</td>\n",
       "      <td>196.6</td>\n",
       "      <td>3.850</td>\n",
       "      <td>18.0</td>\n",
       "      <td>22.0</td>\n",
       "    </tr>\n",
       "    <tr>\n",
       "      <th>4</th>\n",
       "      <td>Audi</td>\n",
       "      <td>A4</td>\n",
       "      <td>20.397</td>\n",
       "      <td>22.255</td>\n",
       "      <td>Passenger</td>\n",
       "      <td>23.99</td>\n",
       "      <td>1.8</td>\n",
       "      <td>150.0</td>\n",
       "      <td>102.6</td>\n",
       "      <td>68.2</td>\n",
       "      <td>178.0</td>\n",
       "      <td>2.998</td>\n",
       "      <td>16.4</td>\n",
       "      <td>27.0</td>\n",
       "    </tr>\n",
       "  </tbody>\n",
       "</table>\n",
       "</div>"
      ],
      "text/plain": [
       "  Manufacturer    Model  Sales_in_thousands  four_year_resale_value  \\\n",
       "0        Acura  Integra              16.919                  16.360   \n",
       "1        Acura       TL              39.384                  19.875   \n",
       "2        Acura       CL              14.114                  18.225   \n",
       "3        Acura       RL               8.588                  29.725   \n",
       "4         Audi       A4              20.397                  22.255   \n",
       "\n",
       "  Vehicle_type  Price_in_thousands  Engine_size  Horsepower  Wheelbase  Width  \\\n",
       "0    Passenger               21.50          1.8       140.0      101.2   67.3   \n",
       "1    Passenger               28.40          3.2       225.0      108.1   70.3   \n",
       "2    Passenger                 NaN          3.2       225.0      106.9   70.6   \n",
       "3    Passenger               42.00          3.5       210.0      114.6   71.4   \n",
       "4    Passenger               23.99          1.8       150.0      102.6   68.2   \n",
       "\n",
       "   Length  Curb weight  Fuel_capacity  Fuel_efficiency  \n",
       "0   172.4        2.639           13.2             28.0  \n",
       "1   192.9        3.517           17.2             25.0  \n",
       "2   192.0        3.470           17.2             26.0  \n",
       "3   196.6        3.850           18.0             22.0  \n",
       "4   178.0        2.998           16.4             27.0  "
      ]
     },
     "execution_count": 6,
     "metadata": {},
     "output_type": "execute_result"
    }
   ],
   "source": [
    "df.head()"
   ]
  },
  {
   "cell_type": "code",
   "execution_count": 7,
   "id": "48b9c7db",
   "metadata": {},
   "outputs": [
    {
     "data": {
      "text/plain": [
       "(157, 14)"
      ]
     },
     "execution_count": 7,
     "metadata": {},
     "output_type": "execute_result"
    }
   ],
   "source": [
    "df.shape      #rows,columns"
   ]
  },
  {
   "cell_type": "code",
   "execution_count": 8,
   "id": "11de1b67",
   "metadata": {},
   "outputs": [
    {
     "name": "stdout",
     "output_type": "stream",
     "text": [
      "<class 'pandas.core.frame.DataFrame'>\n",
      "RangeIndex: 157 entries, 0 to 156\n",
      "Data columns (total 14 columns):\n",
      " #   Column                  Non-Null Count  Dtype  \n",
      "---  ------                  --------------  -----  \n",
      " 0   Manufacturer            157 non-null    object \n",
      " 1   Model                   157 non-null    object \n",
      " 2   Sales_in_thousands      157 non-null    float64\n",
      " 3   four_year_resale_value  121 non-null    float64\n",
      " 4   Vehicle_type            157 non-null    object \n",
      " 5   Price_in_thousands      155 non-null    float64\n",
      " 6   Engine_size             156 non-null    float64\n",
      " 7   Horsepower              156 non-null    float64\n",
      " 8   Wheelbase               156 non-null    float64\n",
      " 9   Width                   156 non-null    float64\n",
      " 10  Length                  156 non-null    float64\n",
      " 11  Curb weight             155 non-null    float64\n",
      " 12  Fuel_capacity           156 non-null    float64\n",
      " 13  Fuel_efficiency         154 non-null    float64\n",
      "dtypes: float64(11), object(3)\n",
      "memory usage: 17.3+ KB\n"
     ]
    }
   ],
   "source": [
    "df.info()"
   ]
  },
  {
   "cell_type": "code",
   "execution_count": 9,
   "id": "48001d7c",
   "metadata": {},
   "outputs": [
    {
     "data": {
      "text/plain": [
       "Index(['Manufacturer', 'Model', 'Sales_in_thousands', 'four_year_resale_value',\n",
       "       'Vehicle_type', 'Price_in_thousands', 'Engine_size', 'Horsepower',\n",
       "       'Wheelbase', 'Width', 'Length', 'Curb weight', 'Fuel_capacity',\n",
       "       'Fuel_efficiency'],\n",
       "      dtype='object')"
      ]
     },
     "execution_count": 9,
     "metadata": {},
     "output_type": "execute_result"
    }
   ],
   "source": [
    "df.columns    #column names "
   ]
  },
  {
   "cell_type": "markdown",
   "id": "adee41fa",
   "metadata": {},
   "source": [
    "### EDA"
   ]
  },
  {
   "cell_type": "markdown",
   "id": "f9322002",
   "metadata": {},
   "source": [
    "#### univariate analysis"
   ]
  },
  {
   "cell_type": "markdown",
   "id": "07201e16",
   "metadata": {},
   "source": [
    "#### catagorical variable\n",
    "<pre>\n",
    "unique value\n",
    "missing value\n",
    "count\n",
    "frequencies\n",
    "mode\n",
    "whether a variable is important or not"
   ]
  },
  {
   "cell_type": "code",
   "execution_count": 10,
   "id": "2c1a1048",
   "metadata": {},
   "outputs": [
    {
     "data": {
      "text/plain": [
       "Manufacturer               object\n",
       "Model                      object\n",
       "Sales_in_thousands        float64\n",
       "four_year_resale_value    float64\n",
       "Vehicle_type               object\n",
       "Price_in_thousands        float64\n",
       "Engine_size               float64\n",
       "Horsepower                float64\n",
       "Wheelbase                 float64\n",
       "Width                     float64\n",
       "Length                    float64\n",
       "Curb weight               float64\n",
       "Fuel_capacity             float64\n",
       "Fuel_efficiency           float64\n",
       "dtype: object"
      ]
     },
     "execution_count": 10,
     "metadata": {},
     "output_type": "execute_result"
    }
   ],
   "source": [
    "df.dtypes"
   ]
  },
  {
   "cell_type": "code",
   "execution_count": 11,
   "id": "baf77edd",
   "metadata": {},
   "outputs": [
    {
     "data": {
      "text/plain": [
       "Manufacturer    object\n",
       "Model           object\n",
       "Vehicle_type    object\n",
       "dtype: object"
      ]
     },
     "execution_count": 11,
     "metadata": {},
     "output_type": "execute_result"
    }
   ],
   "source": [
    "df.dtypes[df.dtypes==\"object\"]"
   ]
  },
  {
   "cell_type": "code",
   "execution_count": 12,
   "id": "0ca327fc",
   "metadata": {},
   "outputs": [
    {
     "data": {
      "text/plain": [
       "Index(['Manufacturer', 'Model', 'Vehicle_type'], dtype='object')"
      ]
     },
     "execution_count": 12,
     "metadata": {},
     "output_type": "execute_result"
    }
   ],
   "source": [
    "df.dtypes[df.dtypes==\"object\"].index"
   ]
  },
  {
   "cell_type": "code",
   "execution_count": 13,
   "id": "510084a9",
   "metadata": {
    "scrolled": true
   },
   "outputs": [
    {
     "data": {
      "text/plain": [
       "Index(['Sales_in_thousands', 'four_year_resale_value', 'Price_in_thousands',\n",
       "       'Engine_size', 'Horsepower', 'Wheelbase', 'Width', 'Length',\n",
       "       'Curb weight', 'Fuel_capacity', 'Fuel_efficiency'],\n",
       "      dtype='object')"
      ]
     },
     "execution_count": 13,
     "metadata": {},
     "output_type": "execute_result"
    }
   ],
   "source": [
    "df.dtypes[df.dtypes!=\"object\"].index"
   ]
  },
  {
   "cell_type": "code",
   "execution_count": 92,
   "id": "b4c91e0d",
   "metadata": {},
   "outputs": [
    {
     "data": {
      "text/plain": [
       "Sales_in_thousands        float64\n",
       "four_year_resale_value    float64\n",
       "Price_in_thousands        float64\n",
       "Engine_size               float64\n",
       "Horsepower                float64\n",
       "Wheelbase                 float64\n",
       "Width                     float64\n",
       "Length                    float64\n",
       "Curb weight               float64\n",
       "Fuel_capacity             float64\n",
       "Fuel_efficiency           float64\n",
       "dtype: object"
      ]
     },
     "execution_count": 92,
     "metadata": {},
     "output_type": "execute_result"
    }
   ],
   "source": [
    "df.dtypes[df.dtypes!=\"object\"]"
   ]
  },
  {
   "cell_type": "code",
   "execution_count": 93,
   "id": "0f0ff104",
   "metadata": {},
   "outputs": [
    {
     "data": {
      "text/plain": [
       "30"
      ]
     },
     "execution_count": 93,
     "metadata": {},
     "output_type": "execute_result"
    }
   ],
   "source": [
    "# manufacturer ,model, vehicle _type\n",
    "df[\"Manufacturer\"].nunique()   # this gives us the unique count of manufacturer"
   ]
  },
  {
   "cell_type": "code",
   "execution_count": 94,
   "id": "4434d2cb",
   "metadata": {},
   "outputs": [
    {
     "data": {
      "text/plain": [
       "array(['Acura', 'Audi', 'BMW', 'Buick', 'Cadillac', 'Chevrolet',\n",
       "       'Chrysler', 'Dodge', 'Ford', 'Honda', 'Hyundai', 'Infiniti',\n",
       "       'Jaguar', 'Jeep', 'Lexus', 'Lincoln', 'Mitsubishi', 'Mercury',\n",
       "       'Mercedes-B', 'Nissan', 'Oldsmobile', 'Plymouth', 'Pontiac',\n",
       "       'Porsche', 'Saab', 'Saturn', 'Subaru', 'Toyota', 'Volkswagen',\n",
       "       'Volvo'], dtype=object)"
      ]
     },
     "execution_count": 94,
     "metadata": {},
     "output_type": "execute_result"
    }
   ],
   "source": [
    "df[\"Manufacturer\"].unique()  #this gives us the list of  unique catagories\n"
   ]
  },
  {
   "cell_type": "code",
   "execution_count": 95,
   "id": "414bbf4c",
   "metadata": {},
   "outputs": [
    {
     "data": {
      "text/plain": [
       "Manufacturer\n",
       "Dodge         11\n",
       "Ford          11\n",
       "Toyota         9\n",
       "Chevrolet      9\n",
       "Mercedes-B     9\n",
       "Mitsubishi     7\n",
       "Nissan         7\n",
       "Chrysler       7\n",
       "Volvo          6\n",
       "Oldsmobile     6\n",
       "Lexus          6\n",
       "Mercury        6\n",
       "Pontiac        6\n",
       "Volkswagen     6\n",
       "Saturn         5\n",
       "Cadillac       5\n",
       "Honda          5\n",
       "Plymouth       4\n",
       "Acura          4\n",
       "Buick          4\n",
       "Audi           3\n",
       "Jeep           3\n",
       "Porsche        3\n",
       "Hyundai        3\n",
       "BMW            3\n",
       "Lincoln        3\n",
       "Saab           2\n",
       "Subaru         2\n",
       "Jaguar         1\n",
       "Infiniti       1\n",
       "Name: count, dtype: int64"
      ]
     },
     "execution_count": 95,
     "metadata": {},
     "output_type": "execute_result"
    }
   ],
   "source": [
    "df[\"Manufacturer\"].value_counts()"
   ]
  },
  {
   "cell_type": "code",
   "execution_count": 96,
   "id": "a2af8cf8",
   "metadata": {},
   "outputs": [
    {
     "data": {
      "text/plain": [
       "Manufacturer\n",
       "Dodge         0.070064\n",
       "Ford          0.070064\n",
       "Toyota        0.057325\n",
       "Chevrolet     0.057325\n",
       "Mercedes-B    0.057325\n",
       "Mitsubishi    0.044586\n",
       "Nissan        0.044586\n",
       "Chrysler      0.044586\n",
       "Volvo         0.038217\n",
       "Oldsmobile    0.038217\n",
       "Lexus         0.038217\n",
       "Mercury       0.038217\n",
       "Pontiac       0.038217\n",
       "Volkswagen    0.038217\n",
       "Saturn        0.031847\n",
       "Cadillac      0.031847\n",
       "Honda         0.031847\n",
       "Plymouth      0.025478\n",
       "Acura         0.025478\n",
       "Buick         0.025478\n",
       "Audi          0.019108\n",
       "Jeep          0.019108\n",
       "Porsche       0.019108\n",
       "Hyundai       0.019108\n",
       "BMW           0.019108\n",
       "Lincoln       0.019108\n",
       "Saab          0.012739\n",
       "Subaru        0.012739\n",
       "Jaguar        0.006369\n",
       "Infiniti      0.006369\n",
       "Name: proportion, dtype: float64"
      ]
     },
     "execution_count": 96,
     "metadata": {},
     "output_type": "execute_result"
    }
   ],
   "source": [
    "df[\"Manufacturer\"].value_counts(normalize=True) #percentage"
   ]
  },
  {
   "cell_type": "code",
   "execution_count": 97,
   "id": "17ee0a75",
   "metadata": {},
   "outputs": [
    {
     "data": {
      "text/plain": [
       "<Axes: xlabel='Manufacturer'>"
      ]
     },
     "execution_count": 97,
     "metadata": {},
     "output_type": "execute_result"
    },
    {
     "data": {
      "image/png": "[encoded data removed]",
      "text/plain": [
       "<Figure size 640x480 with 1 Axes>"
      ]
     },
     "metadata": {},
     "output_type": "display_data"
    }
   ],
   "source": [
    "df[\"Manufacturer\"].value_counts().plot(kind=\"bar\")"
   ]
  },
  {
   "cell_type": "code",
   "execution_count": 98,
   "id": "a1eb8c97",
   "metadata": {},
   "outputs": [
    {
     "data": {
      "text/plain": [
       "156"
      ]
     },
     "execution_count": 98,
     "metadata": {},
     "output_type": "execute_result"
    }
   ],
   "source": [
    "df[\"Model\"].nunique()"
   ]
  },
  {
   "cell_type": "code",
   "execution_count": 99,
   "id": "398ab569",
   "metadata": {},
   "outputs": [
    {
     "data": {
      "text/plain": [
       "array(['Integra', 'TL', 'CL', 'RL', 'A4', 'A6', 'A8', '323i', '328i',\n",
       "       '528i', 'Century', 'Regal', 'Park Avenue', 'LeSabre', 'DeVille',\n",
       "       'Seville', 'Eldorado', 'Catera', 'Escalade', 'Cavalier', 'Malibu',\n",
       "       'Lumina', 'Monte Carlo', 'Camaro', 'Corvette', 'Prizm', 'Metro',\n",
       "       'Impala', 'Sebring Coupe', 'Sebring Conv.', 'Concorde', 'Cirrus',\n",
       "       'LHS', 'Town & Country', '300M', 'Neon', 'Avenger', 'Stratus',\n",
       "       'Intrepid', 'Viper', 'Ram Pickup', 'Ram Wagon', 'Ram Van',\n",
       "       'Dakota', 'Durango', 'Caravan', 'Escort', 'Mustang', 'Contour',\n",
       "       'Taurus', 'Focus', 'Crown Victoria', 'Explorer', 'Windstar',\n",
       "       'Expedition', 'Ranger', 'F-Series', 'Civic', 'Accord', 'CR-V',\n",
       "       'Passport', 'Odyssey', 'Accent', 'Elantra', 'Sonata', 'I30',\n",
       "       'S-Type', 'Wrangler', 'Cherokee', 'Grand Cherokee', 'ES300',\n",
       "       'GS300', 'GS400', 'LS400', 'LX470', 'RX300', 'Continental',\n",
       "       'Town car', 'Navigator', 'Mirage', 'Eclipse', 'Galant', 'Diamante',\n",
       "       '3000GT', 'Montero', 'Montero Sport', 'Mystique', 'Cougar',\n",
       "       'Sable', 'Grand Marquis', 'Mountaineer', 'Villager', 'C-Class',\n",
       "       'E-Class', 'S-Class', 'SL-Class', 'SLK', 'SLK230', 'CLK Coupe',\n",
       "       'CL500', 'M-Class', 'Sentra', 'Altima', 'Maxima', 'Quest',\n",
       "       'Pathfinder', 'Xterra', 'Frontier', 'Cutlass', 'Intrigue', 'Alero',\n",
       "       'Aurora', 'Bravada', 'Silhouette', 'Breeze', 'Voyager', 'Prowler',\n",
       "       'Sunfire', 'Grand Am', 'Firebird', 'Grand Prix', 'Bonneville',\n",
       "       'Montana', 'Boxter', 'Carrera Coupe', 'Carrera Cabrio', '05-Sep',\n",
       "       '03-Sep', 'SL', 'SC', 'SW', 'LW', 'LS', 'Outback', 'Forester',\n",
       "       'Corolla', 'Camry', 'Avalon', 'Celica', 'Tacoma', 'Sienna', 'RAV4',\n",
       "       '4Runner', 'Land Cruiser', 'Golf', 'Jetta', 'Passat', 'Cabrio',\n",
       "       'GTI', 'Beetle', 'S40', 'V40', 'S70', 'V70', 'C70', 'S80'],\n",
       "      dtype=object)"
      ]
     },
     "execution_count": 99,
     "metadata": {},
     "output_type": "execute_result"
    }
   ],
   "source": [
    "df[\"Model\"].unique()"
   ]
  },
  {
   "cell_type": "code",
   "execution_count": 100,
   "id": "87bb8121",
   "metadata": {},
   "outputs": [
    {
     "data": {
      "text/plain": [
       "Model\n",
       "Neon          2\n",
       "Integra       1\n",
       "Cutlass       1\n",
       "Sentra        1\n",
       "Altima        1\n",
       "             ..\n",
       "Windstar      1\n",
       "Expedition    1\n",
       "Ranger        1\n",
       "F-Series      1\n",
       "S80           1\n",
       "Name: count, Length: 156, dtype: int64"
      ]
     },
     "execution_count": 100,
     "metadata": {},
     "output_type": "execute_result"
    }
   ],
   "source": [
    "df[\"Model\"].value_counts()"
   ]
  },
  {
   "cell_type": "code",
   "execution_count": 101,
   "id": "5b0b9c0c",
   "metadata": {},
   "outputs": [],
   "source": [
    "df.drop(columns=[\"Model\"], inplace=True)"
   ]
  },
  {
   "cell_type": "code",
   "execution_count": 102,
   "id": "53e6b3e1",
   "metadata": {},
   "outputs": [
    {
     "data": {
      "text/plain": [
       "2"
      ]
     },
     "execution_count": 102,
     "metadata": {},
     "output_type": "execute_result"
    }
   ],
   "source": [
    "df[\"Vehicle_type\"].nunique()"
   ]
  },
  {
   "cell_type": "code",
   "execution_count": 103,
   "id": "fc38c340",
   "metadata": {},
   "outputs": [
    {
     "data": {
      "text/plain": [
       "array(['Passenger', 'Car'], dtype=object)"
      ]
     },
     "execution_count": 103,
     "metadata": {},
     "output_type": "execute_result"
    }
   ],
   "source": [
    "df[\"Vehicle_type\"].unique()"
   ]
  },
  {
   "cell_type": "code",
   "execution_count": 104,
   "id": "5610ecbd",
   "metadata": {
    "scrolled": true
   },
   "outputs": [
    {
     "data": {
      "text/plain": [
       "Vehicle_type\n",
       "Passenger    116\n",
       "Car           41\n",
       "Name: count, dtype: int64"
      ]
     },
     "execution_count": 104,
     "metadata": {},
     "output_type": "execute_result"
    }
   ],
   "source": [
    "df[\"Vehicle_type\"].value_counts()"
   ]
  },
  {
   "cell_type": "code",
   "execution_count": 105,
   "id": "7a48cd59",
   "metadata": {},
   "outputs": [
    {
     "data": {
      "text/plain": [
       "<Axes: xlabel='Vehicle_type'>"
      ]
     },
     "execution_count": 105,
     "metadata": {},
     "output_type": "execute_result"
    },
    {
     "data": {
      "image/png": "[encoded data removed]",
      "text/plain": [
       "<Figure size 640x480 with 1 Axes>"
      ]
     },
     "metadata": {},
     "output_type": "display_data"
    }
   ],
   "source": [
    "df[\"Vehicle_type\"].value_counts().plot(kind=\"bar\")   #bar"
   ]
  },
  {
   "cell_type": "code",
   "execution_count": null,
   "id": "5855fb82",
   "metadata": {},
   "outputs": [],
   "source": []
  },
  {
   "cell_type": "markdown",
   "id": "64c0fecb",
   "metadata": {},
   "source": [
    "### Numerical columns"
   ]
  },
  {
   "cell_type": "code",
   "execution_count": 106,
   "id": "cea81fcd",
   "metadata": {},
   "outputs": [
    {
     "data": {
      "text/plain": [
       "Index(['Sales_in_thousands', 'four_year_resale_value', 'Price_in_thousands',\n",
       "       'Engine_size', 'Horsepower', 'Wheelbase', 'Width', 'Length',\n",
       "       'Curb weight', 'Fuel_capacity', 'Fuel_efficiency'],\n",
       "      dtype='object')"
      ]
     },
     "execution_count": 106,
     "metadata": {},
     "output_type": "execute_result"
    }
   ],
   "source": [
    "df.dtypes[df.dtypes!=\"object\"].index"
   ]
  },
  {
   "cell_type": "code",
   "execution_count": 107,
   "id": "713d67da",
   "metadata": {},
   "outputs": [
    {
     "data": {
      "text/plain": [
       "0.11"
      ]
     },
     "execution_count": 107,
     "metadata": {},
     "output_type": "execute_result"
    }
   ],
   "source": [
    "df[\"Sales_in_thousands\"].min()"
   ]
  },
  {
   "cell_type": "code",
   "execution_count": 108,
   "id": "c3f84cc3",
   "metadata": {},
   "outputs": [
    {
     "data": {
      "text/plain": [
       "110.0"
      ]
     },
     "execution_count": 108,
     "metadata": {},
     "output_type": "execute_result"
    }
   ],
   "source": [
    "0.11*1000"
   ]
  },
  {
   "cell_type": "code",
   "execution_count": 109,
   "id": "ec5d3b22",
   "metadata": {},
   "outputs": [
    {
     "data": {
      "text/plain": [
       "540.561"
      ]
     },
     "execution_count": 109,
     "metadata": {},
     "output_type": "execute_result"
    }
   ],
   "source": [
    "df[\"Sales_in_thousands\"].max()"
   ]
  },
  {
   "cell_type": "code",
   "execution_count": 110,
   "id": "a0406fa8",
   "metadata": {},
   "outputs": [
    {
     "data": {
      "text/html": [
       "<div>\n",
       "<style scoped>\n",
       "    .dataframe tbody tr th:only-of-type {\n",
       "        vertical-align: middle;\n",
       "    }\n",
       "\n",
       "    .dataframe tbody tr th {\n",
       "        vertical-align: top;\n",
       "    }\n",
       "\n",
       "    .dataframe thead th {\n",
       "        text-align: right;\n",
       "    }\n",
       "</style>\n",
       "<table border=\"1\" class=\"dataframe\">\n",
       "  <thead>\n",
       "    <tr style=\"text-align: right;\">\n",
       "      <th></th>\n",
       "      <th>Manufacturer</th>\n",
       "      <th>Sales_in_thousands</th>\n",
       "      <th>four_year_resale_value</th>\n",
       "      <th>Vehicle_type</th>\n",
       "      <th>Price_in_thousands</th>\n",
       "      <th>Engine_size</th>\n",
       "      <th>Horsepower</th>\n",
       "      <th>Wheelbase</th>\n",
       "      <th>Width</th>\n",
       "      <th>Length</th>\n",
       "      <th>Curb weight</th>\n",
       "      <th>Fuel_capacity</th>\n",
       "      <th>Fuel_efficiency</th>\n",
       "    </tr>\n",
       "  </thead>\n",
       "  <tbody>\n",
       "    <tr>\n",
       "      <th>83</th>\n",
       "      <td>Mitsubishi</td>\n",
       "      <td>0.11</td>\n",
       "      <td>20.94</td>\n",
       "      <td>Passenger</td>\n",
       "      <td>25.45</td>\n",
       "      <td>3.0</td>\n",
       "      <td>161.0</td>\n",
       "      <td>97.2</td>\n",
       "      <td>72.4</td>\n",
       "      <td>180.3</td>\n",
       "      <td>3.131</td>\n",
       "      <td>19.8</td>\n",
       "      <td>21.0</td>\n",
       "    </tr>\n",
       "  </tbody>\n",
       "</table>\n",
       "</div>"
      ],
      "text/plain": [
       "   Manufacturer  Sales_in_thousands  four_year_resale_value Vehicle_type  \\\n",
       "83   Mitsubishi                0.11                   20.94    Passenger   \n",
       "\n",
       "    Price_in_thousands  Engine_size  Horsepower  Wheelbase  Width  Length  \\\n",
       "83               25.45          3.0       161.0       97.2   72.4   180.3   \n",
       "\n",
       "    Curb weight  Fuel_capacity  Fuel_efficiency  \n",
       "83        3.131           19.8             21.0  "
      ]
     },
     "execution_count": 110,
     "metadata": {},
     "output_type": "execute_result"
    }
   ],
   "source": [
    "df[(df[\"Sales_in_thousands\"]==.11)]"
   ]
  },
  {
   "cell_type": "code",
   "execution_count": 111,
   "id": "81564dfe",
   "metadata": {},
   "outputs": [
    {
     "data": {
      "text/html": [
       "<div>\n",
       "<style scoped>\n",
       "    .dataframe tbody tr th:only-of-type {\n",
       "        vertical-align: middle;\n",
       "    }\n",
       "\n",
       "    .dataframe tbody tr th {\n",
       "        vertical-align: top;\n",
       "    }\n",
       "\n",
       "    .dataframe thead th {\n",
       "        text-align: right;\n",
       "    }\n",
       "</style>\n",
       "<table border=\"1\" class=\"dataframe\">\n",
       "  <thead>\n",
       "    <tr style=\"text-align: right;\">\n",
       "      <th></th>\n",
       "      <th>Manufacturer</th>\n",
       "      <th>Sales_in_thousands</th>\n",
       "      <th>four_year_resale_value</th>\n",
       "      <th>Vehicle_type</th>\n",
       "      <th>Price_in_thousands</th>\n",
       "      <th>Engine_size</th>\n",
       "      <th>Horsepower</th>\n",
       "      <th>Wheelbase</th>\n",
       "      <th>Width</th>\n",
       "      <th>Length</th>\n",
       "      <th>Curb weight</th>\n",
       "      <th>Fuel_capacity</th>\n",
       "      <th>Fuel_efficiency</th>\n",
       "    </tr>\n",
       "  </thead>\n",
       "  <tbody>\n",
       "    <tr>\n",
       "      <th>56</th>\n",
       "      <td>Ford</td>\n",
       "      <td>540.561</td>\n",
       "      <td>15.075</td>\n",
       "      <td>Car</td>\n",
       "      <td>26.935</td>\n",
       "      <td>4.6</td>\n",
       "      <td>220.0</td>\n",
       "      <td>138.5</td>\n",
       "      <td>79.1</td>\n",
       "      <td>224.5</td>\n",
       "      <td>4.241</td>\n",
       "      <td>25.1</td>\n",
       "      <td>18.0</td>\n",
       "    </tr>\n",
       "  </tbody>\n",
       "</table>\n",
       "</div>"
      ],
      "text/plain": [
       "   Manufacturer  Sales_in_thousands  four_year_resale_value Vehicle_type  \\\n",
       "56         Ford             540.561                  15.075          Car   \n",
       "\n",
       "    Price_in_thousands  Engine_size  Horsepower  Wheelbase  Width  Length  \\\n",
       "56              26.935          4.6       220.0      138.5   79.1   224.5   \n",
       "\n",
       "    Curb weight  Fuel_capacity  Fuel_efficiency  \n",
       "56        4.241           25.1             18.0  "
      ]
     },
     "execution_count": 111,
     "metadata": {},
     "output_type": "execute_result"
    }
   ],
   "source": [
    "df[(df[\"Sales_in_thousands\"]==540.561)]"
   ]
  },
  {
   "cell_type": "code",
   "execution_count": 112,
   "id": "09b64991",
   "metadata": {},
   "outputs": [
    {
     "data": {
      "text/plain": [
       "52.99807643312102"
      ]
     },
     "execution_count": 112,
     "metadata": {},
     "output_type": "execute_result"
    }
   ],
   "source": [
    "df[\"Sales_in_thousands\"].mean()"
   ]
  },
  {
   "cell_type": "code",
   "execution_count": 113,
   "id": "77886397",
   "metadata": {},
   "outputs": [
    {
     "data": {
      "text/plain": [
       "68.02942199750512"
      ]
     },
     "execution_count": 113,
     "metadata": {},
     "output_type": "execute_result"
    }
   ],
   "source": [
    "df[\"Sales_in_thousands\"].std() #if mean > std = outlier"
   ]
  },
  {
   "cell_type": "code",
   "execution_count": 114,
   "id": "eb5abe34",
   "metadata": {},
   "outputs": [
    {
     "data": {
      "text/plain": [
       "3.408518366470572"
      ]
     },
     "execution_count": 114,
     "metadata": {},
     "output_type": "execute_result"
    }
   ],
   "source": [
    "df[\"Sales_in_thousands\"].skew() #+ive skewed/right skewed"
   ]
  },
  {
   "cell_type": "code",
   "execution_count": 115,
   "id": "6d81bc74",
   "metadata": {},
   "outputs": [
    {
     "data": {
      "image/png": "[encoded data removed]",
      "text/plain": [
       "<Figure size 640x480 with 1 Axes>"
      ]
     },
     "metadata": {},
     "output_type": "display_data"
    }
   ],
   "source": [
    "plt.hist(df[\"Sales_in_thousands\"])\n",
    "plt.show()"
   ]
  },
  {
   "cell_type": "code",
   "execution_count": 116,
   "id": "13795a1a",
   "metadata": {
    "scrolled": false
   },
   "outputs": [
    {
     "name": "stderr",
     "output_type": "stream",
     "text": [
      "C:\\Users\\HP\\AppData\\Local\\Temp\\ipykernel_24496\\4290121328.py:1: UserWarning: \n",
      "\n",
      "`distplot` is a deprecated function and will be removed in seaborn v0.14.0.\n",
      "\n",
      "Please adapt your code to use either `displot` (a figure-level function with\n",
      "similar flexibility) or `histplot` (an axes-level function for histograms).\n",
      "\n",
      "For a guide to updating your code to use the new functions, please see\n",
      "https://gist.github.com/mwaskom/de44147ed2974457ad6372750bbe5751\n",
      "\n",
      "  sns.distplot(df[\"Sales_in_thousands\"])\n"
     ]
    },
    {
     "data": {
      "image/png": "[encoded data removed]",
      "text/plain": [
       "<Figure size 640x480 with 1 Axes>"
      ]
     },
     "metadata": {},
     "output_type": "display_data"
    }
   ],
   "source": [
    "sns.distplot(df[\"Sales_in_thousands\"])\n",
    "plt.show()"
   ]
  },
  {
   "cell_type": "code",
   "execution_count": 117,
   "id": "d82806dd",
   "metadata": {},
   "outputs": [
    {
     "data": {
      "image/png": "[encoded data removed]",
      "text/plain": [
       "<Figure size 640x480 with 1 Axes>"
      ]
     },
     "metadata": {},
     "output_type": "display_data"
    }
   ],
   "source": [
    "sns.histplot(df[\"Sales_in_thousands\"])\n",
    "plt.show()"
   ]
  },
  {
   "cell_type": "code",
   "execution_count": 118,
   "id": "843e2b1b",
   "metadata": {},
   "outputs": [
    {
     "data": {
      "text/plain": [
       "5.16"
      ]
     },
     "execution_count": 118,
     "metadata": {},
     "output_type": "execute_result"
    }
   ],
   "source": [
    "df[\"four_year_resale_value\"].min()"
   ]
  },
  {
   "cell_type": "code",
   "execution_count": 119,
   "id": "efc8272d",
   "metadata": {},
   "outputs": [
    {
     "data": {
      "text/plain": [
       "67.55"
      ]
     },
     "execution_count": 119,
     "metadata": {},
     "output_type": "execute_result"
    }
   ],
   "source": [
    "df[\"four_year_resale_value\"].max()"
   ]
  },
  {
   "cell_type": "code",
   "execution_count": 120,
   "id": "0996877e",
   "metadata": {},
   "outputs": [
    {
     "data": {
      "text/plain": [
       "18.07297520661157"
      ]
     },
     "execution_count": 120,
     "metadata": {},
     "output_type": "execute_result"
    }
   ],
   "source": [
    "df[\"four_year_resale_value\"].mean()"
   ]
  },
  {
   "cell_type": "code",
   "execution_count": 121,
   "id": "a76c2e02",
   "metadata": {},
   "outputs": [
    {
     "data": {
      "text/plain": [
       "11.453384099225005"
      ]
     },
     "execution_count": 121,
     "metadata": {},
     "output_type": "execute_result"
    }
   ],
   "source": [
    "df[\"four_year_resale_value\"].std()"
   ]
  },
  {
   "cell_type": "code",
   "execution_count": 122,
   "id": "5a9c550c",
   "metadata": {},
   "outputs": [
    {
     "data": {
      "text/plain": [
       "2.2949154931263167"
      ]
     },
     "execution_count": 122,
     "metadata": {},
     "output_type": "execute_result"
    }
   ],
   "source": [
    "df[\"four_year_resale_value\"].skew()"
   ]
  },
  {
   "cell_type": "code",
   "execution_count": 123,
   "id": "998cc99f",
   "metadata": {},
   "outputs": [
    {
     "data": {
      "image/png": "[encoded data removed]",
      "text/plain": [
       "<Figure size 640x480 with 1 Axes>"
      ]
     },
     "metadata": {},
     "output_type": "display_data"
    }
   ],
   "source": [
    "sns.histplot(df[\"four_year_resale_value\"])\n",
    "plt.show()"
   ]
  },
  {
   "cell_type": "code",
   "execution_count": 124,
   "id": "b37cf93f",
   "metadata": {},
   "outputs": [
    {
     "name": "stderr",
     "output_type": "stream",
     "text": [
      "C:\\Users\\HP\\AppData\\Local\\Temp\\ipykernel_24496\\3422777063.py:1: UserWarning: \n",
      "\n",
      "`distplot` is a deprecated function and will be removed in seaborn v0.14.0.\n",
      "\n",
      "Please adapt your code to use either `displot` (a figure-level function with\n",
      "similar flexibility) or `histplot` (an axes-level function for histograms).\n",
      "\n",
      "For a guide to updating your code to use the new functions, please see\n",
      "https://gist.github.com/mwaskom/de44147ed2974457ad6372750bbe5751\n",
      "\n",
      "  sns.distplot(df[\"four_year_resale_value\"])\n"
     ]
    },
    {
     "data": {
      "image/png": "[encoded data removed]",
      "text/plain": [
       "<Figure size 640x480 with 1 Axes>"
      ]
     },
     "metadata": {},
     "output_type": "display_data"
    }
   ],
   "source": [
    "\n",
    "sns.distplot(df[\"four_year_resale_value\"])\n",
    "plt.show()"
   ]
  },
  {
   "cell_type": "markdown",
   "id": "a644bf76",
   "metadata": {},
   "source": [
    "### Insight of resale value\n",
    "<pre>\n",
    "1. Positively skewed\n",
    "2.Avg Value=18 and STD=11\n",
    "Min vlue 5.16 max value 67.55"
   ]
  },
  {
   "cell_type": "code",
   "execution_count": 125,
   "id": "f775455f",
   "metadata": {},
   "outputs": [
    {
     "data": {
      "text/html": [
       "<div>\n",
       "<style scoped>\n",
       "    .dataframe tbody tr th:only-of-type {\n",
       "        vertical-align: middle;\n",
       "    }\n",
       "\n",
       "    .dataframe tbody tr th {\n",
       "        vertical-align: top;\n",
       "    }\n",
       "\n",
       "    .dataframe thead th {\n",
       "        text-align: right;\n",
       "    }\n",
       "</style>\n",
       "<table border=\"1\" class=\"dataframe\">\n",
       "  <thead>\n",
       "    <tr style=\"text-align: right;\">\n",
       "      <th></th>\n",
       "      <th>Sales_in_thousands</th>\n",
       "      <th>four_year_resale_value</th>\n",
       "      <th>Price_in_thousands</th>\n",
       "      <th>Engine_size</th>\n",
       "      <th>Horsepower</th>\n",
       "      <th>Wheelbase</th>\n",
       "      <th>Width</th>\n",
       "      <th>Length</th>\n",
       "      <th>Curb weight</th>\n",
       "      <th>Fuel_capacity</th>\n",
       "      <th>Fuel_efficiency</th>\n",
       "    </tr>\n",
       "  </thead>\n",
       "  <tbody>\n",
       "    <tr>\n",
       "      <th>count</th>\n",
       "      <td>157.000000</td>\n",
       "      <td>121.000000</td>\n",
       "      <td>155.000000</td>\n",
       "      <td>156.000000</td>\n",
       "      <td>156.000000</td>\n",
       "      <td>156.000000</td>\n",
       "      <td>156.000000</td>\n",
       "      <td>156.000000</td>\n",
       "      <td>155.000000</td>\n",
       "      <td>156.000000</td>\n",
       "      <td>154.000000</td>\n",
       "    </tr>\n",
       "    <tr>\n",
       "      <th>mean</th>\n",
       "      <td>52.998076</td>\n",
       "      <td>18.072975</td>\n",
       "      <td>27.390755</td>\n",
       "      <td>3.060897</td>\n",
       "      <td>185.948718</td>\n",
       "      <td>107.487179</td>\n",
       "      <td>71.150000</td>\n",
       "      <td>187.343590</td>\n",
       "      <td>3.378026</td>\n",
       "      <td>17.951923</td>\n",
       "      <td>23.844156</td>\n",
       "    </tr>\n",
       "    <tr>\n",
       "      <th>std</th>\n",
       "      <td>68.029422</td>\n",
       "      <td>11.453384</td>\n",
       "      <td>14.351653</td>\n",
       "      <td>1.044653</td>\n",
       "      <td>56.700321</td>\n",
       "      <td>7.641303</td>\n",
       "      <td>3.451872</td>\n",
       "      <td>13.431754</td>\n",
       "      <td>0.630502</td>\n",
       "      <td>3.887921</td>\n",
       "      <td>4.282706</td>\n",
       "    </tr>\n",
       "    <tr>\n",
       "      <th>min</th>\n",
       "      <td>0.110000</td>\n",
       "      <td>5.160000</td>\n",
       "      <td>9.235000</td>\n",
       "      <td>1.000000</td>\n",
       "      <td>55.000000</td>\n",
       "      <td>92.600000</td>\n",
       "      <td>62.600000</td>\n",
       "      <td>149.400000</td>\n",
       "      <td>1.895000</td>\n",
       "      <td>10.300000</td>\n",
       "      <td>15.000000</td>\n",
       "    </tr>\n",
       "    <tr>\n",
       "      <th>25%</th>\n",
       "      <td>14.114000</td>\n",
       "      <td>11.260000</td>\n",
       "      <td>18.017500</td>\n",
       "      <td>2.300000</td>\n",
       "      <td>149.500000</td>\n",
       "      <td>103.000000</td>\n",
       "      <td>68.400000</td>\n",
       "      <td>177.575000</td>\n",
       "      <td>2.971000</td>\n",
       "      <td>15.800000</td>\n",
       "      <td>21.000000</td>\n",
       "    </tr>\n",
       "    <tr>\n",
       "      <th>50%</th>\n",
       "      <td>29.450000</td>\n",
       "      <td>14.180000</td>\n",
       "      <td>22.799000</td>\n",
       "      <td>3.000000</td>\n",
       "      <td>177.500000</td>\n",
       "      <td>107.000000</td>\n",
       "      <td>70.550000</td>\n",
       "      <td>187.900000</td>\n",
       "      <td>3.342000</td>\n",
       "      <td>17.200000</td>\n",
       "      <td>24.000000</td>\n",
       "    </tr>\n",
       "    <tr>\n",
       "      <th>75%</th>\n",
       "      <td>67.956000</td>\n",
       "      <td>19.875000</td>\n",
       "      <td>31.947500</td>\n",
       "      <td>3.575000</td>\n",
       "      <td>215.000000</td>\n",
       "      <td>112.200000</td>\n",
       "      <td>73.425000</td>\n",
       "      <td>196.125000</td>\n",
       "      <td>3.799500</td>\n",
       "      <td>19.575000</td>\n",
       "      <td>26.000000</td>\n",
       "    </tr>\n",
       "    <tr>\n",
       "      <th>max</th>\n",
       "      <td>540.561000</td>\n",
       "      <td>67.550000</td>\n",
       "      <td>85.500000</td>\n",
       "      <td>8.000000</td>\n",
       "      <td>450.000000</td>\n",
       "      <td>138.700000</td>\n",
       "      <td>79.900000</td>\n",
       "      <td>224.500000</td>\n",
       "      <td>5.572000</td>\n",
       "      <td>32.000000</td>\n",
       "      <td>45.000000</td>\n",
       "    </tr>\n",
       "  </tbody>\n",
       "</table>\n",
       "</div>"
      ],
      "text/plain": [
       "       Sales_in_thousands  four_year_resale_value  Price_in_thousands  \\\n",
       "count          157.000000              121.000000          155.000000   \n",
       "mean            52.998076               18.072975           27.390755   \n",
       "std             68.029422               11.453384           14.351653   \n",
       "min              0.110000                5.160000            9.235000   \n",
       "25%             14.114000               11.260000           18.017500   \n",
       "50%             29.450000               14.180000           22.799000   \n",
       "75%             67.956000               19.875000           31.947500   \n",
       "max            540.561000               67.550000           85.500000   \n",
       "\n",
       "       Engine_size  Horsepower   Wheelbase       Width      Length  \\\n",
       "count   156.000000  156.000000  156.000000  156.000000  156.000000   \n",
       "mean      3.060897  185.948718  107.487179   71.150000  187.343590   \n",
       "std       1.044653   56.700321    7.641303    3.451872   13.431754   \n",
       "min       1.000000   55.000000   92.600000   62.600000  149.400000   \n",
       "25%       2.300000  149.500000  103.000000   68.400000  177.575000   \n",
       "50%       3.000000  177.500000  107.000000   70.550000  187.900000   \n",
       "75%       3.575000  215.000000  112.200000   73.425000  196.125000   \n",
       "max       8.000000  450.000000  138.700000   79.900000  224.500000   \n",
       "\n",
       "       Curb weight  Fuel_capacity  Fuel_efficiency  \n",
       "count   155.000000     156.000000       154.000000  \n",
       "mean      3.378026      17.951923        23.844156  \n",
       "std       0.630502       3.887921         4.282706  \n",
       "min       1.895000      10.300000        15.000000  \n",
       "25%       2.971000      15.800000        21.000000  \n",
       "50%       3.342000      17.200000        24.000000  \n",
       "75%       3.799500      19.575000        26.000000  \n",
       "max       5.572000      32.000000        45.000000  "
      ]
     },
     "execution_count": 125,
     "metadata": {},
     "output_type": "execute_result"
    }
   ],
   "source": [
    "df.describe() # it gives the summary ofall numerical columns in one frame"
   ]
  },
  {
   "cell_type": "code",
   "execution_count": 126,
   "id": "9c33bdad",
   "metadata": {},
   "outputs": [
    {
     "data": {
      "text/html": [
       "<div>\n",
       "<style scoped>\n",
       "    .dataframe tbody tr th:only-of-type {\n",
       "        vertical-align: middle;\n",
       "    }\n",
       "\n",
       "    .dataframe tbody tr th {\n",
       "        vertical-align: top;\n",
       "    }\n",
       "\n",
       "    .dataframe thead th {\n",
       "        text-align: right;\n",
       "    }\n",
       "</style>\n",
       "<table border=\"1\" class=\"dataframe\">\n",
       "  <thead>\n",
       "    <tr style=\"text-align: right;\">\n",
       "      <th></th>\n",
       "      <th>count</th>\n",
       "      <th>mean</th>\n",
       "      <th>std</th>\n",
       "      <th>min</th>\n",
       "      <th>25%</th>\n",
       "      <th>50%</th>\n",
       "      <th>75%</th>\n",
       "      <th>max</th>\n",
       "    </tr>\n",
       "  </thead>\n",
       "  <tbody>\n",
       "    <tr>\n",
       "      <th>Sales_in_thousands</th>\n",
       "      <td>157.0</td>\n",
       "      <td>52.998076</td>\n",
       "      <td>68.029422</td>\n",
       "      <td>0.110</td>\n",
       "      <td>14.1140</td>\n",
       "      <td>29.450</td>\n",
       "      <td>67.9560</td>\n",
       "      <td>540.561</td>\n",
       "    </tr>\n",
       "    <tr>\n",
       "      <th>four_year_resale_value</th>\n",
       "      <td>121.0</td>\n",
       "      <td>18.072975</td>\n",
       "      <td>11.453384</td>\n",
       "      <td>5.160</td>\n",
       "      <td>11.2600</td>\n",
       "      <td>14.180</td>\n",
       "      <td>19.8750</td>\n",
       "      <td>67.550</td>\n",
       "    </tr>\n",
       "    <tr>\n",
       "      <th>Price_in_thousands</th>\n",
       "      <td>155.0</td>\n",
       "      <td>27.390755</td>\n",
       "      <td>14.351653</td>\n",
       "      <td>9.235</td>\n",
       "      <td>18.0175</td>\n",
       "      <td>22.799</td>\n",
       "      <td>31.9475</td>\n",
       "      <td>85.500</td>\n",
       "    </tr>\n",
       "    <tr>\n",
       "      <th>Engine_size</th>\n",
       "      <td>156.0</td>\n",
       "      <td>3.060897</td>\n",
       "      <td>1.044653</td>\n",
       "      <td>1.000</td>\n",
       "      <td>2.3000</td>\n",
       "      <td>3.000</td>\n",
       "      <td>3.5750</td>\n",
       "      <td>8.000</td>\n",
       "    </tr>\n",
       "    <tr>\n",
       "      <th>Horsepower</th>\n",
       "      <td>156.0</td>\n",
       "      <td>185.948718</td>\n",
       "      <td>56.700321</td>\n",
       "      <td>55.000</td>\n",
       "      <td>149.5000</td>\n",
       "      <td>177.500</td>\n",
       "      <td>215.0000</td>\n",
       "      <td>450.000</td>\n",
       "    </tr>\n",
       "    <tr>\n",
       "      <th>Wheelbase</th>\n",
       "      <td>156.0</td>\n",
       "      <td>107.487179</td>\n",
       "      <td>7.641303</td>\n",
       "      <td>92.600</td>\n",
       "      <td>103.0000</td>\n",
       "      <td>107.000</td>\n",
       "      <td>112.2000</td>\n",
       "      <td>138.700</td>\n",
       "    </tr>\n",
       "    <tr>\n",
       "      <th>Width</th>\n",
       "      <td>156.0</td>\n",
       "      <td>71.150000</td>\n",
       "      <td>3.451872</td>\n",
       "      <td>62.600</td>\n",
       "      <td>68.4000</td>\n",
       "      <td>70.550</td>\n",
       "      <td>73.4250</td>\n",
       "      <td>79.900</td>\n",
       "    </tr>\n",
       "    <tr>\n",
       "      <th>Length</th>\n",
       "      <td>156.0</td>\n",
       "      <td>187.343590</td>\n",
       "      <td>13.431754</td>\n",
       "      <td>149.400</td>\n",
       "      <td>177.5750</td>\n",
       "      <td>187.900</td>\n",
       "      <td>196.1250</td>\n",
       "      <td>224.500</td>\n",
       "    </tr>\n",
       "    <tr>\n",
       "      <th>Curb weight</th>\n",
       "      <td>155.0</td>\n",
       "      <td>3.378026</td>\n",
       "      <td>0.630502</td>\n",
       "      <td>1.895</td>\n",
       "      <td>2.9710</td>\n",
       "      <td>3.342</td>\n",
       "      <td>3.7995</td>\n",
       "      <td>5.572</td>\n",
       "    </tr>\n",
       "    <tr>\n",
       "      <th>Fuel_capacity</th>\n",
       "      <td>156.0</td>\n",
       "      <td>17.951923</td>\n",
       "      <td>3.887921</td>\n",
       "      <td>10.300</td>\n",
       "      <td>15.8000</td>\n",
       "      <td>17.200</td>\n",
       "      <td>19.5750</td>\n",
       "      <td>32.000</td>\n",
       "    </tr>\n",
       "    <tr>\n",
       "      <th>Fuel_efficiency</th>\n",
       "      <td>154.0</td>\n",
       "      <td>23.844156</td>\n",
       "      <td>4.282706</td>\n",
       "      <td>15.000</td>\n",
       "      <td>21.0000</td>\n",
       "      <td>24.000</td>\n",
       "      <td>26.0000</td>\n",
       "      <td>45.000</td>\n",
       "    </tr>\n",
       "  </tbody>\n",
       "</table>\n",
       "</div>"
      ],
      "text/plain": [
       "                        count        mean        std      min       25%  \\\n",
       "Sales_in_thousands      157.0   52.998076  68.029422    0.110   14.1140   \n",
       "four_year_resale_value  121.0   18.072975  11.453384    5.160   11.2600   \n",
       "Price_in_thousands      155.0   27.390755  14.351653    9.235   18.0175   \n",
       "Engine_size             156.0    3.060897   1.044653    1.000    2.3000   \n",
       "Horsepower              156.0  185.948718  56.700321   55.000  149.5000   \n",
       "Wheelbase               156.0  107.487179   7.641303   92.600  103.0000   \n",
       "Width                   156.0   71.150000   3.451872   62.600   68.4000   \n",
       "Length                  156.0  187.343590  13.431754  149.400  177.5750   \n",
       "Curb weight             155.0    3.378026   0.630502    1.895    2.9710   \n",
       "Fuel_capacity           156.0   17.951923   3.887921   10.300   15.8000   \n",
       "Fuel_efficiency         154.0   23.844156   4.282706   15.000   21.0000   \n",
       "\n",
       "                            50%       75%      max  \n",
       "Sales_in_thousands       29.450   67.9560  540.561  \n",
       "four_year_resale_value   14.180   19.8750   67.550  \n",
       "Price_in_thousands       22.799   31.9475   85.500  \n",
       "Engine_size               3.000    3.5750    8.000  \n",
       "Horsepower              177.500  215.0000  450.000  \n",
       "Wheelbase               107.000  112.2000  138.700  \n",
       "Width                    70.550   73.4250   79.900  \n",
       "Length                  187.900  196.1250  224.500  \n",
       "Curb weight               3.342    3.7995    5.572  \n",
       "Fuel_capacity            17.200   19.5750   32.000  \n",
       "Fuel_efficiency          24.000   26.0000   45.000  "
      ]
     },
     "execution_count": 126,
     "metadata": {},
     "output_type": "execute_result"
    }
   ],
   "source": [
    "df.describe().T"
   ]
  },
  {
   "cell_type": "code",
   "execution_count": 127,
   "id": "fc8e73c7",
   "metadata": {
    "scrolled": true
   },
   "outputs": [
    {
     "data": {
      "text/html": [
       "<div>\n",
       "<style scoped>\n",
       "    .dataframe tbody tr th:only-of-type {\n",
       "        vertical-align: middle;\n",
       "    }\n",
       "\n",
       "    .dataframe tbody tr th {\n",
       "        vertical-align: top;\n",
       "    }\n",
       "\n",
       "    .dataframe thead th {\n",
       "        text-align: right;\n",
       "    }\n",
       "</style>\n",
       "<table border=\"1\" class=\"dataframe\">\n",
       "  <thead>\n",
       "    <tr style=\"text-align: right;\">\n",
       "      <th></th>\n",
       "      <th>count</th>\n",
       "      <th>mean</th>\n",
       "      <th>std</th>\n",
       "      <th>min</th>\n",
       "      <th>1%</th>\n",
       "      <th>2%</th>\n",
       "      <th>3%</th>\n",
       "      <th>4%</th>\n",
       "      <th>50%</th>\n",
       "      <th>max</th>\n",
       "    </tr>\n",
       "  </thead>\n",
       "  <tbody>\n",
       "    <tr>\n",
       "      <th>Sales_in_thousands</th>\n",
       "      <td>157.0</td>\n",
       "      <td>52.998076</td>\n",
       "      <td>68.029422</td>\n",
       "      <td>0.110</td>\n",
       "      <td>0.93728</td>\n",
       "      <td>1.13216</td>\n",
       "      <td>1.34800</td>\n",
       "      <td>1.60760</td>\n",
       "      <td>29.450</td>\n",
       "      <td>540.561</td>\n",
       "    </tr>\n",
       "    <tr>\n",
       "      <th>four_year_resale_value</th>\n",
       "      <td>121.0</td>\n",
       "      <td>18.072975</td>\n",
       "      <td>11.453384</td>\n",
       "      <td>5.160</td>\n",
       "      <td>6.17300</td>\n",
       "      <td>7.55500</td>\n",
       "      <td>7.75000</td>\n",
       "      <td>7.81000</td>\n",
       "      <td>14.180</td>\n",
       "      <td>67.550</td>\n",
       "    </tr>\n",
       "    <tr>\n",
       "      <th>Price_in_thousands</th>\n",
       "      <td>155.0</td>\n",
       "      <td>27.390755</td>\n",
       "      <td>14.351653</td>\n",
       "      <td>9.235</td>\n",
       "      <td>10.23144</td>\n",
       "      <td>11.54968</td>\n",
       "      <td>11.95462</td>\n",
       "      <td>12.10920</td>\n",
       "      <td>22.799</td>\n",
       "      <td>85.500</td>\n",
       "    </tr>\n",
       "    <tr>\n",
       "      <th>Engine_size</th>\n",
       "      <td>156.0</td>\n",
       "      <td>3.060897</td>\n",
       "      <td>1.044653</td>\n",
       "      <td>1.000</td>\n",
       "      <td>1.55500</td>\n",
       "      <td>1.80000</td>\n",
       "      <td>1.80000</td>\n",
       "      <td>1.80000</td>\n",
       "      <td>3.000</td>\n",
       "      <td>8.000</td>\n",
       "    </tr>\n",
       "    <tr>\n",
       "      <th>Horsepower</th>\n",
       "      <td>156.0</td>\n",
       "      <td>185.948718</td>\n",
       "      <td>56.700321</td>\n",
       "      <td>55.000</td>\n",
       "      <td>96.40000</td>\n",
       "      <td>100.60000</td>\n",
       "      <td>106.65000</td>\n",
       "      <td>110.60000</td>\n",
       "      <td>177.500</td>\n",
       "      <td>450.000</td>\n",
       "    </tr>\n",
       "    <tr>\n",
       "      <th>Wheelbase</th>\n",
       "      <td>156.0</td>\n",
       "      <td>107.487179</td>\n",
       "      <td>7.641303</td>\n",
       "      <td>92.600</td>\n",
       "      <td>92.87500</td>\n",
       "      <td>93.51000</td>\n",
       "      <td>94.50000</td>\n",
       "      <td>94.96000</td>\n",
       "      <td>107.000</td>\n",
       "      <td>138.700</td>\n",
       "    </tr>\n",
       "    <tr>\n",
       "      <th>Width</th>\n",
       "      <td>156.0</td>\n",
       "      <td>71.150000</td>\n",
       "      <td>3.451872</td>\n",
       "      <td>62.600</td>\n",
       "      <td>66.08500</td>\n",
       "      <td>66.40000</td>\n",
       "      <td>66.46500</td>\n",
       "      <td>66.50000</td>\n",
       "      <td>70.550</td>\n",
       "      <td>79.900</td>\n",
       "    </tr>\n",
       "    <tr>\n",
       "      <th>Length</th>\n",
       "      <td>156.0</td>\n",
       "      <td>187.343590</td>\n",
       "      <td>13.431754</td>\n",
       "      <td>149.400</td>\n",
       "      <td>154.91500</td>\n",
       "      <td>158.15000</td>\n",
       "      <td>160.85500</td>\n",
       "      <td>163.30000</td>\n",
       "      <td>187.900</td>\n",
       "      <td>224.500</td>\n",
       "    </tr>\n",
       "    <tr>\n",
       "      <th>Curb weight</th>\n",
       "      <td>155.0</td>\n",
       "      <td>3.378026</td>\n",
       "      <td>0.630502</td>\n",
       "      <td>1.895</td>\n",
       "      <td>2.24540</td>\n",
       "      <td>2.33256</td>\n",
       "      <td>2.35636</td>\n",
       "      <td>2.40152</td>\n",
       "      <td>3.342</td>\n",
       "      <td>5.572</td>\n",
       "    </tr>\n",
       "    <tr>\n",
       "      <th>Fuel_capacity</th>\n",
       "      <td>156.0</td>\n",
       "      <td>17.951923</td>\n",
       "      <td>3.887921</td>\n",
       "      <td>10.300</td>\n",
       "      <td>11.90000</td>\n",
       "      <td>12.01000</td>\n",
       "      <td>12.10000</td>\n",
       "      <td>12.18000</td>\n",
       "      <td>17.200</td>\n",
       "      <td>32.000</td>\n",
       "    </tr>\n",
       "    <tr>\n",
       "      <th>Fuel_efficiency</th>\n",
       "      <td>154.0</td>\n",
       "      <td>23.844156</td>\n",
       "      <td>4.282706</td>\n",
       "      <td>15.000</td>\n",
       "      <td>15.00000</td>\n",
       "      <td>15.00000</td>\n",
       "      <td>15.59000</td>\n",
       "      <td>16.00000</td>\n",
       "      <td>24.000</td>\n",
       "      <td>45.000</td>\n",
       "    </tr>\n",
       "  </tbody>\n",
       "</table>\n",
       "</div>"
      ],
      "text/plain": [
       "                        count        mean        std      min         1%  \\\n",
       "Sales_in_thousands      157.0   52.998076  68.029422    0.110    0.93728   \n",
       "four_year_resale_value  121.0   18.072975  11.453384    5.160    6.17300   \n",
       "Price_in_thousands      155.0   27.390755  14.351653    9.235   10.23144   \n",
       "Engine_size             156.0    3.060897   1.044653    1.000    1.55500   \n",
       "Horsepower              156.0  185.948718  56.700321   55.000   96.40000   \n",
       "Wheelbase               156.0  107.487179   7.641303   92.600   92.87500   \n",
       "Width                   156.0   71.150000   3.451872   62.600   66.08500   \n",
       "Length                  156.0  187.343590  13.431754  149.400  154.91500   \n",
       "Curb weight             155.0    3.378026   0.630502    1.895    2.24540   \n",
       "Fuel_capacity           156.0   17.951923   3.887921   10.300   11.90000   \n",
       "Fuel_efficiency         154.0   23.844156   4.282706   15.000   15.00000   \n",
       "\n",
       "                               2%         3%         4%      50%      max  \n",
       "Sales_in_thousands        1.13216    1.34800    1.60760   29.450  540.561  \n",
       "four_year_resale_value    7.55500    7.75000    7.81000   14.180   67.550  \n",
       "Price_in_thousands       11.54968   11.95462   12.10920   22.799   85.500  \n",
       "Engine_size               1.80000    1.80000    1.80000    3.000    8.000  \n",
       "Horsepower              100.60000  106.65000  110.60000  177.500  450.000  \n",
       "Wheelbase                93.51000   94.50000   94.96000  107.000  138.700  \n",
       "Width                    66.40000   66.46500   66.50000   70.550   79.900  \n",
       "Length                  158.15000  160.85500  163.30000  187.900  224.500  \n",
       "Curb weight               2.33256    2.35636    2.40152    3.342    5.572  \n",
       "Fuel_capacity            12.01000   12.10000   12.18000   17.200   32.000  \n",
       "Fuel_efficiency          15.00000   15.59000   16.00000   24.000   45.000  "
      ]
     },
     "execution_count": 127,
     "metadata": {},
     "output_type": "execute_result"
    }
   ],
   "source": [
    "df.describe(percentiles=[.01,.02,.03,.04]).T"
   ]
  },
  {
   "cell_type": "markdown",
   "id": "d4434371",
   "metadata": {},
   "source": [
    "### Bivariate Analysis"
   ]
  },
  {
   "cell_type": "code",
   "execution_count": 128,
   "id": "93e7f3b9",
   "metadata": {},
   "outputs": [
    {
     "data": {
      "text/plain": [
       "Index(['Manufacturer', 'Vehicle_type'], dtype='object')"
      ]
     },
     "execution_count": 128,
     "metadata": {},
     "output_type": "execute_result"
    }
   ],
   "source": [
    "df.dtypes[df.dtypes==\"object\"].index"
   ]
  },
  {
   "cell_type": "code",
   "execution_count": 129,
   "id": "105c3b97",
   "metadata": {},
   "outputs": [
    {
     "data": {
      "text/html": [
       "<div>\n",
       "<style scoped>\n",
       "    .dataframe tbody tr th:only-of-type {\n",
       "        vertical-align: middle;\n",
       "    }\n",
       "\n",
       "    .dataframe tbody tr th {\n",
       "        vertical-align: top;\n",
       "    }\n",
       "\n",
       "    .dataframe thead th {\n",
       "        text-align: right;\n",
       "    }\n",
       "</style>\n",
       "<table border=\"1\" class=\"dataframe\">\n",
       "  <thead>\n",
       "    <tr style=\"text-align: right;\">\n",
       "      <th>Vehicle_type</th>\n",
       "      <th>Car</th>\n",
       "      <th>Passenger</th>\n",
       "    </tr>\n",
       "    <tr>\n",
       "      <th>Manufacturer</th>\n",
       "      <th></th>\n",
       "      <th></th>\n",
       "    </tr>\n",
       "  </thead>\n",
       "  <tbody>\n",
       "    <tr>\n",
       "      <th>Acura</th>\n",
       "      <td>0</td>\n",
       "      <td>4</td>\n",
       "    </tr>\n",
       "    <tr>\n",
       "      <th>Audi</th>\n",
       "      <td>0</td>\n",
       "      <td>3</td>\n",
       "    </tr>\n",
       "    <tr>\n",
       "      <th>BMW</th>\n",
       "      <td>0</td>\n",
       "      <td>3</td>\n",
       "    </tr>\n",
       "    <tr>\n",
       "      <th>Buick</th>\n",
       "      <td>0</td>\n",
       "      <td>4</td>\n",
       "    </tr>\n",
       "    <tr>\n",
       "      <th>Cadillac</th>\n",
       "      <td>1</td>\n",
       "      <td>4</td>\n",
       "    </tr>\n",
       "    <tr>\n",
       "      <th>Chevrolet</th>\n",
       "      <td>0</td>\n",
       "      <td>9</td>\n",
       "    </tr>\n",
       "    <tr>\n",
       "      <th>Chrysler</th>\n",
       "      <td>1</td>\n",
       "      <td>6</td>\n",
       "    </tr>\n",
       "    <tr>\n",
       "      <th>Dodge</th>\n",
       "      <td>6</td>\n",
       "      <td>5</td>\n",
       "    </tr>\n",
       "    <tr>\n",
       "      <th>Ford</th>\n",
       "      <td>5</td>\n",
       "      <td>6</td>\n",
       "    </tr>\n",
       "    <tr>\n",
       "      <th>Honda</th>\n",
       "      <td>3</td>\n",
       "      <td>2</td>\n",
       "    </tr>\n",
       "    <tr>\n",
       "      <th>Hyundai</th>\n",
       "      <td>0</td>\n",
       "      <td>3</td>\n",
       "    </tr>\n",
       "    <tr>\n",
       "      <th>Infiniti</th>\n",
       "      <td>0</td>\n",
       "      <td>1</td>\n",
       "    </tr>\n",
       "    <tr>\n",
       "      <th>Jaguar</th>\n",
       "      <td>0</td>\n",
       "      <td>1</td>\n",
       "    </tr>\n",
       "    <tr>\n",
       "      <th>Jeep</th>\n",
       "      <td>3</td>\n",
       "      <td>0</td>\n",
       "    </tr>\n",
       "    <tr>\n",
       "      <th>Lexus</th>\n",
       "      <td>2</td>\n",
       "      <td>4</td>\n",
       "    </tr>\n",
       "    <tr>\n",
       "      <th>Lincoln</th>\n",
       "      <td>1</td>\n",
       "      <td>2</td>\n",
       "    </tr>\n",
       "    <tr>\n",
       "      <th>Mercedes-B</th>\n",
       "      <td>1</td>\n",
       "      <td>8</td>\n",
       "    </tr>\n",
       "    <tr>\n",
       "      <th>Mercury</th>\n",
       "      <td>2</td>\n",
       "      <td>4</td>\n",
       "    </tr>\n",
       "    <tr>\n",
       "      <th>Mitsubishi</th>\n",
       "      <td>2</td>\n",
       "      <td>5</td>\n",
       "    </tr>\n",
       "    <tr>\n",
       "      <th>Nissan</th>\n",
       "      <td>4</td>\n",
       "      <td>3</td>\n",
       "    </tr>\n",
       "    <tr>\n",
       "      <th>Oldsmobile</th>\n",
       "      <td>2</td>\n",
       "      <td>4</td>\n",
       "    </tr>\n",
       "    <tr>\n",
       "      <th>Plymouth</th>\n",
       "      <td>1</td>\n",
       "      <td>3</td>\n",
       "    </tr>\n",
       "    <tr>\n",
       "      <th>Pontiac</th>\n",
       "      <td>1</td>\n",
       "      <td>5</td>\n",
       "    </tr>\n",
       "    <tr>\n",
       "      <th>Porsche</th>\n",
       "      <td>0</td>\n",
       "      <td>3</td>\n",
       "    </tr>\n",
       "    <tr>\n",
       "      <th>Saab</th>\n",
       "      <td>0</td>\n",
       "      <td>2</td>\n",
       "    </tr>\n",
       "    <tr>\n",
       "      <th>Saturn</th>\n",
       "      <td>0</td>\n",
       "      <td>5</td>\n",
       "    </tr>\n",
       "    <tr>\n",
       "      <th>Subaru</th>\n",
       "      <td>1</td>\n",
       "      <td>1</td>\n",
       "    </tr>\n",
       "    <tr>\n",
       "      <th>Toyota</th>\n",
       "      <td>5</td>\n",
       "      <td>4</td>\n",
       "    </tr>\n",
       "    <tr>\n",
       "      <th>Volkswagen</th>\n",
       "      <td>0</td>\n",
       "      <td>6</td>\n",
       "    </tr>\n",
       "    <tr>\n",
       "      <th>Volvo</th>\n",
       "      <td>0</td>\n",
       "      <td>6</td>\n",
       "    </tr>\n",
       "  </tbody>\n",
       "</table>\n",
       "</div>"
      ],
      "text/plain": [
       "Vehicle_type  Car  Passenger\n",
       "Manufacturer                \n",
       "Acura           0          4\n",
       "Audi            0          3\n",
       "BMW             0          3\n",
       "Buick           0          4\n",
       "Cadillac        1          4\n",
       "Chevrolet       0          9\n",
       "Chrysler        1          6\n",
       "Dodge           6          5\n",
       "Ford            5          6\n",
       "Honda           3          2\n",
       "Hyundai         0          3\n",
       "Infiniti        0          1\n",
       "Jaguar          0          1\n",
       "Jeep            3          0\n",
       "Lexus           2          4\n",
       "Lincoln         1          2\n",
       "Mercedes-B      1          8\n",
       "Mercury         2          4\n",
       "Mitsubishi      2          5\n",
       "Nissan          4          3\n",
       "Oldsmobile      2          4\n",
       "Plymouth        1          3\n",
       "Pontiac         1          5\n",
       "Porsche         0          3\n",
       "Saab            0          2\n",
       "Saturn          0          5\n",
       "Subaru          1          1\n",
       "Toyota          5          4\n",
       "Volkswagen      0          6\n",
       "Volvo           0          6"
      ]
     },
     "execution_count": 129,
     "metadata": {},
     "output_type": "execute_result"
    }
   ],
   "source": [
    "pd.crosstab(df[\"Manufacturer\"],df[\"Vehicle_type\"])"
   ]
  },
  {
   "cell_type": "code",
   "execution_count": 130,
   "id": "8b0d359d",
   "metadata": {},
   "outputs": [
    {
     "data": {
      "text/html": [
       "<div>\n",
       "<style scoped>\n",
       "    .dataframe tbody tr th:only-of-type {\n",
       "        vertical-align: middle;\n",
       "    }\n",
       "\n",
       "    .dataframe tbody tr th {\n",
       "        vertical-align: top;\n",
       "    }\n",
       "\n",
       "    .dataframe thead th {\n",
       "        text-align: right;\n",
       "    }\n",
       "</style>\n",
       "<table border=\"1\" class=\"dataframe\">\n",
       "  <thead>\n",
       "    <tr style=\"text-align: right;\">\n",
       "      <th>Vehicle_type</th>\n",
       "      <th>Car</th>\n",
       "      <th>Passenger</th>\n",
       "    </tr>\n",
       "    <tr>\n",
       "      <th>Manufacturer</th>\n",
       "      <th></th>\n",
       "      <th></th>\n",
       "    </tr>\n",
       "  </thead>\n",
       "  <tbody>\n",
       "    <tr>\n",
       "      <th>Acura</th>\n",
       "      <td>0.000000</td>\n",
       "      <td>0.025478</td>\n",
       "    </tr>\n",
       "    <tr>\n",
       "      <th>Audi</th>\n",
       "      <td>0.000000</td>\n",
       "      <td>0.019108</td>\n",
       "    </tr>\n",
       "    <tr>\n",
       "      <th>BMW</th>\n",
       "      <td>0.000000</td>\n",
       "      <td>0.019108</td>\n",
       "    </tr>\n",
       "    <tr>\n",
       "      <th>Buick</th>\n",
       "      <td>0.000000</td>\n",
       "      <td>0.025478</td>\n",
       "    </tr>\n",
       "    <tr>\n",
       "      <th>Cadillac</th>\n",
       "      <td>0.006369</td>\n",
       "      <td>0.025478</td>\n",
       "    </tr>\n",
       "    <tr>\n",
       "      <th>Chevrolet</th>\n",
       "      <td>0.000000</td>\n",
       "      <td>0.057325</td>\n",
       "    </tr>\n",
       "    <tr>\n",
       "      <th>Chrysler</th>\n",
       "      <td>0.006369</td>\n",
       "      <td>0.038217</td>\n",
       "    </tr>\n",
       "    <tr>\n",
       "      <th>Dodge</th>\n",
       "      <td>0.038217</td>\n",
       "      <td>0.031847</td>\n",
       "    </tr>\n",
       "    <tr>\n",
       "      <th>Ford</th>\n",
       "      <td>0.031847</td>\n",
       "      <td>0.038217</td>\n",
       "    </tr>\n",
       "    <tr>\n",
       "      <th>Honda</th>\n",
       "      <td>0.019108</td>\n",
       "      <td>0.012739</td>\n",
       "    </tr>\n",
       "    <tr>\n",
       "      <th>Hyundai</th>\n",
       "      <td>0.000000</td>\n",
       "      <td>0.019108</td>\n",
       "    </tr>\n",
       "    <tr>\n",
       "      <th>Infiniti</th>\n",
       "      <td>0.000000</td>\n",
       "      <td>0.006369</td>\n",
       "    </tr>\n",
       "    <tr>\n",
       "      <th>Jaguar</th>\n",
       "      <td>0.000000</td>\n",
       "      <td>0.006369</td>\n",
       "    </tr>\n",
       "    <tr>\n",
       "      <th>Jeep</th>\n",
       "      <td>0.019108</td>\n",
       "      <td>0.000000</td>\n",
       "    </tr>\n",
       "    <tr>\n",
       "      <th>Lexus</th>\n",
       "      <td>0.012739</td>\n",
       "      <td>0.025478</td>\n",
       "    </tr>\n",
       "    <tr>\n",
       "      <th>Lincoln</th>\n",
       "      <td>0.006369</td>\n",
       "      <td>0.012739</td>\n",
       "    </tr>\n",
       "    <tr>\n",
       "      <th>Mercedes-B</th>\n",
       "      <td>0.006369</td>\n",
       "      <td>0.050955</td>\n",
       "    </tr>\n",
       "    <tr>\n",
       "      <th>Mercury</th>\n",
       "      <td>0.012739</td>\n",
       "      <td>0.025478</td>\n",
       "    </tr>\n",
       "    <tr>\n",
       "      <th>Mitsubishi</th>\n",
       "      <td>0.012739</td>\n",
       "      <td>0.031847</td>\n",
       "    </tr>\n",
       "    <tr>\n",
       "      <th>Nissan</th>\n",
       "      <td>0.025478</td>\n",
       "      <td>0.019108</td>\n",
       "    </tr>\n",
       "    <tr>\n",
       "      <th>Oldsmobile</th>\n",
       "      <td>0.012739</td>\n",
       "      <td>0.025478</td>\n",
       "    </tr>\n",
       "    <tr>\n",
       "      <th>Plymouth</th>\n",
       "      <td>0.006369</td>\n",
       "      <td>0.019108</td>\n",
       "    </tr>\n",
       "    <tr>\n",
       "      <th>Pontiac</th>\n",
       "      <td>0.006369</td>\n",
       "      <td>0.031847</td>\n",
       "    </tr>\n",
       "    <tr>\n",
       "      <th>Porsche</th>\n",
       "      <td>0.000000</td>\n",
       "      <td>0.019108</td>\n",
       "    </tr>\n",
       "    <tr>\n",
       "      <th>Saab</th>\n",
       "      <td>0.000000</td>\n",
       "      <td>0.012739</td>\n",
       "    </tr>\n",
       "    <tr>\n",
       "      <th>Saturn</th>\n",
       "      <td>0.000000</td>\n",
       "      <td>0.031847</td>\n",
       "    </tr>\n",
       "    <tr>\n",
       "      <th>Subaru</th>\n",
       "      <td>0.006369</td>\n",
       "      <td>0.006369</td>\n",
       "    </tr>\n",
       "    <tr>\n",
       "      <th>Toyota</th>\n",
       "      <td>0.031847</td>\n",
       "      <td>0.025478</td>\n",
       "    </tr>\n",
       "    <tr>\n",
       "      <th>Volkswagen</th>\n",
       "      <td>0.000000</td>\n",
       "      <td>0.038217</td>\n",
       "    </tr>\n",
       "    <tr>\n",
       "      <th>Volvo</th>\n",
       "      <td>0.000000</td>\n",
       "      <td>0.038217</td>\n",
       "    </tr>\n",
       "  </tbody>\n",
       "</table>\n",
       "</div>"
      ],
      "text/plain": [
       "Vehicle_type       Car  Passenger\n",
       "Manufacturer                     \n",
       "Acura         0.000000   0.025478\n",
       "Audi          0.000000   0.019108\n",
       "BMW           0.000000   0.019108\n",
       "Buick         0.000000   0.025478\n",
       "Cadillac      0.006369   0.025478\n",
       "Chevrolet     0.000000   0.057325\n",
       "Chrysler      0.006369   0.038217\n",
       "Dodge         0.038217   0.031847\n",
       "Ford          0.031847   0.038217\n",
       "Honda         0.019108   0.012739\n",
       "Hyundai       0.000000   0.019108\n",
       "Infiniti      0.000000   0.006369\n",
       "Jaguar        0.000000   0.006369\n",
       "Jeep          0.019108   0.000000\n",
       "Lexus         0.012739   0.025478\n",
       "Lincoln       0.006369   0.012739\n",
       "Mercedes-B    0.006369   0.050955\n",
       "Mercury       0.012739   0.025478\n",
       "Mitsubishi    0.012739   0.031847\n",
       "Nissan        0.025478   0.019108\n",
       "Oldsmobile    0.012739   0.025478\n",
       "Plymouth      0.006369   0.019108\n",
       "Pontiac       0.006369   0.031847\n",
       "Porsche       0.000000   0.019108\n",
       "Saab          0.000000   0.012739\n",
       "Saturn        0.000000   0.031847\n",
       "Subaru        0.006369   0.006369\n",
       "Toyota        0.031847   0.025478\n",
       "Volkswagen    0.000000   0.038217\n",
       "Volvo         0.000000   0.038217"
      ]
     },
     "execution_count": 130,
     "metadata": {},
     "output_type": "execute_result"
    }
   ],
   "source": [
    "pd.crosstab(df[\"Manufacturer\"],df[\"Vehicle_type\"],normalize=\"all\") # here each value is divided by 157(overall)"
   ]
  },
  {
   "cell_type": "code",
   "execution_count": 131,
   "id": "58be826e",
   "metadata": {},
   "outputs": [
    {
     "data": {
      "text/html": [
       "<div>\n",
       "<style scoped>\n",
       "    .dataframe tbody tr th:only-of-type {\n",
       "        vertical-align: middle;\n",
       "    }\n",
       "\n",
       "    .dataframe tbody tr th {\n",
       "        vertical-align: top;\n",
       "    }\n",
       "\n",
       "    .dataframe thead th {\n",
       "        text-align: right;\n",
       "    }\n",
       "</style>\n",
       "<table border=\"1\" class=\"dataframe\">\n",
       "  <thead>\n",
       "    <tr style=\"text-align: right;\">\n",
       "      <th>Vehicle_type</th>\n",
       "      <th>Car</th>\n",
       "      <th>Passenger</th>\n",
       "    </tr>\n",
       "    <tr>\n",
       "      <th>Manufacturer</th>\n",
       "      <th></th>\n",
       "      <th></th>\n",
       "    </tr>\n",
       "  </thead>\n",
       "  <tbody>\n",
       "    <tr>\n",
       "      <th>Acura</th>\n",
       "      <td>0.000000</td>\n",
       "      <td>1.000000</td>\n",
       "    </tr>\n",
       "    <tr>\n",
       "      <th>Audi</th>\n",
       "      <td>0.000000</td>\n",
       "      <td>1.000000</td>\n",
       "    </tr>\n",
       "    <tr>\n",
       "      <th>BMW</th>\n",
       "      <td>0.000000</td>\n",
       "      <td>1.000000</td>\n",
       "    </tr>\n",
       "    <tr>\n",
       "      <th>Buick</th>\n",
       "      <td>0.000000</td>\n",
       "      <td>1.000000</td>\n",
       "    </tr>\n",
       "    <tr>\n",
       "      <th>Cadillac</th>\n",
       "      <td>0.200000</td>\n",
       "      <td>0.800000</td>\n",
       "    </tr>\n",
       "    <tr>\n",
       "      <th>Chevrolet</th>\n",
       "      <td>0.000000</td>\n",
       "      <td>1.000000</td>\n",
       "    </tr>\n",
       "    <tr>\n",
       "      <th>Chrysler</th>\n",
       "      <td>0.142857</td>\n",
       "      <td>0.857143</td>\n",
       "    </tr>\n",
       "    <tr>\n",
       "      <th>Dodge</th>\n",
       "      <td>0.545455</td>\n",
       "      <td>0.454545</td>\n",
       "    </tr>\n",
       "    <tr>\n",
       "      <th>Ford</th>\n",
       "      <td>0.454545</td>\n",
       "      <td>0.545455</td>\n",
       "    </tr>\n",
       "    <tr>\n",
       "      <th>Honda</th>\n",
       "      <td>0.600000</td>\n",
       "      <td>0.400000</td>\n",
       "    </tr>\n",
       "    <tr>\n",
       "      <th>Hyundai</th>\n",
       "      <td>0.000000</td>\n",
       "      <td>1.000000</td>\n",
       "    </tr>\n",
       "    <tr>\n",
       "      <th>Infiniti</th>\n",
       "      <td>0.000000</td>\n",
       "      <td>1.000000</td>\n",
       "    </tr>\n",
       "    <tr>\n",
       "      <th>Jaguar</th>\n",
       "      <td>0.000000</td>\n",
       "      <td>1.000000</td>\n",
       "    </tr>\n",
       "    <tr>\n",
       "      <th>Jeep</th>\n",
       "      <td>1.000000</td>\n",
       "      <td>0.000000</td>\n",
       "    </tr>\n",
       "    <tr>\n",
       "      <th>Lexus</th>\n",
       "      <td>0.333333</td>\n",
       "      <td>0.666667</td>\n",
       "    </tr>\n",
       "    <tr>\n",
       "      <th>Lincoln</th>\n",
       "      <td>0.333333</td>\n",
       "      <td>0.666667</td>\n",
       "    </tr>\n",
       "    <tr>\n",
       "      <th>Mercedes-B</th>\n",
       "      <td>0.111111</td>\n",
       "      <td>0.888889</td>\n",
       "    </tr>\n",
       "    <tr>\n",
       "      <th>Mercury</th>\n",
       "      <td>0.333333</td>\n",
       "      <td>0.666667</td>\n",
       "    </tr>\n",
       "    <tr>\n",
       "      <th>Mitsubishi</th>\n",
       "      <td>0.285714</td>\n",
       "      <td>0.714286</td>\n",
       "    </tr>\n",
       "    <tr>\n",
       "      <th>Nissan</th>\n",
       "      <td>0.571429</td>\n",
       "      <td>0.428571</td>\n",
       "    </tr>\n",
       "    <tr>\n",
       "      <th>Oldsmobile</th>\n",
       "      <td>0.333333</td>\n",
       "      <td>0.666667</td>\n",
       "    </tr>\n",
       "    <tr>\n",
       "      <th>Plymouth</th>\n",
       "      <td>0.250000</td>\n",
       "      <td>0.750000</td>\n",
       "    </tr>\n",
       "    <tr>\n",
       "      <th>Pontiac</th>\n",
       "      <td>0.166667</td>\n",
       "      <td>0.833333</td>\n",
       "    </tr>\n",
       "    <tr>\n",
       "      <th>Porsche</th>\n",
       "      <td>0.000000</td>\n",
       "      <td>1.000000</td>\n",
       "    </tr>\n",
       "    <tr>\n",
       "      <th>Saab</th>\n",
       "      <td>0.000000</td>\n",
       "      <td>1.000000</td>\n",
       "    </tr>\n",
       "    <tr>\n",
       "      <th>Saturn</th>\n",
       "      <td>0.000000</td>\n",
       "      <td>1.000000</td>\n",
       "    </tr>\n",
       "    <tr>\n",
       "      <th>Subaru</th>\n",
       "      <td>0.500000</td>\n",
       "      <td>0.500000</td>\n",
       "    </tr>\n",
       "    <tr>\n",
       "      <th>Toyota</th>\n",
       "      <td>0.555556</td>\n",
       "      <td>0.444444</td>\n",
       "    </tr>\n",
       "    <tr>\n",
       "      <th>Volkswagen</th>\n",
       "      <td>0.000000</td>\n",
       "      <td>1.000000</td>\n",
       "    </tr>\n",
       "    <tr>\n",
       "      <th>Volvo</th>\n",
       "      <td>0.000000</td>\n",
       "      <td>1.000000</td>\n",
       "    </tr>\n",
       "  </tbody>\n",
       "</table>\n",
       "</div>"
      ],
      "text/plain": [
       "Vehicle_type       Car  Passenger\n",
       "Manufacturer                     \n",
       "Acura         0.000000   1.000000\n",
       "Audi          0.000000   1.000000\n",
       "BMW           0.000000   1.000000\n",
       "Buick         0.000000   1.000000\n",
       "Cadillac      0.200000   0.800000\n",
       "Chevrolet     0.000000   1.000000\n",
       "Chrysler      0.142857   0.857143\n",
       "Dodge         0.545455   0.454545\n",
       "Ford          0.454545   0.545455\n",
       "Honda         0.600000   0.400000\n",
       "Hyundai       0.000000   1.000000\n",
       "Infiniti      0.000000   1.000000\n",
       "Jaguar        0.000000   1.000000\n",
       "Jeep          1.000000   0.000000\n",
       "Lexus         0.333333   0.666667\n",
       "Lincoln       0.333333   0.666667\n",
       "Mercedes-B    0.111111   0.888889\n",
       "Mercury       0.333333   0.666667\n",
       "Mitsubishi    0.285714   0.714286\n",
       "Nissan        0.571429   0.428571\n",
       "Oldsmobile    0.333333   0.666667\n",
       "Plymouth      0.250000   0.750000\n",
       "Pontiac       0.166667   0.833333\n",
       "Porsche       0.000000   1.000000\n",
       "Saab          0.000000   1.000000\n",
       "Saturn        0.000000   1.000000\n",
       "Subaru        0.500000   0.500000\n",
       "Toyota        0.555556   0.444444\n",
       "Volkswagen    0.000000   1.000000\n",
       "Volvo         0.000000   1.000000"
      ]
     },
     "execution_count": 131,
     "metadata": {},
     "output_type": "execute_result"
    }
   ],
   "source": [
    "pd.crosstab(df[\"Manufacturer\"],df[\"Vehicle_type\"],normalize=\"index\")"
   ]
  },
  {
   "cell_type": "code",
   "execution_count": 132,
   "id": "4855ca27",
   "metadata": {},
   "outputs": [
    {
     "data": {
      "text/html": [
       "<div>\n",
       "<style scoped>\n",
       "    .dataframe tbody tr th:only-of-type {\n",
       "        vertical-align: middle;\n",
       "    }\n",
       "\n",
       "    .dataframe tbody tr th {\n",
       "        vertical-align: top;\n",
       "    }\n",
       "\n",
       "    .dataframe thead th {\n",
       "        text-align: right;\n",
       "    }\n",
       "</style>\n",
       "<table border=\"1\" class=\"dataframe\">\n",
       "  <thead>\n",
       "    <tr style=\"text-align: right;\">\n",
       "      <th>Vehicle_type</th>\n",
       "      <th>Car</th>\n",
       "      <th>Passenger</th>\n",
       "    </tr>\n",
       "    <tr>\n",
       "      <th>Manufacturer</th>\n",
       "      <th></th>\n",
       "      <th></th>\n",
       "    </tr>\n",
       "  </thead>\n",
       "  <tbody>\n",
       "    <tr>\n",
       "      <th>Acura</th>\n",
       "      <td>0.000000</td>\n",
       "      <td>0.034483</td>\n",
       "    </tr>\n",
       "    <tr>\n",
       "      <th>Audi</th>\n",
       "      <td>0.000000</td>\n",
       "      <td>0.025862</td>\n",
       "    </tr>\n",
       "    <tr>\n",
       "      <th>BMW</th>\n",
       "      <td>0.000000</td>\n",
       "      <td>0.025862</td>\n",
       "    </tr>\n",
       "    <tr>\n",
       "      <th>Buick</th>\n",
       "      <td>0.000000</td>\n",
       "      <td>0.034483</td>\n",
       "    </tr>\n",
       "    <tr>\n",
       "      <th>Cadillac</th>\n",
       "      <td>0.024390</td>\n",
       "      <td>0.034483</td>\n",
       "    </tr>\n",
       "    <tr>\n",
       "      <th>Chevrolet</th>\n",
       "      <td>0.000000</td>\n",
       "      <td>0.077586</td>\n",
       "    </tr>\n",
       "    <tr>\n",
       "      <th>Chrysler</th>\n",
       "      <td>0.024390</td>\n",
       "      <td>0.051724</td>\n",
       "    </tr>\n",
       "    <tr>\n",
       "      <th>Dodge</th>\n",
       "      <td>0.146341</td>\n",
       "      <td>0.043103</td>\n",
       "    </tr>\n",
       "    <tr>\n",
       "      <th>Ford</th>\n",
       "      <td>0.121951</td>\n",
       "      <td>0.051724</td>\n",
       "    </tr>\n",
       "    <tr>\n",
       "      <th>Honda</th>\n",
       "      <td>0.073171</td>\n",
       "      <td>0.017241</td>\n",
       "    </tr>\n",
       "    <tr>\n",
       "      <th>Hyundai</th>\n",
       "      <td>0.000000</td>\n",
       "      <td>0.025862</td>\n",
       "    </tr>\n",
       "    <tr>\n",
       "      <th>Infiniti</th>\n",
       "      <td>0.000000</td>\n",
       "      <td>0.008621</td>\n",
       "    </tr>\n",
       "    <tr>\n",
       "      <th>Jaguar</th>\n",
       "      <td>0.000000</td>\n",
       "      <td>0.008621</td>\n",
       "    </tr>\n",
       "    <tr>\n",
       "      <th>Jeep</th>\n",
       "      <td>0.073171</td>\n",
       "      <td>0.000000</td>\n",
       "    </tr>\n",
       "    <tr>\n",
       "      <th>Lexus</th>\n",
       "      <td>0.048780</td>\n",
       "      <td>0.034483</td>\n",
       "    </tr>\n",
       "    <tr>\n",
       "      <th>Lincoln</th>\n",
       "      <td>0.024390</td>\n",
       "      <td>0.017241</td>\n",
       "    </tr>\n",
       "    <tr>\n",
       "      <th>Mercedes-B</th>\n",
       "      <td>0.024390</td>\n",
       "      <td>0.068966</td>\n",
       "    </tr>\n",
       "    <tr>\n",
       "      <th>Mercury</th>\n",
       "      <td>0.048780</td>\n",
       "      <td>0.034483</td>\n",
       "    </tr>\n",
       "    <tr>\n",
       "      <th>Mitsubishi</th>\n",
       "      <td>0.048780</td>\n",
       "      <td>0.043103</td>\n",
       "    </tr>\n",
       "    <tr>\n",
       "      <th>Nissan</th>\n",
       "      <td>0.097561</td>\n",
       "      <td>0.025862</td>\n",
       "    </tr>\n",
       "    <tr>\n",
       "      <th>Oldsmobile</th>\n",
       "      <td>0.048780</td>\n",
       "      <td>0.034483</td>\n",
       "    </tr>\n",
       "    <tr>\n",
       "      <th>Plymouth</th>\n",
       "      <td>0.024390</td>\n",
       "      <td>0.025862</td>\n",
       "    </tr>\n",
       "    <tr>\n",
       "      <th>Pontiac</th>\n",
       "      <td>0.024390</td>\n",
       "      <td>0.043103</td>\n",
       "    </tr>\n",
       "    <tr>\n",
       "      <th>Porsche</th>\n",
       "      <td>0.000000</td>\n",
       "      <td>0.025862</td>\n",
       "    </tr>\n",
       "    <tr>\n",
       "      <th>Saab</th>\n",
       "      <td>0.000000</td>\n",
       "      <td>0.017241</td>\n",
       "    </tr>\n",
       "    <tr>\n",
       "      <th>Saturn</th>\n",
       "      <td>0.000000</td>\n",
       "      <td>0.043103</td>\n",
       "    </tr>\n",
       "    <tr>\n",
       "      <th>Subaru</th>\n",
       "      <td>0.024390</td>\n",
       "      <td>0.008621</td>\n",
       "    </tr>\n",
       "    <tr>\n",
       "      <th>Toyota</th>\n",
       "      <td>0.121951</td>\n",
       "      <td>0.034483</td>\n",
       "    </tr>\n",
       "    <tr>\n",
       "      <th>Volkswagen</th>\n",
       "      <td>0.000000</td>\n",
       "      <td>0.051724</td>\n",
       "    </tr>\n",
       "    <tr>\n",
       "      <th>Volvo</th>\n",
       "      <td>0.000000</td>\n",
       "      <td>0.051724</td>\n",
       "    </tr>\n",
       "  </tbody>\n",
       "</table>\n",
       "</div>"
      ],
      "text/plain": [
       "Vehicle_type       Car  Passenger\n",
       "Manufacturer                     \n",
       "Acura         0.000000   0.034483\n",
       "Audi          0.000000   0.025862\n",
       "BMW           0.000000   0.025862\n",
       "Buick         0.000000   0.034483\n",
       "Cadillac      0.024390   0.034483\n",
       "Chevrolet     0.000000   0.077586\n",
       "Chrysler      0.024390   0.051724\n",
       "Dodge         0.146341   0.043103\n",
       "Ford          0.121951   0.051724\n",
       "Honda         0.073171   0.017241\n",
       "Hyundai       0.000000   0.025862\n",
       "Infiniti      0.000000   0.008621\n",
       "Jaguar        0.000000   0.008621\n",
       "Jeep          0.073171   0.000000\n",
       "Lexus         0.048780   0.034483\n",
       "Lincoln       0.024390   0.017241\n",
       "Mercedes-B    0.024390   0.068966\n",
       "Mercury       0.048780   0.034483\n",
       "Mitsubishi    0.048780   0.043103\n",
       "Nissan        0.097561   0.025862\n",
       "Oldsmobile    0.048780   0.034483\n",
       "Plymouth      0.024390   0.025862\n",
       "Pontiac       0.024390   0.043103\n",
       "Porsche       0.000000   0.025862\n",
       "Saab          0.000000   0.017241\n",
       "Saturn        0.000000   0.043103\n",
       "Subaru        0.024390   0.008621\n",
       "Toyota        0.121951   0.034483\n",
       "Volkswagen    0.000000   0.051724\n",
       "Volvo         0.000000   0.051724"
      ]
     },
     "execution_count": 132,
     "metadata": {},
     "output_type": "execute_result"
    }
   ],
   "source": [
    "pd.crosstab(df[\"Manufacturer\"],df[\"Vehicle_type\"],normalize=\"columns\")"
   ]
  },
  {
   "cell_type": "markdown",
   "id": "453a0312",
   "metadata": {},
   "source": [
    "### categorical to numerical"
   ]
  },
  {
   "cell_type": "code",
   "execution_count": 133,
   "id": "a317909d",
   "metadata": {},
   "outputs": [
    {
     "data": {
      "text/plain": [
       "Index(['Sales_in_thousands', 'four_year_resale_value', 'Price_in_thousands',\n",
       "       'Engine_size', 'Horsepower', 'Wheelbase', 'Width', 'Length',\n",
       "       'Curb weight', 'Fuel_capacity', 'Fuel_efficiency'],\n",
       "      dtype='object')"
      ]
     },
     "execution_count": 133,
     "metadata": {},
     "output_type": "execute_result"
    }
   ],
   "source": [
    "df.dtypes[df.dtypes!=\"object\"].index"
   ]
  },
  {
   "cell_type": "code",
   "execution_count": 134,
   "id": "d43e59db",
   "metadata": {},
   "outputs": [
    {
     "data": {
      "text/html": [
       "<div>\n",
       "<style scoped>\n",
       "    .dataframe tbody tr th:only-of-type {\n",
       "        vertical-align: middle;\n",
       "    }\n",
       "\n",
       "    .dataframe tbody tr th {\n",
       "        vertical-align: top;\n",
       "    }\n",
       "\n",
       "    .dataframe thead tr th {\n",
       "        text-align: left;\n",
       "    }\n",
       "\n",
       "    .dataframe thead tr:last-of-type th {\n",
       "        text-align: right;\n",
       "    }\n",
       "</style>\n",
       "<table border=\"1\" class=\"dataframe\">\n",
       "  <thead>\n",
       "    <tr>\n",
       "      <th></th>\n",
       "      <th colspan=\"5\" halign=\"left\">Price_in_thousands</th>\n",
       "    </tr>\n",
       "    <tr>\n",
       "      <th></th>\n",
       "      <th>min</th>\n",
       "      <th>max</th>\n",
       "      <th>mean</th>\n",
       "      <th>std</th>\n",
       "      <th>count</th>\n",
       "    </tr>\n",
       "    <tr>\n",
       "      <th>Manufacturer</th>\n",
       "      <th></th>\n",
       "      <th></th>\n",
       "      <th></th>\n",
       "      <th></th>\n",
       "      <th></th>\n",
       "    </tr>\n",
       "  </thead>\n",
       "  <tbody>\n",
       "    <tr>\n",
       "      <th>Acura</th>\n",
       "      <td>21.500</td>\n",
       "      <td>42.000</td>\n",
       "      <td>30.633333</td>\n",
       "      <td>10.430884</td>\n",
       "      <td>3</td>\n",
       "    </tr>\n",
       "    <tr>\n",
       "      <th>Audi</th>\n",
       "      <td>23.990</td>\n",
       "      <td>62.000</td>\n",
       "      <td>39.980000</td>\n",
       "      <td>19.709406</td>\n",
       "      <td>3</td>\n",
       "    </tr>\n",
       "    <tr>\n",
       "      <th>BMW</th>\n",
       "      <td>26.990</td>\n",
       "      <td>38.900</td>\n",
       "      <td>33.096667</td>\n",
       "      <td>5.960791</td>\n",
       "      <td>3</td>\n",
       "    </tr>\n",
       "    <tr>\n",
       "      <th>Buick</th>\n",
       "      <td>21.975</td>\n",
       "      <td>31.965</td>\n",
       "      <td>26.781250</td>\n",
       "      <td>4.218359</td>\n",
       "      <td>4</td>\n",
       "    </tr>\n",
       "    <tr>\n",
       "      <th>Cadillac</th>\n",
       "      <td>31.010</td>\n",
       "      <td>46.225</td>\n",
       "      <td>40.254000</td>\n",
       "      <td>5.903326</td>\n",
       "      <td>5</td>\n",
       "    </tr>\n",
       "    <tr>\n",
       "      <th>Chevrolet</th>\n",
       "      <td>9.235</td>\n",
       "      <td>45.705</td>\n",
       "      <td>20.022778</td>\n",
       "      <td>10.560628</td>\n",
       "      <td>9</td>\n",
       "    </tr>\n",
       "    <tr>\n",
       "      <th>Chrysler</th>\n",
       "      <td>16.480</td>\n",
       "      <td>29.185</td>\n",
       "      <td>23.430833</td>\n",
       "      <td>4.918479</td>\n",
       "      <td>6</td>\n",
       "    </tr>\n",
       "    <tr>\n",
       "      <th>Dodge</th>\n",
       "      <td>12.640</td>\n",
       "      <td>69.725</td>\n",
       "      <td>24.213636</td>\n",
       "      <td>15.465640</td>\n",
       "      <td>11</td>\n",
       "    </tr>\n",
       "    <tr>\n",
       "      <th>Ford</th>\n",
       "      <td>12.050</td>\n",
       "      <td>36.135</td>\n",
       "      <td>21.047273</td>\n",
       "      <td>8.039550</td>\n",
       "      <td>11</td>\n",
       "    </tr>\n",
       "    <tr>\n",
       "      <th>Honda</th>\n",
       "      <td>12.885</td>\n",
       "      <td>26.600</td>\n",
       "      <td>20.277000</td>\n",
       "      <td>6.158827</td>\n",
       "      <td>5</td>\n",
       "    </tr>\n",
       "    <tr>\n",
       "      <th>Hyundai</th>\n",
       "      <td>9.699</td>\n",
       "      <td>14.999</td>\n",
       "      <td>12.165667</td>\n",
       "      <td>2.668957</td>\n",
       "      <td>3</td>\n",
       "    </tr>\n",
       "    <tr>\n",
       "      <th>Infiniti</th>\n",
       "      <td>29.465</td>\n",
       "      <td>29.465</td>\n",
       "      <td>29.465000</td>\n",
       "      <td>NaN</td>\n",
       "      <td>1</td>\n",
       "    </tr>\n",
       "    <tr>\n",
       "      <th>Jaguar</th>\n",
       "      <td>42.800</td>\n",
       "      <td>42.800</td>\n",
       "      <td>42.800000</td>\n",
       "      <td>NaN</td>\n",
       "      <td>1</td>\n",
       "    </tr>\n",
       "    <tr>\n",
       "      <th>Jeep</th>\n",
       "      <td>14.460</td>\n",
       "      <td>26.895</td>\n",
       "      <td>20.991667</td>\n",
       "      <td>6.241267</td>\n",
       "      <td>3</td>\n",
       "    </tr>\n",
       "    <tr>\n",
       "      <th>Lexus</th>\n",
       "      <td>31.505</td>\n",
       "      <td>60.105</td>\n",
       "      <td>44.055000</td>\n",
       "      <td>11.380114</td>\n",
       "      <td>6</td>\n",
       "    </tr>\n",
       "    <tr>\n",
       "      <th>Lincoln</th>\n",
       "      <td>39.080</td>\n",
       "      <td>43.330</td>\n",
       "      <td>41.690000</td>\n",
       "      <td>2.285016</td>\n",
       "      <td>3</td>\n",
       "    </tr>\n",
       "    <tr>\n",
       "      <th>Mercedes-B</th>\n",
       "      <td>31.750</td>\n",
       "      <td>85.500</td>\n",
       "      <td>52.916667</td>\n",
       "      <td>20.792036</td>\n",
       "      <td>9</td>\n",
       "    </tr>\n",
       "    <tr>\n",
       "      <th>Mercury</th>\n",
       "      <td>16.240</td>\n",
       "      <td>27.560</td>\n",
       "      <td>20.748333</td>\n",
       "      <td>4.334054</td>\n",
       "      <td>6</td>\n",
       "    </tr>\n",
       "    <tr>\n",
       "      <th>Mitsubishi</th>\n",
       "      <td>13.987</td>\n",
       "      <td>31.807</td>\n",
       "      <td>22.167429</td>\n",
       "      <td>5.938983</td>\n",
       "      <td>7</td>\n",
       "    </tr>\n",
       "    <tr>\n",
       "      <th>Nissan</th>\n",
       "      <td>13.499</td>\n",
       "      <td>29.299</td>\n",
       "      <td>22.360714</td>\n",
       "      <td>5.509982</td>\n",
       "      <td>7</td>\n",
       "    </tr>\n",
       "    <tr>\n",
       "      <th>Oldsmobile</th>\n",
       "      <td>18.145</td>\n",
       "      <td>36.229</td>\n",
       "      <td>25.622833</td>\n",
       "      <td>7.216952</td>\n",
       "      <td>6</td>\n",
       "    </tr>\n",
       "    <tr>\n",
       "      <th>Plymouth</th>\n",
       "      <td>12.640</td>\n",
       "      <td>43.000</td>\n",
       "      <td>22.642500</td>\n",
       "      <td>13.807332</td>\n",
       "      <td>4</td>\n",
       "    </tr>\n",
       "    <tr>\n",
       "      <th>Pontiac</th>\n",
       "      <td>19.720</td>\n",
       "      <td>25.635</td>\n",
       "      <td>22.949167</td>\n",
       "      <td>2.336945</td>\n",
       "      <td>6</td>\n",
       "    </tr>\n",
       "    <tr>\n",
       "      <th>Porsche</th>\n",
       "      <td>41.430</td>\n",
       "      <td>74.970</td>\n",
       "      <td>62.473333</td>\n",
       "      <td>18.330767</td>\n",
       "      <td>3</td>\n",
       "    </tr>\n",
       "    <tr>\n",
       "      <th>Saab</th>\n",
       "      <td>26.100</td>\n",
       "      <td>33.120</td>\n",
       "      <td>29.610000</td>\n",
       "      <td>4.963890</td>\n",
       "      <td>2</td>\n",
       "    </tr>\n",
       "    <tr>\n",
       "      <th>Saturn</th>\n",
       "      <td>10.685</td>\n",
       "      <td>18.835</td>\n",
       "      <td>14.271000</td>\n",
       "      <td>3.051625</td>\n",
       "      <td>5</td>\n",
       "    </tr>\n",
       "    <tr>\n",
       "      <th>Subaru</th>\n",
       "      <td>20.095</td>\n",
       "      <td>22.695</td>\n",
       "      <td>21.395000</td>\n",
       "      <td>1.838478</td>\n",
       "      <td>2</td>\n",
       "    </tr>\n",
       "    <tr>\n",
       "      <th>Toyota</th>\n",
       "      <td>11.528</td>\n",
       "      <td>51.728</td>\n",
       "      <td>21.982889</td>\n",
       "      <td>12.029930</td>\n",
       "      <td>9</td>\n",
       "    </tr>\n",
       "    <tr>\n",
       "      <th>Volkswagen</th>\n",
       "      <td>14.900</td>\n",
       "      <td>21.200</td>\n",
       "      <td>17.698333</td>\n",
       "      <td>2.433684</td>\n",
       "      <td>6</td>\n",
       "    </tr>\n",
       "    <tr>\n",
       "      <th>Volvo</th>\n",
       "      <td>23.400</td>\n",
       "      <td>45.500</td>\n",
       "      <td>30.933333</td>\n",
       "      <td>8.409915</td>\n",
       "      <td>6</td>\n",
       "    </tr>\n",
       "  </tbody>\n",
       "</table>\n",
       "</div>"
      ],
      "text/plain": [
       "             Price_in_thousands                                    \n",
       "                            min     max       mean        std count\n",
       "Manufacturer                                                       \n",
       "Acura                    21.500  42.000  30.633333  10.430884     3\n",
       "Audi                     23.990  62.000  39.980000  19.709406     3\n",
       "BMW                      26.990  38.900  33.096667   5.960791     3\n",
       "Buick                    21.975  31.965  26.781250   4.218359     4\n",
       "Cadillac                 31.010  46.225  40.254000   5.903326     5\n",
       "Chevrolet                 9.235  45.705  20.022778  10.560628     9\n",
       "Chrysler                 16.480  29.185  23.430833   4.918479     6\n",
       "Dodge                    12.640  69.725  24.213636  15.465640    11\n",
       "Ford                     12.050  36.135  21.047273   8.039550    11\n",
       "Honda                    12.885  26.600  20.277000   6.158827     5\n",
       "Hyundai                   9.699  14.999  12.165667   2.668957     3\n",
       "Infiniti                 29.465  29.465  29.465000        NaN     1\n",
       "Jaguar                   42.800  42.800  42.800000        NaN     1\n",
       "Jeep                     14.460  26.895  20.991667   6.241267     3\n",
       "Lexus                    31.505  60.105  44.055000  11.380114     6\n",
       "Lincoln                  39.080  43.330  41.690000   2.285016     3\n",
       "Mercedes-B               31.750  85.500  52.916667  20.792036     9\n",
       "Mercury                  16.240  27.560  20.748333   4.334054     6\n",
       "Mitsubishi               13.987  31.807  22.167429   5.938983     7\n",
       "Nissan                   13.499  29.299  22.360714   5.509982     7\n",
       "Oldsmobile               18.145  36.229  25.622833   7.216952     6\n",
       "Plymouth                 12.640  43.000  22.642500  13.807332     4\n",
       "Pontiac                  19.720  25.635  22.949167   2.336945     6\n",
       "Porsche                  41.430  74.970  62.473333  18.330767     3\n",
       "Saab                     26.100  33.120  29.610000   4.963890     2\n",
       "Saturn                   10.685  18.835  14.271000   3.051625     5\n",
       "Subaru                   20.095  22.695  21.395000   1.838478     2\n",
       "Toyota                   11.528  51.728  21.982889  12.029930     9\n",
       "Volkswagen               14.900  21.200  17.698333   2.433684     6\n",
       "Volvo                    23.400  45.500  30.933333   8.409915     6"
      ]
     },
     "execution_count": 134,
     "metadata": {},
     "output_type": "execute_result"
    }
   ],
   "source": [
    "df.groupby([\"Manufacturer\"]).agg({\"Price_in_thousands\":['min',\"max\",\"mean\",\"std\",\"count\"]})"
   ]
  },
  {
   "cell_type": "code",
   "execution_count": 135,
   "id": "438dd3ed",
   "metadata": {},
   "outputs": [
    {
     "data": {
      "text/html": [
       "<div>\n",
       "<style scoped>\n",
       "    .dataframe tbody tr th:only-of-type {\n",
       "        vertical-align: middle;\n",
       "    }\n",
       "\n",
       "    .dataframe tbody tr th {\n",
       "        vertical-align: top;\n",
       "    }\n",
       "\n",
       "    .dataframe thead th {\n",
       "        text-align: right;\n",
       "    }\n",
       "</style>\n",
       "<table border=\"1\" class=\"dataframe\">\n",
       "  <thead>\n",
       "    <tr style=\"text-align: right;\">\n",
       "      <th></th>\n",
       "      <th>Manufacturer</th>\n",
       "      <th>Sales_in_thousands</th>\n",
       "      <th>four_year_resale_value</th>\n",
       "      <th>Vehicle_type</th>\n",
       "      <th>Price_in_thousands</th>\n",
       "      <th>Engine_size</th>\n",
       "      <th>Horsepower</th>\n",
       "      <th>Wheelbase</th>\n",
       "      <th>Width</th>\n",
       "      <th>Length</th>\n",
       "      <th>Curb weight</th>\n",
       "      <th>Fuel_capacity</th>\n",
       "      <th>Fuel_efficiency</th>\n",
       "    </tr>\n",
       "  </thead>\n",
       "  <tbody>\n",
       "    <tr>\n",
       "      <th>0</th>\n",
       "      <td>Acura</td>\n",
       "      <td>16.919</td>\n",
       "      <td>16.360</td>\n",
       "      <td>Passenger</td>\n",
       "      <td>21.5</td>\n",
       "      <td>1.8</td>\n",
       "      <td>140.0</td>\n",
       "      <td>101.2</td>\n",
       "      <td>67.3</td>\n",
       "      <td>172.4</td>\n",
       "      <td>2.639</td>\n",
       "      <td>13.2</td>\n",
       "      <td>28.0</td>\n",
       "    </tr>\n",
       "    <tr>\n",
       "      <th>1</th>\n",
       "      <td>Acura</td>\n",
       "      <td>39.384</td>\n",
       "      <td>19.875</td>\n",
       "      <td>Passenger</td>\n",
       "      <td>28.4</td>\n",
       "      <td>3.2</td>\n",
       "      <td>225.0</td>\n",
       "      <td>108.1</td>\n",
       "      <td>70.3</td>\n",
       "      <td>192.9</td>\n",
       "      <td>3.517</td>\n",
       "      <td>17.2</td>\n",
       "      <td>25.0</td>\n",
       "    </tr>\n",
       "    <tr>\n",
       "      <th>2</th>\n",
       "      <td>Acura</td>\n",
       "      <td>14.114</td>\n",
       "      <td>18.225</td>\n",
       "      <td>Passenger</td>\n",
       "      <td>NaN</td>\n",
       "      <td>3.2</td>\n",
       "      <td>225.0</td>\n",
       "      <td>106.9</td>\n",
       "      <td>70.6</td>\n",
       "      <td>192.0</td>\n",
       "      <td>3.470</td>\n",
       "      <td>17.2</td>\n",
       "      <td>26.0</td>\n",
       "    </tr>\n",
       "    <tr>\n",
       "      <th>3</th>\n",
       "      <td>Acura</td>\n",
       "      <td>8.588</td>\n",
       "      <td>29.725</td>\n",
       "      <td>Passenger</td>\n",
       "      <td>42.0</td>\n",
       "      <td>3.5</td>\n",
       "      <td>210.0</td>\n",
       "      <td>114.6</td>\n",
       "      <td>71.4</td>\n",
       "      <td>196.6</td>\n",
       "      <td>3.850</td>\n",
       "      <td>18.0</td>\n",
       "      <td>22.0</td>\n",
       "    </tr>\n",
       "  </tbody>\n",
       "</table>\n",
       "</div>"
      ],
      "text/plain": [
       "  Manufacturer  Sales_in_thousands  four_year_resale_value Vehicle_type  \\\n",
       "0        Acura              16.919                  16.360    Passenger   \n",
       "1        Acura              39.384                  19.875    Passenger   \n",
       "2        Acura              14.114                  18.225    Passenger   \n",
       "3        Acura               8.588                  29.725    Passenger   \n",
       "\n",
       "   Price_in_thousands  Engine_size  Horsepower  Wheelbase  Width  Length  \\\n",
       "0                21.5          1.8       140.0      101.2   67.3   172.4   \n",
       "1                28.4          3.2       225.0      108.1   70.3   192.9   \n",
       "2                 NaN          3.2       225.0      106.9   70.6   192.0   \n",
       "3                42.0          3.5       210.0      114.6   71.4   196.6   \n",
       "\n",
       "   Curb weight  Fuel_capacity  Fuel_efficiency  \n",
       "0        2.639           13.2             28.0  \n",
       "1        3.517           17.2             25.0  \n",
       "2        3.470           17.2             26.0  \n",
       "3        3.850           18.0             22.0  "
      ]
     },
     "execution_count": 135,
     "metadata": {},
     "output_type": "execute_result"
    }
   ],
   "source": [
    "df[df[\"Manufacturer\"]==\"Acura\"]"
   ]
  },
  {
   "cell_type": "code",
   "execution_count": 136,
   "id": "9242b52c",
   "metadata": {},
   "outputs": [
    {
     "data": {
      "text/html": [
       "<div>\n",
       "<style scoped>\n",
       "    .dataframe tbody tr th:only-of-type {\n",
       "        vertical-align: middle;\n",
       "    }\n",
       "\n",
       "    .dataframe tbody tr th {\n",
       "        vertical-align: top;\n",
       "    }\n",
       "\n",
       "    .dataframe thead tr th {\n",
       "        text-align: left;\n",
       "    }\n",
       "\n",
       "    .dataframe thead tr:last-of-type th {\n",
       "        text-align: right;\n",
       "    }\n",
       "</style>\n",
       "<table border=\"1\" class=\"dataframe\">\n",
       "  <thead>\n",
       "    <tr>\n",
       "      <th></th>\n",
       "      <th colspan=\"5\" halign=\"left\">Sales_in_thousands</th>\n",
       "    </tr>\n",
       "    <tr>\n",
       "      <th></th>\n",
       "      <th>min</th>\n",
       "      <th>max</th>\n",
       "      <th>mean</th>\n",
       "      <th>std</th>\n",
       "      <th>count</th>\n",
       "    </tr>\n",
       "    <tr>\n",
       "      <th>Vehicle_type</th>\n",
       "      <th></th>\n",
       "      <th></th>\n",
       "      <th></th>\n",
       "      <th></th>\n",
       "      <th></th>\n",
       "    </tr>\n",
       "  </thead>\n",
       "  <tbody>\n",
       "    <tr>\n",
       "      <th>Car</th>\n",
       "      <td>9.126</td>\n",
       "      <td>540.561</td>\n",
       "      <td>80.622293</td>\n",
       "      <td>98.192626</td>\n",
       "      <td>41</td>\n",
       "    </tr>\n",
       "    <tr>\n",
       "      <th>Passenger</th>\n",
       "      <td>0.110</td>\n",
       "      <td>247.994</td>\n",
       "      <td>43.234345</td>\n",
       "      <td>50.557875</td>\n",
       "      <td>116</td>\n",
       "    </tr>\n",
       "  </tbody>\n",
       "</table>\n",
       "</div>"
      ],
      "text/plain": [
       "             Sales_in_thousands                                     \n",
       "                            min      max       mean        std count\n",
       "Vehicle_type                                                        \n",
       "Car                       9.126  540.561  80.622293  98.192626    41\n",
       "Passenger                 0.110  247.994  43.234345  50.557875   116"
      ]
     },
     "execution_count": 136,
     "metadata": {},
     "output_type": "execute_result"
    }
   ],
   "source": [
    "df.groupby([\"Vehicle_type\"]).agg({\"Sales_in_thousands\":['min',\"max\",\"mean\",\"std\",\"count\"]})"
   ]
  },
  {
   "cell_type": "code",
   "execution_count": 137,
   "id": "7d25e9ce",
   "metadata": {},
   "outputs": [
    {
     "data": {
      "text/html": [
       "<div>\n",
       "<style scoped>\n",
       "    .dataframe tbody tr th:only-of-type {\n",
       "        vertical-align: middle;\n",
       "    }\n",
       "\n",
       "    .dataframe tbody tr th {\n",
       "        vertical-align: top;\n",
       "    }\n",
       "\n",
       "    .dataframe thead tr th {\n",
       "        text-align: left;\n",
       "    }\n",
       "\n",
       "    .dataframe thead tr:last-of-type th {\n",
       "        text-align: right;\n",
       "    }\n",
       "</style>\n",
       "<table border=\"1\" class=\"dataframe\">\n",
       "  <thead>\n",
       "    <tr>\n",
       "      <th></th>\n",
       "      <th colspan=\"5\" halign=\"left\">Price_in_thousands</th>\n",
       "    </tr>\n",
       "    <tr>\n",
       "      <th></th>\n",
       "      <th>min</th>\n",
       "      <th>max</th>\n",
       "      <th>mean</th>\n",
       "      <th>std</th>\n",
       "      <th>count</th>\n",
       "    </tr>\n",
       "    <tr>\n",
       "      <th>Vehicle_type</th>\n",
       "      <th></th>\n",
       "      <th></th>\n",
       "      <th></th>\n",
       "      <th></th>\n",
       "      <th></th>\n",
       "    </tr>\n",
       "  </thead>\n",
       "  <tbody>\n",
       "    <tr>\n",
       "      <th>Car</th>\n",
       "      <td>11.528</td>\n",
       "      <td>60.105</td>\n",
       "      <td>26.319975</td>\n",
       "      <td>10.169436</td>\n",
       "      <td>40</td>\n",
       "    </tr>\n",
       "    <tr>\n",
       "      <th>Passenger</th>\n",
       "      <td>9.235</td>\n",
       "      <td>85.500</td>\n",
       "      <td>27.763200</td>\n",
       "      <td>15.566574</td>\n",
       "      <td>115</td>\n",
       "    </tr>\n",
       "  </tbody>\n",
       "</table>\n",
       "</div>"
      ],
      "text/plain": [
       "             Price_in_thousands                                    \n",
       "                            min     max       mean        std count\n",
       "Vehicle_type                                                       \n",
       "Car                      11.528  60.105  26.319975  10.169436    40\n",
       "Passenger                 9.235  85.500  27.763200  15.566574   115"
      ]
     },
     "execution_count": 137,
     "metadata": {},
     "output_type": "execute_result"
    }
   ],
   "source": [
    "df.groupby([\"Vehicle_type\"]).agg({\"Price_in_thousands\":['min',\"max\",\"mean\",\"std\",\"count\"]})"
   ]
  },
  {
   "cell_type": "code",
   "execution_count": 138,
   "id": "9c2610a6",
   "metadata": {},
   "outputs": [
    {
     "data": {
      "text/plain": [
       "<Axes: xlabel='Vehicle_type'>"
      ]
     },
     "execution_count": 138,
     "metadata": {},
     "output_type": "execute_result"
    },
    {
     "data": {
      "image/png": "[encoded data removed]",
      "text/plain": [
       "<Figure size 640x480 with 1 Axes>"
      ]
     },
     "metadata": {},
     "output_type": "display_data"
    }
   ],
   "source": [
    "df.groupby([\"Vehicle_type\"]).agg({\"Price_in_thousands\":[\"mean\"]}).plot(kind=\"bar\")"
   ]
  },
  {
   "cell_type": "markdown",
   "id": "21ceb479",
   "metadata": {},
   "source": [
    "### Numerical to Numerical"
   ]
  },
  {
   "cell_type": "code",
   "execution_count": 139,
   "id": "73f1ab59",
   "metadata": {
    "scrolled": false
   },
   "outputs": [
    {
     "data": {
      "image/png": "[encoded data removed]",
      "text/plain": [
       "<Figure size 640x480 with 1 Axes>"
      ]
     },
     "metadata": {},
     "output_type": "display_data"
    }
   ],
   "source": [
    "plt.scatter(df[\"Sales_in_thousands\"],df[\"Price_in_thousands\"])\n",
    "plt.xlabel(\"Sales\")\n",
    "plt.ylabel(\"Price\")\n",
    "plt.title(\"Sales vs Price\")\n",
    "plt.show()"
   ]
  },
  {
   "cell_type": "code",
   "execution_count": 140,
   "id": "e85b7f79",
   "metadata": {
    "scrolled": true
   },
   "outputs": [
    {
     "data": {
      "text/html": [
       "<div>\n",
       "<style scoped>\n",
       "    .dataframe tbody tr th:only-of-type {\n",
       "        vertical-align: middle;\n",
       "    }\n",
       "\n",
       "    .dataframe tbody tr th {\n",
       "        vertical-align: top;\n",
       "    }\n",
       "\n",
       "    .dataframe thead th {\n",
       "        text-align: right;\n",
       "    }\n",
       "</style>\n",
       "<table border=\"1\" class=\"dataframe\">\n",
       "  <thead>\n",
       "    <tr style=\"text-align: right;\">\n",
       "      <th></th>\n",
       "      <th>Sales_in_thousands</th>\n",
       "      <th>Price_in_thousands</th>\n",
       "    </tr>\n",
       "  </thead>\n",
       "  <tbody>\n",
       "    <tr>\n",
       "      <th>Sales_in_thousands</th>\n",
       "      <td>1.000000</td>\n",
       "      <td>-0.304734</td>\n",
       "    </tr>\n",
       "    <tr>\n",
       "      <th>Price_in_thousands</th>\n",
       "      <td>-0.304734</td>\n",
       "      <td>1.000000</td>\n",
       "    </tr>\n",
       "  </tbody>\n",
       "</table>\n",
       "</div>"
      ],
      "text/plain": [
       "                    Sales_in_thousands  Price_in_thousands\n",
       "Sales_in_thousands            1.000000           -0.304734\n",
       "Price_in_thousands           -0.304734            1.000000"
      ]
     },
     "execution_count": 140,
     "metadata": {},
     "output_type": "execute_result"
    }
   ],
   "source": [
    "df[[\"Sales_in_thousands\",\"Price_in_thousands\"]].corr()"
   ]
  },
  {
   "cell_type": "code",
   "execution_count": 141,
   "id": "572b2e0b",
   "metadata": {
    "scrolled": false
   },
   "outputs": [
    {
     "data": {
      "image/png": "[encoded data removed]",
      "text/plain": [
       "<Figure size 640x480 with 1 Axes>"
      ]
     },
     "metadata": {},
     "output_type": "display_data"
    }
   ],
   "source": [
    "plt.scatter(df[\"Price_in_thousands\"],df[\"four_year_resale_value\"])\n",
    "plt.xlabel(\"Price\")\n",
    "plt.ylabel(\"Resale\")\n",
    "plt.title(\"Price vs Resale\")\n",
    "plt.show()"
   ]
  },
  {
   "cell_type": "code",
   "execution_count": 142,
   "id": "d53fa9c1",
   "metadata": {},
   "outputs": [
    {
     "data": {
      "text/html": [
       "<div>\n",
       "<style scoped>\n",
       "    .dataframe tbody tr th:only-of-type {\n",
       "        vertical-align: middle;\n",
       "    }\n",
       "\n",
       "    .dataframe tbody tr th {\n",
       "        vertical-align: top;\n",
       "    }\n",
       "\n",
       "    .dataframe thead th {\n",
       "        text-align: right;\n",
       "    }\n",
       "</style>\n",
       "<table border=\"1\" class=\"dataframe\">\n",
       "  <thead>\n",
       "    <tr style=\"text-align: right;\">\n",
       "      <th></th>\n",
       "      <th>Price_in_thousands</th>\n",
       "      <th>four_year_resale_value</th>\n",
       "    </tr>\n",
       "  </thead>\n",
       "  <tbody>\n",
       "    <tr>\n",
       "      <th>Price_in_thousands</th>\n",
       "      <td>1.00000</td>\n",
       "      <td>0.95384</td>\n",
       "    </tr>\n",
       "    <tr>\n",
       "      <th>four_year_resale_value</th>\n",
       "      <td>0.95384</td>\n",
       "      <td>1.00000</td>\n",
       "    </tr>\n",
       "  </tbody>\n",
       "</table>\n",
       "</div>"
      ],
      "text/plain": [
       "                        Price_in_thousands  four_year_resale_value\n",
       "Price_in_thousands                 1.00000                 0.95384\n",
       "four_year_resale_value             0.95384                 1.00000"
      ]
     },
     "execution_count": 142,
     "metadata": {},
     "output_type": "execute_result"
    }
   ],
   "source": [
    "df[[\"Price_in_thousands\",\"four_year_resale_value\"]].corr()"
   ]
  },
  {
   "cell_type": "code",
   "execution_count": 143,
   "id": "11c8c34a",
   "metadata": {},
   "outputs": [
    {
     "data": {
      "image/png": "[encoded data removed]",
      "text/plain": [
       "<Figure size 640x480 with 1 Axes>"
      ]
     },
     "metadata": {},
     "output_type": "display_data"
    }
   ],
   "source": [
    "df.plot(kind=\"bar\")\n",
    "plt.show()"
   ]
  },
  {
   "cell_type": "code",
   "execution_count": 144,
   "id": "93338e98",
   "metadata": {},
   "outputs": [
    {
     "name": "stderr",
     "output_type": "stream",
     "text": [
      "C:\\Users\\HP\\anaconda3\\lib\\site-packages\\seaborn\\axisgrid.py:118: UserWarning: The figure layout has changed to tight\n",
      "  self._figure.tight_layout(*args, **kwargs)\n"
     ]
    },
    {
     "data": {
      "image/png": "[encoded data removed]",
      "text/plain": [
       "<Figure size 500x500 with 1 Axes>"
      ]
     },
     "metadata": {},
     "output_type": "display_data"
    }
   ],
   "source": [
    "sns.displot(df['Horsepower'],kde=True)  # kde=True adds a Kernel Density Estimate plot\n",
    "plt.title('Distribution Plot using Seaborn')\n",
    "plt.show()\n"
   ]
  },
  {
   "cell_type": "code",
   "execution_count": 145,
   "id": "8c15c031",
   "metadata": {
    "scrolled": false
   },
   "outputs": [],
   "source": [
    "#sns.pairplot(df)\n",
    "#plt.show()"
   ]
  },
  {
   "cell_type": "markdown",
   "id": "e9139b32",
   "metadata": {},
   "source": [
    "### Missing Value Treatment"
   ]
  },
  {
   "cell_type": "code",
   "execution_count": 146,
   "id": "978d7ed2",
   "metadata": {
    "scrolled": false
   },
   "outputs": [
    {
     "data": {
      "text/plain": [
       "Manufacturer               0\n",
       "Sales_in_thousands         0\n",
       "four_year_resale_value    36\n",
       "Vehicle_type               0\n",
       "Price_in_thousands         2\n",
       "Engine_size                1\n",
       "Horsepower                 1\n",
       "Wheelbase                  1\n",
       "Width                      1\n",
       "Length                     1\n",
       "Curb weight                2\n",
       "Fuel_capacity              1\n",
       "Fuel_efficiency            3\n",
       "dtype: int64"
      ]
     },
     "execution_count": 146,
     "metadata": {},
     "output_type": "execute_result"
    }
   ],
   "source": [
    "df.isnull().sum()"
   ]
  },
  {
   "cell_type": "code",
   "execution_count": 147,
   "id": "261cfa38",
   "metadata": {},
   "outputs": [
    {
     "data": {
      "text/plain": [
       "Manufacturer               object\n",
       "Sales_in_thousands        float64\n",
       "four_year_resale_value    float64\n",
       "Vehicle_type               object\n",
       "Price_in_thousands        float64\n",
       "Engine_size               float64\n",
       "Horsepower                float64\n",
       "Wheelbase                 float64\n",
       "Width                     float64\n",
       "Length                    float64\n",
       "Curb weight               float64\n",
       "Fuel_capacity             float64\n",
       "Fuel_efficiency           float64\n",
       "dtype: object"
      ]
     },
     "execution_count": 147,
     "metadata": {},
     "output_type": "execute_result"
    }
   ],
   "source": [
    "df.dtypes"
   ]
  },
  {
   "cell_type": "code",
   "execution_count": 148,
   "id": "50da9f09",
   "metadata": {},
   "outputs": [],
   "source": [
    "import statistics as st"
   ]
  },
  {
   "cell_type": "code",
   "execution_count": 149,
   "id": "8b1f56e8",
   "metadata": {},
   "outputs": [],
   "source": [
    "\n",
    "#df1=df.dropna()"
   ]
  },
  {
   "cell_type": "code",
   "execution_count": 150,
   "id": "9a5c36dd",
   "metadata": {},
   "outputs": [],
   "source": [
    "#df1.shape"
   ]
  },
  {
   "cell_type": "code",
   "execution_count": 151,
   "id": "8c56dafb",
   "metadata": {},
   "outputs": [],
   "source": [
    "#df[\"four_year_resale_value\"].fillna(st.median, inplace=True)"
   ]
  },
  {
   "cell_type": "code",
   "execution_count": 152,
   "id": "abfa0c37",
   "metadata": {},
   "outputs": [],
   "source": [
    "\n",
    "#40/157 #25% records are missing"
   ]
  },
  {
   "cell_type": "code",
   "execution_count": 153,
   "id": "b6ab4f03",
   "metadata": {},
   "outputs": [
    {
     "data": {
      "text/plain": [
       "Manufacturer               0\n",
       "Sales_in_thousands         0\n",
       "four_year_resale_value    36\n",
       "Vehicle_type               0\n",
       "Price_in_thousands         2\n",
       "Engine_size                1\n",
       "Horsepower                 1\n",
       "Wheelbase                  1\n",
       "Width                      1\n",
       "Length                     1\n",
       "Curb weight                2\n",
       "Fuel_capacity              1\n",
       "Fuel_efficiency            3\n",
       "dtype: int64"
      ]
     },
     "execution_count": 153,
     "metadata": {},
     "output_type": "execute_result"
    }
   ],
   "source": [
    "df.isnull().sum()"
   ]
  },
  {
   "cell_type": "code",
   "execution_count": 154,
   "id": "524d67fb",
   "metadata": {},
   "outputs": [
    {
     "data": {
      "text/plain": [
       "Manufacturer               object\n",
       "Sales_in_thousands        float64\n",
       "four_year_resale_value    float64\n",
       "Vehicle_type               object\n",
       "Price_in_thousands        float64\n",
       "Engine_size               float64\n",
       "Horsepower                float64\n",
       "Wheelbase                 float64\n",
       "Width                     float64\n",
       "Length                    float64\n",
       "Curb weight               float64\n",
       "Fuel_capacity             float64\n",
       "Fuel_efficiency           float64\n",
       "dtype: object"
      ]
     },
     "execution_count": 154,
     "metadata": {},
     "output_type": "execute_result"
    }
   ],
   "source": [
    "df.dtypes"
   ]
  },
  {
   "cell_type": "code",
   "execution_count": 155,
   "id": "ce6071d8",
   "metadata": {
    "scrolled": false
   },
   "outputs": [],
   "source": [
    "#df.fillna(0)"
   ]
  },
  {
   "cell_type": "code",
   "execution_count": 156,
   "id": "8d2f99dc",
   "metadata": {},
   "outputs": [],
   "source": [
    "import numpy as np"
   ]
  },
  {
   "cell_type": "code",
   "execution_count": 157,
   "id": "1c3fe4b6",
   "metadata": {},
   "outputs": [],
   "source": [
    "df[\"four_year_resale_value\"] = df['four_year_resale_value'].fillna(df['four_year_resale_value'].mean())"
   ]
  },
  {
   "cell_type": "code",
   "execution_count": 158,
   "id": "6804ba66",
   "metadata": {},
   "outputs": [
    {
     "data": {
      "text/plain": [
       "(157, 13)"
      ]
     },
     "execution_count": 158,
     "metadata": {},
     "output_type": "execute_result"
    }
   ],
   "source": [
    "df.shape"
   ]
  },
  {
   "cell_type": "code",
   "execution_count": 159,
   "id": "474dcca9",
   "metadata": {
    "scrolled": true
   },
   "outputs": [],
   "source": [
    "\n",
    "df1=df.dropna()"
   ]
  },
  {
   "cell_type": "code",
   "execution_count": 160,
   "id": "443061c1",
   "metadata": {},
   "outputs": [
    {
     "data": {
      "text/plain": [
       "Manufacturer              0\n",
       "Sales_in_thousands        0\n",
       "four_year_resale_value    0\n",
       "Vehicle_type              0\n",
       "Price_in_thousands        0\n",
       "Engine_size               0\n",
       "Horsepower                0\n",
       "Wheelbase                 0\n",
       "Width                     0\n",
       "Length                    0\n",
       "Curb weight               0\n",
       "Fuel_capacity             0\n",
       "Fuel_efficiency           0\n",
       "dtype: int64"
      ]
     },
     "execution_count": 160,
     "metadata": {},
     "output_type": "execute_result"
    }
   ],
   "source": [
    "df1.isnull().sum()"
   ]
  },
  {
   "cell_type": "code",
   "execution_count": 161,
   "id": "328e41d0",
   "metadata": {},
   "outputs": [
    {
     "data": {
      "text/plain": [
       "Manufacturer               object\n",
       "Sales_in_thousands        float64\n",
       "four_year_resale_value    float64\n",
       "Vehicle_type               object\n",
       "Price_in_thousands        float64\n",
       "Engine_size               float64\n",
       "Horsepower                float64\n",
       "Wheelbase                 float64\n",
       "Width                     float64\n",
       "Length                    float64\n",
       "Curb weight               float64\n",
       "Fuel_capacity             float64\n",
       "Fuel_efficiency           float64\n",
       "dtype: object"
      ]
     },
     "execution_count": 161,
     "metadata": {},
     "output_type": "execute_result"
    }
   ],
   "source": [
    "df1.dtypes"
   ]
  },
  {
   "cell_type": "markdown",
   "id": "5ebdfee2",
   "metadata": {},
   "source": [
    "### Outlier Treatment"
   ]
  },
  {
   "cell_type": "code",
   "execution_count": 162,
   "id": "d8ecc9fc",
   "metadata": {},
   "outputs": [
    {
     "data": {
      "image/png": "[encoded data removed]",
      "text/plain": [
       "<Figure size 640x480 with 1 Axes>"
      ]
     },
     "metadata": {},
     "output_type": "display_data"
    }
   ],
   "source": [
    "sns.boxplot(y=df1[\"Sales_in_thousands\"])\n",
    "plt.show()"
   ]
  },
  {
   "cell_type": "code",
   "execution_count": 163,
   "id": "0c85fcd3",
   "metadata": {},
   "outputs": [],
   "source": [
    "# q1=df1[\"Sales_in_thousands\"].quantile(.25)\n",
    "# q3=df1[\"Sales_in_thousands\"].quantile(.75)\n",
    "# iqr=q3-q1\n",
    "# upper_bound=q3+1.5*iqr\n",
    "# lower_bound=q1-1.5*iqr\n",
    "# df1[\"Sales_in_thousands\"]=np.whtpep_pickup_datetime(df1[\"Sales_in_thousands\"]>=upper_bound,upper_bound,df1[\"Sales_in_thousands\"])\n",
    "# df1[\"Sales_in_thousands\"]=np.where(df1[\"Sales_in_thousands\"]<=lower_bound,lower_bound,df1[\"Sales_in_thousands\"])\n"
   ]
  },
  {
   "cell_type": "code",
   "execution_count": 164,
   "id": "55282e7a",
   "metadata": {},
   "outputs": [
    {
     "name": "stderr",
     "output_type": "stream",
     "text": [
      "C:\\Users\\HP\\AppData\\Local\\Temp\\ipykernel_24496\\1413056338.py:9: SettingWithCopyWarning: \n",
      "A value is trying to be set on a copy of a slice from a DataFrame.\n",
      "Try using .loc[row_indexer,col_indexer] = value instead\n",
      "\n",
      "See the caveats in the documentation: https://pandas.pydata.org/pandas-docs/stable/user_guide/indexing.html#returning-a-view-versus-a-copy\n",
      "  df1[\"Sales_in_thousands\"] = np.where(df1[\"Sales_in_thousands\"] >= upper_bound, upper_bound, df1[\"Sales_in_thousands\"])\n",
      "C:\\Users\\HP\\AppData\\Local\\Temp\\ipykernel_24496\\1413056338.py:10: SettingWithCopyWarning: \n",
      "A value is trying to be set on a copy of a slice from a DataFrame.\n",
      "Try using .loc[row_indexer,col_indexer] = value instead\n",
      "\n",
      "See the caveats in the documentation: https://pandas.pydata.org/pandas-docs/stable/user_guide/indexing.html#returning-a-view-versus-a-copy\n",
      "  df1[\"Sales_in_thousands\"] = np.where(df1[\"Sales_in_thousands\"] <= lower_bound, lower_bound, df1[\"Sales_in_thousands\"])\n"
     ]
    }
   ],
   "source": [
    "import numpy as np\n",
    "\n",
    "q1 = df1[\"Sales_in_thousands\"].quantile(0.25)\n",
    "q3 = df1[\"Sales_in_thousands\"].quantile(0.75)\n",
    "iqr = q3 - q1\n",
    "upper_bound = q3 + 1.5 * iqr\n",
    "lower_bound = q1 - 1.5 * iqr\n",
    "\n",
    "df1[\"Sales_in_thousands\"] = np.where(df1[\"Sales_in_thousands\"] >= upper_bound, upper_bound, df1[\"Sales_in_thousands\"])\n",
    "df1[\"Sales_in_thousands\"] = np.where(df1[\"Sales_in_thousands\"] <= lower_bound, lower_bound, df1[\"Sales_in_thousands\"])\n"
   ]
  },
  {
   "cell_type": "code",
   "execution_count": 165,
   "id": "39a73ee2",
   "metadata": {},
   "outputs": [
    {
     "name": "stderr",
     "output_type": "stream",
     "text": [
      "C:\\Users\\HP\\AppData\\Local\\Temp\\ipykernel_24496\\565487028.py:7: SettingWithCopyWarning: \n",
      "A value is trying to be set on a copy of a slice from a DataFrame.\n",
      "Try using .loc[row_indexer,col_indexer] = value instead\n",
      "\n",
      "See the caveats in the documentation: https://pandas.pydata.org/pandas-docs/stable/user_guide/indexing.html#returning-a-view-versus-a-copy\n",
      "  df1[var]=np.where(df1[var]>=upper_bound,upper_bound,df1[var])\n",
      "C:\\Users\\HP\\AppData\\Local\\Temp\\ipykernel_24496\\565487028.py:8: SettingWithCopyWarning: \n",
      "A value is trying to be set on a copy of a slice from a DataFrame.\n",
      "Try using .loc[row_indexer,col_indexer] = value instead\n",
      "\n",
      "See the caveats in the documentation: https://pandas.pydata.org/pandas-docs/stable/user_guide/indexing.html#returning-a-view-versus-a-copy\n",
      "  df1[var]=np.where(df1[var]<=lower_bound,lower_bound,df1[var])\n"
     ]
    }
   ],
   "source": [
    "var=\"Sales_in_thousands\"\n",
    "q1=df1[var].quantile(.25)\n",
    "q3=df1[var].quantile(.75)\n",
    "iqr=q3-q1\n",
    "upper_bound=q3+1.5*iqr\n",
    "lower_bound=q1-1.5*iqr\n",
    "df1[var]=np.where(df1[var]>=upper_bound,upper_bound,df1[var])\n",
    "df1[var]=np.where(df1[var]<=lower_bound,lower_bound,df1[var])\n"
   ]
  },
  {
   "cell_type": "code",
   "execution_count": 166,
   "id": "76630fe0",
   "metadata": {},
   "outputs": [
    {
     "data": {
      "image/png": "[encoded data removed]",
      "text/plain": [
       "<Figure size 640x480 with 1 Axes>"
      ]
     },
     "metadata": {},
     "output_type": "display_data"
    }
   ],
   "source": [
    "\n",
    "sns.boxplot(y=df1[\"Sales_in_thousands\"])\n",
    "plt.show()"
   ]
  },
  {
   "cell_type": "code",
   "execution_count": 167,
   "id": "805ea9e3",
   "metadata": {},
   "outputs": [
    {
     "data": {
      "text/plain": [
       "149.603375"
      ]
     },
     "execution_count": 167,
     "metadata": {},
     "output_type": "execute_result"
    }
   ],
   "source": [
    "upper_bound"
   ]
  },
  {
   "cell_type": "code",
   "execution_count": 168,
   "id": "8d1dc9f5",
   "metadata": {},
   "outputs": [
    {
     "data": {
      "text/plain": [
       "-67.819625"
      ]
     },
     "execution_count": 168,
     "metadata": {},
     "output_type": "execute_result"
    }
   ],
   "source": [
    "lower_bound"
   ]
  },
  {
   "cell_type": "code",
   "execution_count": 169,
   "id": "8f45a2eb",
   "metadata": {},
   "outputs": [
    {
     "data": {
      "text/plain": [
       "Manufacturer               object\n",
       "Sales_in_thousands        float64\n",
       "four_year_resale_value    float64\n",
       "Vehicle_type               object\n",
       "Price_in_thousands        float64\n",
       "Engine_size               float64\n",
       "Horsepower                float64\n",
       "Wheelbase                 float64\n",
       "Width                     float64\n",
       "Length                    float64\n",
       "Curb weight               float64\n",
       "Fuel_capacity             float64\n",
       "Fuel_efficiency           float64\n",
       "dtype: object"
      ]
     },
     "execution_count": 169,
     "metadata": {},
     "output_type": "execute_result"
    }
   ],
   "source": [
    "df1.dtypes"
   ]
  },
  {
   "cell_type": "code",
   "execution_count": 170,
   "id": "a5e9dd91",
   "metadata": {},
   "outputs": [
    {
     "data": {
      "image/png": "[encoded data removed]",
      "text/plain": [
       "<Figure size 640x480 with 1 Axes>"
      ]
     },
     "metadata": {},
     "output_type": "display_data"
    }
   ],
   "source": [
    "sns.boxplot(y=df1[\"four_year_resale_value\"])\n",
    "plt.show()"
   ]
  },
  {
   "cell_type": "code",
   "execution_count": 171,
   "id": "357c8c21",
   "metadata": {},
   "outputs": [
    {
     "name": "stderr",
     "output_type": "stream",
     "text": [
      "C:\\Users\\HP\\AppData\\Local\\Temp\\ipykernel_24496\\4153563119.py:7: SettingWithCopyWarning: \n",
      "A value is trying to be set on a copy of a slice from a DataFrame.\n",
      "Try using .loc[row_indexer,col_indexer] = value instead\n",
      "\n",
      "See the caveats in the documentation: https://pandas.pydata.org/pandas-docs/stable/user_guide/indexing.html#returning-a-view-versus-a-copy\n",
      "  df1[var]=np.where(df1[var]>=upper_bound,upper_bound,df1[var])\n",
      "C:\\Users\\HP\\AppData\\Local\\Temp\\ipykernel_24496\\4153563119.py:8: SettingWithCopyWarning: \n",
      "A value is trying to be set on a copy of a slice from a DataFrame.\n",
      "Try using .loc[row_indexer,col_indexer] = value instead\n",
      "\n",
      "See the caveats in the documentation: https://pandas.pydata.org/pandas-docs/stable/user_guide/indexing.html#returning-a-view-versus-a-copy\n",
      "  df1[var]=np.where(df1[var]<=lower_bound,lower_bound,df1[var])\n"
     ]
    }
   ],
   "source": [
    "var=\"four_year_resale_value\"\n",
    "q1=df1[var].quantile(.25)\n",
    "q3=df1[var].quantile(.75)\n",
    "iqr=q3-q1\n",
    "upper_bound=q3+1.5*iqr\n",
    "lower_bound=q1-1.5*iqr\n",
    "df1[var]=np.where(df1[var]>=upper_bound,upper_bound,df1[var])\n",
    "df1[var]=np.where(df1[var]<=lower_bound,lower_bound,df1[var])\n"
   ]
  },
  {
   "cell_type": "code",
   "execution_count": 172,
   "id": "a72ae7e8",
   "metadata": {
    "scrolled": false
   },
   "outputs": [
    {
     "data": {
      "image/png": "[encoded data removed]",
      "text/plain": [
       "<Figure size 640x480 with 1 Axes>"
      ]
     },
     "metadata": {},
     "output_type": "display_data"
    }
   ],
   "source": [
    "sns.boxplot(y=df1[\"four_year_resale_value\"])\n",
    "plt.show()"
   ]
  },
  {
   "cell_type": "code",
   "execution_count": 173,
   "id": "07b2e3ab",
   "metadata": {},
   "outputs": [
    {
     "data": {
      "image/png": "[encoded data removed]",
      "text/plain": [
       "<Figure size 640x480 with 1 Axes>"
      ]
     },
     "metadata": {},
     "output_type": "display_data"
    }
   ],
   "source": [
    "sns.boxplot(y=df1[\"Price_in_thousands\"])\n",
    "plt.show()"
   ]
  },
  {
   "cell_type": "code",
   "execution_count": 174,
   "id": "f93ee1c8",
   "metadata": {},
   "outputs": [
    {
     "name": "stderr",
     "output_type": "stream",
     "text": [
      "C:\\Users\\HP\\AppData\\Local\\Temp\\ipykernel_24496\\1279066784.py:7: SettingWithCopyWarning: \n",
      "A value is trying to be set on a copy of a slice from a DataFrame.\n",
      "Try using .loc[row_indexer,col_indexer] = value instead\n",
      "\n",
      "See the caveats in the documentation: https://pandas.pydata.org/pandas-docs/stable/user_guide/indexing.html#returning-a-view-versus-a-copy\n",
      "  df1[var]=np.where(df1[var]>=upper_bound,upper_bound,df1[var])\n",
      "C:\\Users\\HP\\AppData\\Local\\Temp\\ipykernel_24496\\1279066784.py:8: SettingWithCopyWarning: \n",
      "A value is trying to be set on a copy of a slice from a DataFrame.\n",
      "Try using .loc[row_indexer,col_indexer] = value instead\n",
      "\n",
      "See the caveats in the documentation: https://pandas.pydata.org/pandas-docs/stable/user_guide/indexing.html#returning-a-view-versus-a-copy\n",
      "  df1[var]=np.where(df1[var]<=lower_bound,lower_bound,df1[var])\n"
     ]
    }
   ],
   "source": [
    "var=\"Price_in_thousands\"\n",
    "q1=df1[var].quantile(.25)\n",
    "q3=df1[var].quantile(.75)\n",
    "iqr=q3-q1\n",
    "upper_bound=q3+1.5*iqr\n",
    "lower_bound=q1-1.5*iqr\n",
    "df1[var]=np.where(df1[var]>=upper_bound,upper_bound,df1[var])\n",
    "df1[var]=np.where(df1[var]<=lower_bound,lower_bound,df1[var])\n"
   ]
  },
  {
   "cell_type": "code",
   "execution_count": 175,
   "id": "b16c2103",
   "metadata": {},
   "outputs": [
    {
     "data": {
      "image/png": "[encoded data removed]",
      "text/plain": [
       "<Figure size 640x480 with 1 Axes>"
      ]
     },
     "metadata": {},
     "output_type": "display_data"
    }
   ],
   "source": [
    "sns.boxplot(y=df1[\"Price_in_thousands\"])\n",
    "plt.show()"
   ]
  },
  {
   "cell_type": "code",
   "execution_count": 176,
   "id": "6421205d",
   "metadata": {
    "scrolled": false
   },
   "outputs": [
    {
     "data": {
      "image/png": "[encoded data removed]",
      "text/plain": [
       "<Figure size 640x480 with 1 Axes>"
      ]
     },
     "metadata": {},
     "output_type": "display_data"
    }
   ],
   "source": [
    "sns.boxplot(y=df1[\"Engine_size\"])\n",
    "plt.show()"
   ]
  },
  {
   "cell_type": "code",
   "execution_count": 177,
   "id": "0480d0af",
   "metadata": {},
   "outputs": [
    {
     "name": "stderr",
     "output_type": "stream",
     "text": [
      "C:\\Users\\HP\\AppData\\Local\\Temp\\ipykernel_24496\\689902798.py:7: SettingWithCopyWarning: \n",
      "A value is trying to be set on a copy of a slice from a DataFrame.\n",
      "Try using .loc[row_indexer,col_indexer] = value instead\n",
      "\n",
      "See the caveats in the documentation: https://pandas.pydata.org/pandas-docs/stable/user_guide/indexing.html#returning-a-view-versus-a-copy\n",
      "  df1[var]=np.where(df1[var]>=upper_bound,upper_bound,df1[var])\n",
      "C:\\Users\\HP\\AppData\\Local\\Temp\\ipykernel_24496\\689902798.py:8: SettingWithCopyWarning: \n",
      "A value is trying to be set on a copy of a slice from a DataFrame.\n",
      "Try using .loc[row_indexer,col_indexer] = value instead\n",
      "\n",
      "See the caveats in the documentation: https://pandas.pydata.org/pandas-docs/stable/user_guide/indexing.html#returning-a-view-versus-a-copy\n",
      "  df1[var]=np.where(df1[var]<=lower_bound,lower_bound,df1[var])\n"
     ]
    }
   ],
   "source": [
    "var=\"Engine_size\"\n",
    "q1=df1[var].quantile(.25)\n",
    "q3=df1[var].quantile(.75)\n",
    "iqr=q3-q1\n",
    "upper_bound=q3+1.5*iqr\n",
    "lower_bound=q1-1.5*iqr\n",
    "df1[var]=np.where(df1[var]>=upper_bound,upper_bound,df1[var])\n",
    "df1[var]=np.where(df1[var]<=lower_bound,lower_bound,df1[var])\n"
   ]
  },
  {
   "cell_type": "code",
   "execution_count": 178,
   "id": "36775757",
   "metadata": {},
   "outputs": [
    {
     "data": {
      "image/png": "[encoded data removed]",
      "text/plain": [
       "<Figure size 640x480 with 1 Axes>"
      ]
     },
     "metadata": {},
     "output_type": "display_data"
    }
   ],
   "source": [
    "sns.boxplot(y=df1[\"Engine_size\"])\n",
    "plt.show()"
   ]
  },
  {
   "cell_type": "code",
   "execution_count": 179,
   "id": "f4445099",
   "metadata": {},
   "outputs": [
    {
     "data": {
      "image/png": "[encoded data removed]",
      "text/plain": [
       "<Figure size 640x480 with 1 Axes>"
      ]
     },
     "metadata": {},
     "output_type": "display_data"
    }
   ],
   "source": [
    "sns.boxplot(y=df1[\"Horsepower\"])\n",
    "plt.show()"
   ]
  },
  {
   "cell_type": "code",
   "execution_count": 180,
   "id": "6380dad6",
   "metadata": {},
   "outputs": [
    {
     "name": "stderr",
     "output_type": "stream",
     "text": [
      "C:\\Users\\HP\\AppData\\Local\\Temp\\ipykernel_24496\\3483835106.py:7: SettingWithCopyWarning: \n",
      "A value is trying to be set on a copy of a slice from a DataFrame.\n",
      "Try using .loc[row_indexer,col_indexer] = value instead\n",
      "\n",
      "See the caveats in the documentation: https://pandas.pydata.org/pandas-docs/stable/user_guide/indexing.html#returning-a-view-versus-a-copy\n",
      "  df1[var]=np.where(df1[var]>=upper_bound,upper_bound,df1[var])\n",
      "C:\\Users\\HP\\AppData\\Local\\Temp\\ipykernel_24496\\3483835106.py:8: SettingWithCopyWarning: \n",
      "A value is trying to be set on a copy of a slice from a DataFrame.\n",
      "Try using .loc[row_indexer,col_indexer] = value instead\n",
      "\n",
      "See the caveats in the documentation: https://pandas.pydata.org/pandas-docs/stable/user_guide/indexing.html#returning-a-view-versus-a-copy\n",
      "  df1[var]=np.where(df1[var]<=lower_bound,lower_bound,df1[var])\n"
     ]
    }
   ],
   "source": [
    "var=\"Horsepower\"\n",
    "q1=df1[var].quantile(.25)\n",
    "q3=df1[var].quantile(.75)\n",
    "iqr=q3-q1\n",
    "upper_bound=q3+1.5*iqr\n",
    "lower_bound=q1-1.5*iqr\n",
    "df1[var]=np.where(df1[var]>=upper_bound,upper_bound,df1[var])\n",
    "df1[var]=np.where(df1[var]<=lower_bound,lower_bound,df1[var])\n"
   ]
  },
  {
   "cell_type": "code",
   "execution_count": 181,
   "id": "c56bc662",
   "metadata": {
    "scrolled": false
   },
   "outputs": [
    {
     "data": {
      "image/png": "[encoded data removed]",
      "text/plain": [
       "<Figure size 640x480 with 1 Axes>"
      ]
     },
     "metadata": {},
     "output_type": "display_data"
    }
   ],
   "source": [
    "sns.boxplot(y=df1[\"Horsepower\"])\n",
    "plt.show()"
   ]
  },
  {
   "cell_type": "code",
   "execution_count": 182,
   "id": "45d78354",
   "metadata": {},
   "outputs": [
    {
     "data": {
      "image/png": "[encoded data removed]",
      "text/plain": [
       "<Figure size 640x480 with 1 Axes>"
      ]
     },
     "metadata": {},
     "output_type": "display_data"
    }
   ],
   "source": [
    "sns.boxplot(y=df1[\"Wheelbase\"])\n",
    "plt.show()"
   ]
  },
  {
   "cell_type": "code",
   "execution_count": 183,
   "id": "e96cce22",
   "metadata": {},
   "outputs": [
    {
     "name": "stderr",
     "output_type": "stream",
     "text": [
      "C:\\Users\\HP\\AppData\\Local\\Temp\\ipykernel_24496\\32256785.py:7: SettingWithCopyWarning: \n",
      "A value is trying to be set on a copy of a slice from a DataFrame.\n",
      "Try using .loc[row_indexer,col_indexer] = value instead\n",
      "\n",
      "See the caveats in the documentation: https://pandas.pydata.org/pandas-docs/stable/user_guide/indexing.html#returning-a-view-versus-a-copy\n",
      "  df1[var]=np.where(df1[var]>=upper_bound,upper_bound,df1[var])\n",
      "C:\\Users\\HP\\AppData\\Local\\Temp\\ipykernel_24496\\32256785.py:8: SettingWithCopyWarning: \n",
      "A value is trying to be set on a copy of a slice from a DataFrame.\n",
      "Try using .loc[row_indexer,col_indexer] = value instead\n",
      "\n",
      "See the caveats in the documentation: https://pandas.pydata.org/pandas-docs/stable/user_guide/indexing.html#returning-a-view-versus-a-copy\n",
      "  df1[var]=np.where(df1[var]<=lower_bound,lower_bound,df1[var])\n"
     ]
    }
   ],
   "source": [
    "var=\"Wheelbase\"\n",
    "q1=df1[var].quantile(.25)\n",
    "q3=df1[var].quantile(.75)\n",
    "iqr=q3-q1\n",
    "upper_bound=q3+1.5*iqr\n",
    "lower_bound=q1-1.5*iqr\n",
    "df1[var]=np.where(df1[var]>=upper_bound,upper_bound,df1[var])\n",
    "df1[var]=np.where(df1[var]<=lower_bound,lower_bound,df1[var])\n"
   ]
  },
  {
   "cell_type": "code",
   "execution_count": 184,
   "id": "7ce5a3b3",
   "metadata": {},
   "outputs": [
    {
     "data": {
      "image/png": "[encoded data removed]",
      "text/plain": [
       "<Figure size 640x480 with 1 Axes>"
      ]
     },
     "metadata": {},
     "output_type": "display_data"
    }
   ],
   "source": [
    "sns.boxplot(y=df1[\"Wheelbase\"])\n",
    "plt.show()"
   ]
  },
  {
   "cell_type": "code",
   "execution_count": 185,
   "id": "710237b5",
   "metadata": {},
   "outputs": [
    {
     "data": {
      "image/png": "[encoded data removed]",
      "text/plain": [
       "<Figure size 640x480 with 1 Axes>"
      ]
     },
     "metadata": {},
     "output_type": "display_data"
    }
   ],
   "source": [
    "sns.boxplot(y=df1[\"Curb weight\"])\n",
    "plt.show()"
   ]
  },
  {
   "cell_type": "code",
   "execution_count": 186,
   "id": "c5dfedd2",
   "metadata": {},
   "outputs": [
    {
     "name": "stderr",
     "output_type": "stream",
     "text": [
      "C:\\Users\\HP\\AppData\\Local\\Temp\\ipykernel_24496\\2745907877.py:7: SettingWithCopyWarning: \n",
      "A value is trying to be set on a copy of a slice from a DataFrame.\n",
      "Try using .loc[row_indexer,col_indexer] = value instead\n",
      "\n",
      "See the caveats in the documentation: https://pandas.pydata.org/pandas-docs/stable/user_guide/indexing.html#returning-a-view-versus-a-copy\n",
      "  df1[var]=np.where(df1[var]>=upper_bound,upper_bound,df1[var])\n",
      "C:\\Users\\HP\\AppData\\Local\\Temp\\ipykernel_24496\\2745907877.py:8: SettingWithCopyWarning: \n",
      "A value is trying to be set on a copy of a slice from a DataFrame.\n",
      "Try using .loc[row_indexer,col_indexer] = value instead\n",
      "\n",
      "See the caveats in the documentation: https://pandas.pydata.org/pandas-docs/stable/user_guide/indexing.html#returning-a-view-versus-a-copy\n",
      "  df1[var]=np.where(df1[var]<=lower_bound,lower_bound,df1[var])\n"
     ]
    }
   ],
   "source": [
    "var=\"Curb weight\"\n",
    "q1=df1[var].quantile(.25)\n",
    "q3=df1[var].quantile(.75)\n",
    "iqr=q3-q1\n",
    "upper_bound=q3+1.5*iqr\n",
    "lower_bound=q1-1.5*iqr\n",
    "df1[var]=np.where(df1[var]>=upper_bound,upper_bound,df1[var])\n",
    "df1[var]=np.where(df1[var]<=lower_bound,lower_bound,df1[var])\n"
   ]
  },
  {
   "cell_type": "code",
   "execution_count": 187,
   "id": "e18beaca",
   "metadata": {},
   "outputs": [
    {
     "data": {
      "image/png": "[encoded data removed]",
      "text/plain": [
       "<Figure size 640x480 with 1 Axes>"
      ]
     },
     "metadata": {},
     "output_type": "display_data"
    }
   ],
   "source": [
    "sns.boxplot(y=df1[\"Curb weight\"])\n",
    "plt.show()"
   ]
  },
  {
   "cell_type": "code",
   "execution_count": 188,
   "id": "f41f35c5",
   "metadata": {},
   "outputs": [
    {
     "data": {
      "image/png": "[encoded data removed]",
      "text/plain": [
       "<Figure size 640x480 with 1 Axes>"
      ]
     },
     "metadata": {},
     "output_type": "display_data"
    }
   ],
   "source": [
    "sns.boxplot(y=df1[\"Fuel_capacity\"])\n",
    "plt.show()"
   ]
  },
  {
   "cell_type": "code",
   "execution_count": 189,
   "id": "42bbcb0d",
   "metadata": {},
   "outputs": [
    {
     "name": "stderr",
     "output_type": "stream",
     "text": [
      "C:\\Users\\HP\\AppData\\Local\\Temp\\ipykernel_24496\\2574076094.py:7: SettingWithCopyWarning: \n",
      "A value is trying to be set on a copy of a slice from a DataFrame.\n",
      "Try using .loc[row_indexer,col_indexer] = value instead\n",
      "\n",
      "See the caveats in the documentation: https://pandas.pydata.org/pandas-docs/stable/user_guide/indexing.html#returning-a-view-versus-a-copy\n",
      "  df1[var]=np.where(df1[var]>=upper_bound,upper_bound,df1[var])\n",
      "C:\\Users\\HP\\AppData\\Local\\Temp\\ipykernel_24496\\2574076094.py:8: SettingWithCopyWarning: \n",
      "A value is trying to be set on a copy of a slice from a DataFrame.\n",
      "Try using .loc[row_indexer,col_indexer] = value instead\n",
      "\n",
      "See the caveats in the documentation: https://pandas.pydata.org/pandas-docs/stable/user_guide/indexing.html#returning-a-view-versus-a-copy\n",
      "  df1[var]=np.where(df1[var]<=lower_bound,lower_bound,df1[var])\n"
     ]
    }
   ],
   "source": [
    "var=\"Fuel_capacity\"\n",
    "q1=df1[var].quantile(.25)\n",
    "q3=df1[var].quantile(.75)\n",
    "iqr=q3-q1\n",
    "upper_bound=q3+1.5*iqr\n",
    "lower_bound=q1-1.5*iqr\n",
    "df1[var]=np.where(df1[var]>=upper_bound,upper_bound,df1[var])\n",
    "df1[var]=np.where(df1[var]<=lower_bound,lower_bound,df1[var])\n"
   ]
  },
  {
   "cell_type": "code",
   "execution_count": 190,
   "id": "5883fb48",
   "metadata": {},
   "outputs": [
    {
     "data": {
      "image/png": "[encoded data removed]",
      "text/plain": [
       "<Figure size 640x480 with 1 Axes>"
      ]
     },
     "metadata": {},
     "output_type": "display_data"
    }
   ],
   "source": [
    "sns.boxplot(y=df1[\"Fuel_capacity\"])\n",
    "plt.show()"
   ]
  },
  {
   "cell_type": "markdown",
   "id": "52eda1d6",
   "metadata": {},
   "source": [
    "### dummy creation"
   ]
  },
  {
   "cell_type": "code",
   "execution_count": 191,
   "id": "475ef9bf",
   "metadata": {},
   "outputs": [
    {
     "data": {
      "text/plain": [
       "(152, 13)"
      ]
     },
     "execution_count": 191,
     "metadata": {},
     "output_type": "execute_result"
    }
   ],
   "source": [
    "df1.shape"
   ]
  },
  {
   "cell_type": "code",
   "execution_count": 192,
   "id": "f54fbe15",
   "metadata": {},
   "outputs": [
    {
     "data": {
      "text/plain": [
       "30"
      ]
     },
     "execution_count": 192,
     "metadata": {},
     "output_type": "execute_result"
    }
   ],
   "source": [
    "df1[\"Manufacturer\"].nunique()"
   ]
  },
  {
   "cell_type": "code",
   "execution_count": 193,
   "id": "37316a0d",
   "metadata": {},
   "outputs": [],
   "source": [
    "df3=pd.get_dummies(df1,columns=[\"Manufacturer\",\"Vehicle_type\"],drop_first=True)"
   ]
  },
  {
   "cell_type": "code",
   "execution_count": 194,
   "id": "a9a23978",
   "metadata": {
    "scrolled": true
   },
   "outputs": [
    {
     "data": {
      "text/html": [
       "<div>\n",
       "<style scoped>\n",
       "    .dataframe tbody tr th:only-of-type {\n",
       "        vertical-align: middle;\n",
       "    }\n",
       "\n",
       "    .dataframe tbody tr th {\n",
       "        vertical-align: top;\n",
       "    }\n",
       "\n",
       "    .dataframe thead th {\n",
       "        text-align: right;\n",
       "    }\n",
       "</style>\n",
       "<table border=\"1\" class=\"dataframe\">\n",
       "  <thead>\n",
       "    <tr style=\"text-align: right;\">\n",
       "      <th></th>\n",
       "      <th>Sales_in_thousands</th>\n",
       "      <th>four_year_resale_value</th>\n",
       "      <th>Price_in_thousands</th>\n",
       "      <th>Engine_size</th>\n",
       "      <th>Horsepower</th>\n",
       "      <th>Wheelbase</th>\n",
       "      <th>Width</th>\n",
       "      <th>Length</th>\n",
       "      <th>Curb weight</th>\n",
       "      <th>Fuel_capacity</th>\n",
       "      <th>...</th>\n",
       "      <th>Manufacturer_Plymouth</th>\n",
       "      <th>Manufacturer_Pontiac</th>\n",
       "      <th>Manufacturer_Porsche</th>\n",
       "      <th>Manufacturer_Saab</th>\n",
       "      <th>Manufacturer_Saturn</th>\n",
       "      <th>Manufacturer_Subaru</th>\n",
       "      <th>Manufacturer_Toyota</th>\n",
       "      <th>Manufacturer_Volkswagen</th>\n",
       "      <th>Manufacturer_Volvo</th>\n",
       "      <th>Vehicle_type_Passenger</th>\n",
       "    </tr>\n",
       "  </thead>\n",
       "  <tbody>\n",
       "    <tr>\n",
       "      <th>0</th>\n",
       "      <td>16.919</td>\n",
       "      <td>16.360000</td>\n",
       "      <td>21.50</td>\n",
       "      <td>1.8</td>\n",
       "      <td>140.0</td>\n",
       "      <td>101.2</td>\n",
       "      <td>67.3</td>\n",
       "      <td>172.4</td>\n",
       "      <td>2.639</td>\n",
       "      <td>13.2</td>\n",
       "      <td>...</td>\n",
       "      <td>False</td>\n",
       "      <td>False</td>\n",
       "      <td>False</td>\n",
       "      <td>False</td>\n",
       "      <td>False</td>\n",
       "      <td>False</td>\n",
       "      <td>False</td>\n",
       "      <td>False</td>\n",
       "      <td>False</td>\n",
       "      <td>True</td>\n",
       "    </tr>\n",
       "    <tr>\n",
       "      <th>1</th>\n",
       "      <td>39.384</td>\n",
       "      <td>19.875000</td>\n",
       "      <td>28.40</td>\n",
       "      <td>3.2</td>\n",
       "      <td>225.0</td>\n",
       "      <td>108.1</td>\n",
       "      <td>70.3</td>\n",
       "      <td>192.9</td>\n",
       "      <td>3.517</td>\n",
       "      <td>17.2</td>\n",
       "      <td>...</td>\n",
       "      <td>False</td>\n",
       "      <td>False</td>\n",
       "      <td>False</td>\n",
       "      <td>False</td>\n",
       "      <td>False</td>\n",
       "      <td>False</td>\n",
       "      <td>False</td>\n",
       "      <td>False</td>\n",
       "      <td>False</td>\n",
       "      <td>True</td>\n",
       "    </tr>\n",
       "    <tr>\n",
       "      <th>3</th>\n",
       "      <td>8.588</td>\n",
       "      <td>26.391188</td>\n",
       "      <td>42.00</td>\n",
       "      <td>3.5</td>\n",
       "      <td>210.0</td>\n",
       "      <td>114.6</td>\n",
       "      <td>71.4</td>\n",
       "      <td>196.6</td>\n",
       "      <td>3.850</td>\n",
       "      <td>18.0</td>\n",
       "      <td>...</td>\n",
       "      <td>False</td>\n",
       "      <td>False</td>\n",
       "      <td>False</td>\n",
       "      <td>False</td>\n",
       "      <td>False</td>\n",
       "      <td>False</td>\n",
       "      <td>False</td>\n",
       "      <td>False</td>\n",
       "      <td>False</td>\n",
       "      <td>True</td>\n",
       "    </tr>\n",
       "    <tr>\n",
       "      <th>4</th>\n",
       "      <td>20.397</td>\n",
       "      <td>22.255000</td>\n",
       "      <td>23.99</td>\n",
       "      <td>1.8</td>\n",
       "      <td>150.0</td>\n",
       "      <td>102.6</td>\n",
       "      <td>68.2</td>\n",
       "      <td>178.0</td>\n",
       "      <td>2.998</td>\n",
       "      <td>16.4</td>\n",
       "      <td>...</td>\n",
       "      <td>False</td>\n",
       "      <td>False</td>\n",
       "      <td>False</td>\n",
       "      <td>False</td>\n",
       "      <td>False</td>\n",
       "      <td>False</td>\n",
       "      <td>False</td>\n",
       "      <td>False</td>\n",
       "      <td>False</td>\n",
       "      <td>True</td>\n",
       "    </tr>\n",
       "    <tr>\n",
       "      <th>5</th>\n",
       "      <td>18.780</td>\n",
       "      <td>23.555000</td>\n",
       "      <td>33.95</td>\n",
       "      <td>2.8</td>\n",
       "      <td>200.0</td>\n",
       "      <td>108.7</td>\n",
       "      <td>76.1</td>\n",
       "      <td>192.0</td>\n",
       "      <td>3.561</td>\n",
       "      <td>18.5</td>\n",
       "      <td>...</td>\n",
       "      <td>False</td>\n",
       "      <td>False</td>\n",
       "      <td>False</td>\n",
       "      <td>False</td>\n",
       "      <td>False</td>\n",
       "      <td>False</td>\n",
       "      <td>False</td>\n",
       "      <td>False</td>\n",
       "      <td>False</td>\n",
       "      <td>True</td>\n",
       "    </tr>\n",
       "  </tbody>\n",
       "</table>\n",
       "<p>5 rows × 41 columns</p>\n",
       "</div>"
      ],
      "text/plain": [
       "   Sales_in_thousands  four_year_resale_value  Price_in_thousands  \\\n",
       "0              16.919               16.360000               21.50   \n",
       "1              39.384               19.875000               28.40   \n",
       "3               8.588               26.391188               42.00   \n",
       "4              20.397               22.255000               23.99   \n",
       "5              18.780               23.555000               33.95   \n",
       "\n",
       "   Engine_size  Horsepower  Wheelbase  Width  Length  Curb weight  \\\n",
       "0          1.8       140.0      101.2   67.3   172.4        2.639   \n",
       "1          3.2       225.0      108.1   70.3   192.9        3.517   \n",
       "3          3.5       210.0      114.6   71.4   196.6        3.850   \n",
       "4          1.8       150.0      102.6   68.2   178.0        2.998   \n",
       "5          2.8       200.0      108.7   76.1   192.0        3.561   \n",
       "\n",
       "   Fuel_capacity  ...  Manufacturer_Plymouth  Manufacturer_Pontiac  \\\n",
       "0           13.2  ...                  False                 False   \n",
       "1           17.2  ...                  False                 False   \n",
       "3           18.0  ...                  False                 False   \n",
       "4           16.4  ...                  False                 False   \n",
       "5           18.5  ...                  False                 False   \n",
       "\n",
       "   Manufacturer_Porsche  Manufacturer_Saab  Manufacturer_Saturn  \\\n",
       "0                 False              False                False   \n",
       "1                 False              False                False   \n",
       "3                 False              False                False   \n",
       "4                 False              False                False   \n",
       "5                 False              False                False   \n",
       "\n",
       "   Manufacturer_Subaru  Manufacturer_Toyota  Manufacturer_Volkswagen  \\\n",
       "0                False                False                    False   \n",
       "1                False                False                    False   \n",
       "3                False                False                    False   \n",
       "4                False                False                    False   \n",
       "5                False                False                    False   \n",
       "\n",
       "   Manufacturer_Volvo  Vehicle_type_Passenger  \n",
       "0               False                    True  \n",
       "1               False                    True  \n",
       "3               False                    True  \n",
       "4               False                    True  \n",
       "5               False                    True  \n",
       "\n",
       "[5 rows x 41 columns]"
      ]
     },
     "execution_count": 194,
     "metadata": {},
     "output_type": "execute_result"
    }
   ],
   "source": [
    "df3.head()"
   ]
  },
  {
   "cell_type": "code",
   "execution_count": 200,
   "id": "a83f4a04",
   "metadata": {},
   "outputs": [
    {
     "data": {
      "text/plain": [
       "Sales_in_thousands         float64\n",
       "four_year_resale_value     float64\n",
       "Price_in_thousands         float64\n",
       "Engine_size                float64\n",
       "Horsepower                 float64\n",
       "Wheelbase                  float64\n",
       "Width                      float64\n",
       "Length                     float64\n",
       "Curb weight                float64\n",
       "Fuel_capacity              float64\n",
       "Fuel_efficiency            float64\n",
       "Manufacturer_Audi             bool\n",
       "Manufacturer_BMW              bool\n",
       "Manufacturer_Buick            bool\n",
       "Manufacturer_Cadillac         bool\n",
       "Manufacturer_Chevrolet        bool\n",
       "Manufacturer_Chrysler         bool\n",
       "Manufacturer_Dodge            bool\n",
       "Manufacturer_Ford             bool\n",
       "Manufacturer_Honda            bool\n",
       "Manufacturer_Hyundai          bool\n",
       "Manufacturer_Infiniti         bool\n",
       "Manufacturer_Jaguar           bool\n",
       "Manufacturer_Jeep             bool\n",
       "Manufacturer_Lexus            bool\n",
       "Manufacturer_Lincoln          bool\n",
       "Manufacturer_Mercedes-B       bool\n",
       "Manufacturer_Mercury          bool\n",
       "Manufacturer_Mitsubishi       bool\n",
       "Manufacturer_Nissan           bool\n",
       "Manufacturer_Oldsmobile       bool\n",
       "Manufacturer_Plymouth         bool\n",
       "Manufacturer_Pontiac          bool\n",
       "Manufacturer_Porsche          bool\n",
       "Manufacturer_Saab             bool\n",
       "Manufacturer_Saturn           bool\n",
       "Manufacturer_Subaru           bool\n",
       "Manufacturer_Toyota           bool\n",
       "Manufacturer_Volkswagen       bool\n",
       "Manufacturer_Volvo            bool\n",
       "Vehicle_type_Passenger        bool\n",
       "dtype: object"
      ]
     },
     "execution_count": 200,
     "metadata": {},
     "output_type": "execute_result"
    }
   ],
   "source": [
    "df3.dtypes"
   ]
  },
  {
   "cell_type": "code",
   "execution_count": 201,
   "id": "bd71a762",
   "metadata": {
    "scrolled": false
   },
   "outputs": [
    {
     "data": {
      "text/plain": [
       "Sales_in_thousands         0\n",
       "four_year_resale_value     0\n",
       "Price_in_thousands         0\n",
       "Engine_size                0\n",
       "Horsepower                 0\n",
       "Wheelbase                  0\n",
       "Width                      0\n",
       "Length                     0\n",
       "Curb weight                0\n",
       "Fuel_capacity              0\n",
       "Fuel_efficiency            0\n",
       "Manufacturer_Audi          0\n",
       "Manufacturer_BMW           0\n",
       "Manufacturer_Buick         0\n",
       "Manufacturer_Cadillac      0\n",
       "Manufacturer_Chevrolet     0\n",
       "Manufacturer_Chrysler      0\n",
       "Manufacturer_Dodge         0\n",
       "Manufacturer_Ford          0\n",
       "Manufacturer_Honda         0\n",
       "Manufacturer_Hyundai       0\n",
       "Manufacturer_Infiniti      0\n",
       "Manufacturer_Jaguar        0\n",
       "Manufacturer_Jeep          0\n",
       "Manufacturer_Lexus         0\n",
       "Manufacturer_Lincoln       0\n",
       "Manufacturer_Mercedes-B    0\n",
       "Manufacturer_Mercury       0\n",
       "Manufacturer_Mitsubishi    0\n",
       "Manufacturer_Nissan        0\n",
       "Manufacturer_Oldsmobile    0\n",
       "Manufacturer_Plymouth      0\n",
       "Manufacturer_Pontiac       0\n",
       "Manufacturer_Porsche       0\n",
       "Manufacturer_Saab          0\n",
       "Manufacturer_Saturn        0\n",
       "Manufacturer_Subaru        0\n",
       "Manufacturer_Toyota        0\n",
       "Manufacturer_Volkswagen    0\n",
       "Manufacturer_Volvo         0\n",
       "Vehicle_type_Passenger     0\n",
       "dtype: int64"
      ]
     },
     "execution_count": 201,
     "metadata": {},
     "output_type": "execute_result"
    }
   ],
   "source": [
    "df3.isnull().sum()"
   ]
  },
  {
   "cell_type": "code",
   "execution_count": 202,
   "id": "9c91b3df",
   "metadata": {},
   "outputs": [
    {
     "data": {
      "text/plain": [
       "Index(['Sales_in_thousands', 'four_year_resale_value', 'Price_in_thousands',\n",
       "       'Engine_size', 'Horsepower', 'Wheelbase', 'Width', 'Length',\n",
       "       'Curb weight', 'Fuel_capacity', 'Fuel_efficiency', 'Manufacturer_Audi',\n",
       "       'Manufacturer_BMW', 'Manufacturer_Buick', 'Manufacturer_Cadillac',\n",
       "       'Manufacturer_Chevrolet', 'Manufacturer_Chrysler', 'Manufacturer_Dodge',\n",
       "       'Manufacturer_Ford', 'Manufacturer_Honda', 'Manufacturer_Hyundai',\n",
       "       'Manufacturer_Infiniti', 'Manufacturer_Jaguar', 'Manufacturer_Jeep',\n",
       "       'Manufacturer_Lexus', 'Manufacturer_Lincoln', 'Manufacturer_Mercedes-B',\n",
       "       'Manufacturer_Mercury', 'Manufacturer_Mitsubishi',\n",
       "       'Manufacturer_Nissan', 'Manufacturer_Oldsmobile',\n",
       "       'Manufacturer_Plymouth', 'Manufacturer_Pontiac', 'Manufacturer_Porsche',\n",
       "       'Manufacturer_Saab', 'Manufacturer_Saturn', 'Manufacturer_Subaru',\n",
       "       'Manufacturer_Toyota', 'Manufacturer_Volkswagen', 'Manufacturer_Volvo',\n",
       "       'Vehicle_type_Passenger'],\n",
       "      dtype='object')"
      ]
     },
     "execution_count": 202,
     "metadata": {},
     "output_type": "execute_result"
    }
   ],
   "source": [
    "df3.columns"
   ]
  },
  {
   "cell_type": "code",
   "execution_count": 203,
   "id": "17f59df0",
   "metadata": {},
   "outputs": [
    {
     "name": "stdout",
     "output_type": "stream",
     "text": [
      "Manufacturer_Audi\n",
      "False    149\n",
      "True       3\n",
      "Name: count, dtype: int64\n",
      "Manufacturer_BMW\n",
      "False    149\n",
      "True       3\n",
      "Name: count, dtype: int64\n",
      "Manufacturer_Buick\n",
      "False    148\n",
      "True       4\n",
      "Name: count, dtype: int64\n",
      "Manufacturer_Cadillac\n",
      "False    148\n",
      "True       4\n",
      "Name: count, dtype: int64\n",
      "Manufacturer_Chevrolet\n",
      "False    143\n",
      "True       9\n",
      "Name: count, dtype: int64\n",
      "Manufacturer_Chrysler\n",
      "False    146\n",
      "True       6\n",
      "Name: count, dtype: int64\n",
      "Manufacturer_Dodge\n",
      "False    142\n",
      "True      10\n",
      "Name: count, dtype: int64\n",
      "Manufacturer_Ford\n",
      "False    141\n",
      "True      11\n",
      "Name: count, dtype: int64\n",
      "Manufacturer_Honda\n",
      "False    147\n",
      "True       5\n",
      "Name: count, dtype: int64\n",
      "Manufacturer_Hyundai\n",
      "False    149\n",
      "True       3\n",
      "Name: count, dtype: int64\n",
      "Manufacturer_Infiniti\n",
      "False    151\n",
      "True       1\n",
      "Name: count, dtype: int64\n",
      "Manufacturer_Jeep\n",
      "False    149\n",
      "True       3\n",
      "Name: count, dtype: int64\n",
      "Manufacturer_Lexus\n",
      "False    146\n",
      "True       6\n",
      "Name: count, dtype: int64\n",
      "Manufacturer_Lincoln\n",
      "False    149\n",
      "True       3\n",
      "Name: count, dtype: int64\n",
      "Manufacturer_Mercedes-B\n",
      "False    143\n",
      "True       9\n",
      "Name: count, dtype: int64\n",
      "Manufacturer_Mercury\n",
      "False    146\n",
      "True       6\n",
      "Name: count, dtype: int64\n",
      "Manufacturer_Mitsubishi\n",
      "False    145\n",
      "True       7\n",
      "Name: count, dtype: int64\n",
      "Manufacturer_Nissan\n",
      "False    145\n",
      "True       7\n",
      "Name: count, dtype: int64\n",
      "Manufacturer_Oldsmobile\n",
      "False    147\n",
      "True       5\n",
      "Name: count, dtype: int64\n",
      "Manufacturer_Plymouth\n",
      "False    148\n",
      "True       4\n",
      "Name: count, dtype: int64\n",
      "Manufacturer_Pontiac\n",
      "False    146\n",
      "True       6\n",
      "Name: count, dtype: int64\n",
      "Manufacturer_Porsche\n",
      "False    149\n",
      "True       3\n",
      "Name: count, dtype: int64\n",
      "Manufacturer_Saturn\n",
      "False    147\n",
      "True       5\n",
      "Name: count, dtype: int64\n",
      "Manufacturer_Toyota\n",
      "False    143\n",
      "True       9\n",
      "Name: count, dtype: int64\n",
      "Manufacturer_Volkswagen\n",
      "False    146\n",
      "True       6\n",
      "Name: count, dtype: int64\n",
      "Vehicle_type_Passenger\n",
      "True     112\n",
      "False     40\n",
      "Name: count, dtype: int64\n"
     ]
    }
   ],
   "source": [
    "for i in df3[['Manufacturer_Audi', 'Manufacturer_BMW', 'Manufacturer_Buick',\n",
    "       'Manufacturer_Cadillac', 'Manufacturer_Chevrolet',\n",
    "       'Manufacturer_Chrysler', 'Manufacturer_Dodge', 'Manufacturer_Ford',\n",
    "       'Manufacturer_Honda', 'Manufacturer_Hyundai', 'Manufacturer_Infiniti',\n",
    "       'Manufacturer_Jeep', 'Manufacturer_Lexus', 'Manufacturer_Lincoln',\n",
    "       'Manufacturer_Mercedes-B', 'Manufacturer_Mercury',\n",
    "       'Manufacturer_Mitsubishi', 'Manufacturer_Nissan',\n",
    "       'Manufacturer_Oldsmobile', 'Manufacturer_Plymouth',\n",
    "       'Manufacturer_Pontiac', 'Manufacturer_Porsche', 'Manufacturer_Saturn',\n",
    "       'Manufacturer_Toyota', 'Manufacturer_Volkswagen',\n",
    "       'Vehicle_type_Passenger']]:\n",
    "    print(f\"{df3[i].value_counts()}\")\n",
    "    "
   ]
  },
  {
   "cell_type": "code",
   "execution_count": 204,
   "id": "54ea783d",
   "metadata": {},
   "outputs": [],
   "source": [
    "df4=pd.get_dummies(df3,drop_first=True, dtype=\"int\")"
   ]
  },
  {
   "cell_type": "code",
   "execution_count": 205,
   "id": "1524e25a",
   "metadata": {},
   "outputs": [
    {
     "data": {
      "text/plain": [
       "Index([  0,   1,   3,   4,   5,   6,   7,   8,   9,  10,\n",
       "       ...\n",
       "       147, 148, 149, 150, 151, 152, 153, 154, 155, 156],\n",
       "      dtype='int64', length=152)"
      ]
     },
     "execution_count": 205,
     "metadata": {},
     "output_type": "execute_result"
    }
   ],
   "source": [
    "df4.index"
   ]
  },
  {
   "cell_type": "code",
   "execution_count": 206,
   "id": "90349223",
   "metadata": {},
   "outputs": [
    {
     "data": {
      "text/plain": [
       "Sales_in_thousands         float64\n",
       "four_year_resale_value     float64\n",
       "Price_in_thousands         float64\n",
       "Engine_size                float64\n",
       "Horsepower                 float64\n",
       "Wheelbase                  float64\n",
       "Width                      float64\n",
       "Length                     float64\n",
       "Curb weight                float64\n",
       "Fuel_capacity              float64\n",
       "Fuel_efficiency            float64\n",
       "Manufacturer_Audi             bool\n",
       "Manufacturer_BMW              bool\n",
       "Manufacturer_Buick            bool\n",
       "Manufacturer_Cadillac         bool\n",
       "Manufacturer_Chevrolet        bool\n",
       "Manufacturer_Chrysler         bool\n",
       "Manufacturer_Dodge            bool\n",
       "Manufacturer_Ford             bool\n",
       "Manufacturer_Honda            bool\n",
       "Manufacturer_Hyundai          bool\n",
       "Manufacturer_Infiniti         bool\n",
       "Manufacturer_Jaguar           bool\n",
       "Manufacturer_Jeep             bool\n",
       "Manufacturer_Lexus            bool\n",
       "Manufacturer_Lincoln          bool\n",
       "Manufacturer_Mercedes-B       bool\n",
       "Manufacturer_Mercury          bool\n",
       "Manufacturer_Mitsubishi       bool\n",
       "Manufacturer_Nissan           bool\n",
       "Manufacturer_Oldsmobile       bool\n",
       "Manufacturer_Plymouth         bool\n",
       "Manufacturer_Pontiac          bool\n",
       "Manufacturer_Porsche          bool\n",
       "Manufacturer_Saab             bool\n",
       "Manufacturer_Saturn           bool\n",
       "Manufacturer_Subaru           bool\n",
       "Manufacturer_Toyota           bool\n",
       "Manufacturer_Volkswagen       bool\n",
       "Manufacturer_Volvo            bool\n",
       "Vehicle_type_Passenger        bool\n",
       "dtype: object"
      ]
     },
     "execution_count": 206,
     "metadata": {},
     "output_type": "execute_result"
    }
   ],
   "source": [
    "df4.dtypes"
   ]
  },
  {
   "cell_type": "markdown",
   "id": "4c7ce5ef",
   "metadata": {},
   "source": [
    "### Assumption check"
   ]
  },
  {
   "cell_type": "markdown",
   "id": "be1d2d8d",
   "metadata": {},
   "source": [
    "## normality"
   ]
  },
  {
   "cell_type": "code",
   "execution_count": 207,
   "id": "8414281d",
   "metadata": {
    "scrolled": false
   },
   "outputs": [
    {
     "data": {
      "image/png": "[encoded data removed]",
      "text/plain": [
       "<Figure size 640x480 with 1 Axes>"
      ]
     },
     "metadata": {},
     "output_type": "display_data"
    }
   ],
   "source": [
    "sns.histplot(df4[\"Sales_in_thousands\"])\n",
    "plt.show()"
   ]
  },
  {
   "cell_type": "code",
   "execution_count": 208,
   "id": "93c77acb",
   "metadata": {},
   "outputs": [
    {
     "name": "stderr",
     "output_type": "stream",
     "text": [
      "C:\\Users\\HP\\AppData\\Local\\Temp\\ipykernel_24496\\1877409268.py:1: UserWarning: \n",
      "\n",
      "`distplot` is a deprecated function and will be removed in seaborn v0.14.0.\n",
      "\n",
      "Please adapt your code to use either `displot` (a figure-level function with\n",
      "similar flexibility) or `histplot` (an axes-level function for histograms).\n",
      "\n",
      "For a guide to updating your code to use the new functions, please see\n",
      "https://gist.github.com/mwaskom/de44147ed2974457ad6372750bbe5751\n",
      "\n",
      "  sns.distplot(df4[\"Sales_in_thousands\"])\n"
     ]
    },
    {
     "data": {
      "image/png": "[encoded data removed]",
      "text/plain": [
       "<Figure size 640x480 with 1 Axes>"
      ]
     },
     "metadata": {},
     "output_type": "display_data"
    }
   ],
   "source": [
    "sns.distplot(df4[\"Sales_in_thousands\"])\n",
    "plt.show()"
   ]
  },
  {
   "cell_type": "code",
   "execution_count": 209,
   "id": "81c4afe7",
   "metadata": {},
   "outputs": [],
   "source": [
    "from scipy import stats"
   ]
  },
  {
   "cell_type": "code",
   "execution_count": 210,
   "id": "682fe02e",
   "metadata": {},
   "outputs": [],
   "source": [
    "#null hypothesis: Data normal \n",
    "#alternative hypothesis: Data is not normal"
   ]
  },
  {
   "cell_type": "code",
   "execution_count": 211,
   "id": "091841a8",
   "metadata": {},
   "outputs": [
    {
     "data": {
      "text/plain": [
       "ShapiroResult(statistic=0.8310451507568359, pvalue=5.8885283801823896e-12)"
      ]
     },
     "execution_count": 211,
     "metadata": {},
     "output_type": "execute_result"
    }
   ],
   "source": [
    "stats.shapiro(df4[\"Sales_in_thousands\"])    # p value=00.00002889769"
   ]
  },
  {
   "cell_type": "markdown",
   "id": "5ca6d1ea",
   "metadata": {},
   "source": [
    "### changing non-normal data into normal"
   ]
  },
  {
   "cell_type": "code",
   "execution_count": 212,
   "id": "2d23b59b",
   "metadata": {},
   "outputs": [
    {
     "data": {
      "text/plain": [
       "0      2.828437\n",
       "1      3.673360\n",
       "3      2.150366\n",
       "4      3.015388\n",
       "5      2.932792\n",
       "         ...   \n",
       "152    1.265538\n",
       "153    2.724252\n",
       "154    2.863971\n",
       "155    1.250761\n",
       "156    2.942806\n",
       "Name: Sales_in_thousands, Length: 152, dtype: float64"
      ]
     },
     "execution_count": 212,
     "metadata": {},
     "output_type": "execute_result"
    }
   ],
   "source": [
    "np.log(df4[\"Sales_in_thousands\"])"
   ]
  },
  {
   "cell_type": "code",
   "execution_count": 126,
   "id": "711afe33",
   "metadata": {},
   "outputs": [
    {
     "data": {
      "text/plain": [
       "ShapiroResult(statistic=0.9347063899040222, pvalue=1.8634967773323297e-06)"
      ]
     },
     "execution_count": 126,
     "metadata": {},
     "output_type": "execute_result"
    }
   ],
   "source": [
    "stats.shapiro(np.log(df4[\"Sales_in_thousands\"]))   #sqrt,sq, "
   ]
  },
  {
   "cell_type": "code",
   "execution_count": 127,
   "id": "104d4458",
   "metadata": {},
   "outputs": [
    {
     "data": {
      "text/plain": [
       "ShapiroResult(statistic=0.9630674123764038, pvalue=0.0004289733187761158)"
      ]
     },
     "execution_count": 127,
     "metadata": {},
     "output_type": "execute_result"
    }
   ],
   "source": [
    "stats.shapiro(np.log1p(df4[\"Sales_in_thousands\"]))  "
   ]
  },
  {
   "cell_type": "code",
   "execution_count": 128,
   "id": "681ba23c",
   "metadata": {},
   "outputs": [
    {
     "data": {
      "text/plain": [
       "<Axes: xlabel='Sales_in_thousands', ylabel='Count'>"
      ]
     },
     "execution_count": 128,
     "metadata": {},
     "output_type": "execute_result"
    },
    {
     "data": {
      "image/png": "[encoded data removed]",
      "text/plain": [
       "<Figure size 640x480 with 1 Axes>"
      ]
     },
     "metadata": {},
     "output_type": "display_data"
    }
   ],
   "source": [
    "sns.histplot(np.log(df4[\"Sales_in_thousands\"]))"
   ]
  },
  {
   "cell_type": "code",
   "execution_count": 129,
   "id": "afa2e13f",
   "metadata": {},
   "outputs": [],
   "source": [
    "df4[\"log_sale\"]=np.log1p(df4[\"Sales_in_thousands\"])"
   ]
  },
  {
   "cell_type": "markdown",
   "id": "7e98059c",
   "metadata": {},
   "source": [
    "`15-May-2023`"
   ]
  },
  {
   "cell_type": "markdown",
   "id": "5651f0a1",
   "metadata": {},
   "source": [
    "### Multicollinearity"
   ]
  },
  {
   "cell_type": "code",
   "execution_count": 130,
   "id": "fe66e467",
   "metadata": {},
   "outputs": [
    {
     "data": {
      "image/png": "[encoded data removed]",
      "text/plain": [
       "<Figure size 600x400 with 2 Axes>"
      ]
     },
     "metadata": {},
     "output_type": "display_data"
    }
   ],
   "source": [
    "cr=df4.corr()\n",
    "cr1=cr[(abs(cr)>=.6)]\n",
    "plt.figure(figsize=(6,4))\n",
    "sns.heatmap(cr1,annot=True,cmap=\"coolwarm\")\n",
    "plt.show()"
   ]
  },
  {
   "cell_type": "markdown",
   "id": "682b3eb1",
   "metadata": {},
   "source": [
    "### Model Developement Stage"
   ]
  },
  {
   "cell_type": "code",
   "execution_count": 131,
   "id": "35857570",
   "metadata": {},
   "outputs": [
    {
     "data": {
      "text/plain": [
       "Index(['Sales_in_thousands', 'four_year_resale_value', 'Price_in_thousands',\n",
       "       'Engine_size', 'Horsepower', 'Wheelbase', 'Width', 'Length',\n",
       "       'Curb weight', 'Fuel_capacity', 'Fuel_efficiency', 'Manufacturer_Audi',\n",
       "       'Manufacturer_BMW', 'Manufacturer_Buick', 'Manufacturer_Cadillac',\n",
       "       'Manufacturer_Chevrolet', 'Manufacturer_Chrysler', 'Manufacturer_Dodge',\n",
       "       'Manufacturer_Ford', 'Manufacturer_Honda', 'Manufacturer_Hyundai',\n",
       "       'Manufacturer_Infiniti', 'Manufacturer_Jaguar', 'Manufacturer_Jeep',\n",
       "       'Manufacturer_Lexus', 'Manufacturer_Lincoln', 'Manufacturer_Mercedes-B',\n",
       "       'Manufacturer_Mercury', 'Manufacturer_Mitsubishi',\n",
       "       'Manufacturer_Nissan', 'Manufacturer_Oldsmobile',\n",
       "       'Manufacturer_Plymouth', 'Manufacturer_Pontiac', 'Manufacturer_Porsche',\n",
       "       'Manufacturer_Saab', 'Manufacturer_Saturn', 'Manufacturer_Subaru',\n",
       "       'Manufacturer_Toyota', 'Manufacturer_Volkswagen', 'Manufacturer_Volvo',\n",
       "       'Vehicle_type_Passenger', 'log_sale'],\n",
       "      dtype='object')"
      ]
     },
     "execution_count": 131,
     "metadata": {},
     "output_type": "execute_result"
    }
   ],
   "source": [
    "df4.columns"
   ]
  },
  {
   "cell_type": "code",
   "execution_count": 132,
   "id": "21132713",
   "metadata": {},
   "outputs": [],
   "source": [
    "x=df4[['four_year_resale_value','Price_in_thousands', 'Engine_size', 'Horsepower', 'Wheelbase', 'Width',\n",
    "       'Length', 'Curb weight', 'Fuel_capacity', 'Fuel_efficiency',]]\n",
    "y=df4[[\"log_sale\"]]"
   ]
  },
  {
   "cell_type": "code",
   "execution_count": 133,
   "id": "e29aa592",
   "metadata": {},
   "outputs": [],
   "source": [
    "x= df4[[\"Price_in_thousands\",\"Wheelbase\",\"Engine_size\",\"Fuel_efficiency\",\"Vehicle_type_Passenger\"]]\n",
    "y = df4[\"log_sale\"]"
   ]
  },
  {
   "cell_type": "code",
   "execution_count": 134,
   "id": "b7c65b05",
   "metadata": {
    "scrolled": true
   },
   "outputs": [
    {
     "data": {
      "text/plain": [
       "Price_in_thousands        float64\n",
       "Wheelbase                 float64\n",
       "Engine_size               float64\n",
       "Fuel_efficiency           float64\n",
       "Vehicle_type_Passenger       bool\n",
       "dtype: object"
      ]
     },
     "execution_count": 134,
     "metadata": {},
     "output_type": "execute_result"
    }
   ],
   "source": [
    "x.dtypes"
   ]
  },
  {
   "cell_type": "code",
   "execution_count": 135,
   "id": "5cac864e",
   "metadata": {
    "scrolled": true
   },
   "outputs": [
    {
     "data": {
      "text/plain": [
       "dtype('float64')"
      ]
     },
     "execution_count": 135,
     "metadata": {},
     "output_type": "execute_result"
    }
   ],
   "source": [
    "y.dtypes"
   ]
  },
  {
   "cell_type": "code",
   "execution_count": 136,
   "id": "97fa2209",
   "metadata": {
    "scrolled": true
   },
   "outputs": [
    {
     "name": "stderr",
     "output_type": "stream",
     "text": [
      "C:\\Users\\HP\\AppData\\Local\\Temp\\ipykernel_24564\\1310946422.py:1: SettingWithCopyWarning: \n",
      "A value is trying to be set on a copy of a slice from a DataFrame.\n",
      "Try using .loc[row_indexer,col_indexer] = value instead\n",
      "\n",
      "See the caveats in the documentation: https://pandas.pydata.org/pandas-docs/stable/user_guide/indexing.html#returning-a-view-versus-a-copy\n",
      "  x['Vehicle_type_Passenger'] = x['Vehicle_type_Passenger'].astype(int)\n"
     ]
    }
   ],
   "source": [
    "x['Vehicle_type_Passenger'] = x['Vehicle_type_Passenger'].astype(int)\n"
   ]
  },
  {
   "cell_type": "code",
   "execution_count": 137,
   "id": "eebb09d8",
   "metadata": {},
   "outputs": [
    {
     "data": {
      "text/plain": [
       "Price_in_thousands        float64\n",
       "Wheelbase                 float64\n",
       "Engine_size               float64\n",
       "Fuel_efficiency           float64\n",
       "Vehicle_type_Passenger      int32\n",
       "dtype: object"
      ]
     },
     "execution_count": 137,
     "metadata": {},
     "output_type": "execute_result"
    }
   ],
   "source": [
    "x.dtypes"
   ]
  },
  {
   "cell_type": "code",
   "execution_count": null,
   "id": "7e2e3e6d",
   "metadata": {},
   "outputs": [],
   "source": []
  },
  {
   "cell_type": "code",
   "execution_count": 138,
   "id": "fae4b655",
   "metadata": {},
   "outputs": [],
   "source": [
    "import statsmodels.api as sm #ststistical learning\n",
    "x = sm.add_constant(x)   #adding a constant"
   ]
  },
  {
   "cell_type": "code",
   "execution_count": 139,
   "id": "4cb737d7",
   "metadata": {},
   "outputs": [],
   "source": [
    "model = sm.OLS(y,x).fit() # its learning"
   ]
  },
  {
   "cell_type": "code",
   "execution_count": 140,
   "id": "9f1177cc",
   "metadata": {},
   "outputs": [
    {
     "name": "stdout",
     "output_type": "stream",
     "text": [
      "                            OLS Regression Results                            \n",
      "==============================================================================\n",
      "Dep. Variable:               log_sale   R-squared:                       0.484\n",
      "Model:                            OLS   Adj. R-squared:                  0.467\n",
      "Method:                 Least Squares   F-statistic:                     27.42\n",
      "Date:                Mon, 04 Sep 2023   Prob (F-statistic):           1.69e-19\n",
      "Time:                        20:16:43   Log-Likelihood:                -183.30\n",
      "No. Observations:                 152   AIC:                             378.6\n",
      "Df Residuals:                     146   BIC:                             396.7\n",
      "Df Model:                           5                                         \n",
      "Covariance Type:            nonrobust                                         \n",
      "==========================================================================================\n",
      "                             coef    std err          t      P>|t|      [0.025      0.975]\n",
      "------------------------------------------------------------------------------------------\n",
      "const                     -1.7500      1.574     -1.112      0.268      -4.860       1.360\n",
      "Price_in_thousands        -0.0638      0.008     -7.530      0.000      -0.081      -0.047\n",
      "Wheelbase                  0.0419      0.012      3.513      0.001       0.018       0.066\n",
      "Engine_size                0.3464      0.123      2.813      0.006       0.103       0.590\n",
      "Fuel_efficiency            0.0696      0.031      2.274      0.024       0.009       0.130\n",
      "Vehicle_type_Passenger    -0.5749      0.213     -2.700      0.008      -0.996      -0.154\n",
      "==============================================================================\n",
      "Omnibus:                       15.994   Durbin-Watson:                   1.606\n",
      "Prob(Omnibus):                  0.000   Jarque-Bera (JB):               18.267\n",
      "Skew:                          -0.721   Prob(JB):                     0.000108\n",
      "Kurtosis:                       3.896   Cond. No.                     2.66e+03\n",
      "==============================================================================\n",
      "\n",
      "Notes:\n",
      "[1] Standard Errors assume that the covariance matrix of the errors is correctly specified.\n",
      "[2] The condition number is large, 2.66e+03. This might indicate that there are\n",
      "strong multicollinearity or other numerical problems.\n"
     ]
    }
   ],
   "source": [
    "print(model.summary())  #pvalue should be < 0.05"
   ]
  },
  {
   "cell_type": "code",
   "execution_count": 141,
   "id": "1b333739",
   "metadata": {},
   "outputs": [
    {
     "data": {
      "text/html": [
       "<div>\n",
       "<style scoped>\n",
       "    .dataframe tbody tr th:only-of-type {\n",
       "        vertical-align: middle;\n",
       "    }\n",
       "\n",
       "    .dataframe tbody tr th {\n",
       "        vertical-align: top;\n",
       "    }\n",
       "\n",
       "    .dataframe thead th {\n",
       "        text-align: right;\n",
       "    }\n",
       "</style>\n",
       "<table border=\"1\" class=\"dataframe\">\n",
       "  <thead>\n",
       "    <tr style=\"text-align: right;\">\n",
       "      <th></th>\n",
       "      <th>const</th>\n",
       "      <th>Price_in_thousands</th>\n",
       "      <th>Wheelbase</th>\n",
       "      <th>Engine_size</th>\n",
       "      <th>Fuel_efficiency</th>\n",
       "      <th>Vehicle_type_Passenger</th>\n",
       "    </tr>\n",
       "  </thead>\n",
       "  <tbody>\n",
       "    <tr>\n",
       "      <th>0</th>\n",
       "      <td>1.0</td>\n",
       "      <td>21.50</td>\n",
       "      <td>101.2</td>\n",
       "      <td>1.8</td>\n",
       "      <td>28.0</td>\n",
       "      <td>1</td>\n",
       "    </tr>\n",
       "    <tr>\n",
       "      <th>1</th>\n",
       "      <td>1.0</td>\n",
       "      <td>28.40</td>\n",
       "      <td>108.1</td>\n",
       "      <td>3.2</td>\n",
       "      <td>25.0</td>\n",
       "      <td>1</td>\n",
       "    </tr>\n",
       "    <tr>\n",
       "      <th>3</th>\n",
       "      <td>1.0</td>\n",
       "      <td>42.00</td>\n",
       "      <td>114.6</td>\n",
       "      <td>3.5</td>\n",
       "      <td>22.0</td>\n",
       "      <td>1</td>\n",
       "    </tr>\n",
       "    <tr>\n",
       "      <th>4</th>\n",
       "      <td>1.0</td>\n",
       "      <td>23.99</td>\n",
       "      <td>102.6</td>\n",
       "      <td>1.8</td>\n",
       "      <td>27.0</td>\n",
       "      <td>1</td>\n",
       "    </tr>\n",
       "    <tr>\n",
       "      <th>5</th>\n",
       "      <td>1.0</td>\n",
       "      <td>33.95</td>\n",
       "      <td>108.7</td>\n",
       "      <td>2.8</td>\n",
       "      <td>22.0</td>\n",
       "      <td>1</td>\n",
       "    </tr>\n",
       "  </tbody>\n",
       "</table>\n",
       "</div>"
      ],
      "text/plain": [
       "   const  Price_in_thousands  Wheelbase  Engine_size  Fuel_efficiency  \\\n",
       "0    1.0               21.50      101.2          1.8             28.0   \n",
       "1    1.0               28.40      108.1          3.2             25.0   \n",
       "3    1.0               42.00      114.6          3.5             22.0   \n",
       "4    1.0               23.99      102.6          1.8             27.0   \n",
       "5    1.0               33.95      108.7          2.8             22.0   \n",
       "\n",
       "   Vehicle_type_Passenger  \n",
       "0                       1  \n",
       "1                       1  \n",
       "3                       1  \n",
       "4                       1  \n",
       "5                       1  "
      ]
     },
     "execution_count": 141,
     "metadata": {},
     "output_type": "execute_result"
    }
   ],
   "source": [
    "x.head()"
   ]
  },
  {
   "cell_type": "code",
   "execution_count": 142,
   "id": "7ffb095e",
   "metadata": {},
   "outputs": [],
   "source": [
    "new_data=pd.DataFrame({\"Price_in_thousands\":[34],\"Wheelbase\":[104], \"Engine_size\":[3.5],\"Fuel_efficiency\":[32],\"Vehicle_type_Passenger\":[1]})"
   ]
  },
  {
   "cell_type": "code",
   "execution_count": 143,
   "id": "61ce984c",
   "metadata": {},
   "outputs": [],
   "source": [
    "p=(-0.0641)*new_data[\"Price_in_thousands\"]+0.0430*new_data[\"Wheelbase\"]+(0.3424)*new_data[\"Engine_size\"]*(0.0680)*new_data[\"Fuel_efficiency\"]+(-0.5665)*new_data[\"Vehicle_type_Passenger\"]-1.8138"
   ]
  },
  {
   "cell_type": "code",
   "execution_count": 144,
   "id": "2d55139a",
   "metadata": {},
   "outputs": [
    {
     "data": {
      "text/plain": [
       "0    11.428825\n",
       "dtype: float64"
      ]
     },
     "execution_count": 144,
     "metadata": {},
     "output_type": "execute_result"
    }
   ],
   "source": [
    "np.expm1(p)"
   ]
  },
  {
   "cell_type": "code",
   "execution_count": null,
   "id": "63ad10e2",
   "metadata": {},
   "outputs": [],
   "source": []
  },
  {
   "cell_type": "markdown",
   "id": "fd3cffa0",
   "metadata": {},
   "source": [
    "### Sklearn aproach:\n"
   ]
  },
  {
   "cell_type": "code",
   "execution_count": 145,
   "id": "8ae46b07",
   "metadata": {},
   "outputs": [],
   "source": [
    "from sklearn.model_selection import train_test_split\n",
    "from sklearn import metrics\n",
    "from sklearn.linear_model import LinearRegression"
   ]
  },
  {
   "cell_type": "code",
   "execution_count": 146,
   "id": "c5744149",
   "metadata": {},
   "outputs": [
    {
     "data": {
      "text/plain": [
       "array([[21.5    ,  1.8    , 13.2    , 28.     ],\n",
       "       [28.4    ,  3.2    , 17.2    , 25.     ],\n",
       "       [42.     ,  3.5    , 18.     , 22.     ],\n",
       "       [23.99   ,  1.8    , 16.4    , 27.     ],\n",
       "       [33.95   ,  2.8    , 18.5    , 22.     ],\n",
       "       [53.01375,  4.2    , 23.7    , 21.     ],\n",
       "       [26.99   ,  2.5    , 16.6    , 26.     ],\n",
       "       [33.4    ,  2.8    , 16.6    , 24.     ],\n",
       "       [38.9    ,  2.8    , 18.5    , 25.     ],\n",
       "       [21.975  ,  3.1    , 17.5    , 25.     ],\n",
       "       [25.3    ,  3.8    , 17.5    , 23.     ],\n",
       "       [31.965  ,  3.8    , 18.5    , 24.     ],\n",
       "       [27.885  ,  3.8    , 17.5    , 25.     ],\n",
       "       [39.895  ,  4.6    , 18.5    , 22.     ],\n",
       "       [39.665  ,  4.6    , 19.     , 22.     ],\n",
       "       [31.01   ,  3.     , 18.     , 22.     ],\n",
       "       [46.225  ,  5.4875 , 25.8375 , 15.     ],\n",
       "       [13.26   ,  2.2    , 14.3    , 27.     ],\n",
       "       [16.535  ,  3.1    , 15.     , 25.     ],\n",
       "       [18.89   ,  3.1    , 16.6    , 25.     ],\n",
       "       [19.39   ,  3.4    , 17.     , 27.     ],\n",
       "       [24.34   ,  3.8    , 16.8    , 25.     ],\n",
       "       [45.705  ,  5.4875 , 19.1    , 22.     ],\n",
       "       [13.96   ,  1.8    , 13.2    , 33.     ],\n",
       "       [ 9.235  ,  1.     , 10.3    , 45.     ],\n",
       "       [18.89   ,  3.4    , 17.     , 27.     ],\n",
       "       [19.84   ,  2.5    , 15.9    , 24.     ],\n",
       "       [24.495  ,  2.5    , 16.     , 24.     ],\n",
       "       [22.245  ,  2.7    , 17.     , 26.     ],\n",
       "       [16.48   ,  2.     , 16.     , 27.     ],\n",
       "       [28.34   ,  3.5    , 17.     , 23.     ],\n",
       "       [29.185  ,  3.5    , 17.     , 23.     ],\n",
       "       [12.64   ,  2.     , 12.5    , 29.     ],\n",
       "       [19.045  ,  2.5    , 15.9    , 24.     ],\n",
       "       [20.23   ,  2.5    , 16.     , 24.     ],\n",
       "       [53.01375,  5.4875 , 19.     , 16.     ],\n",
       "       [19.46   ,  5.2    , 25.8375 , 17.     ],\n",
       "       [21.315  ,  3.9    , 25.8375 , 15.     ],\n",
       "       [18.575  ,  3.9    , 25.8375 , 16.     ],\n",
       "       [16.98   ,  2.5    , 22.     , 19.     ],\n",
       "       [26.31   ,  5.2    , 25.     , 17.     ],\n",
       "       [19.565  ,  2.4    , 20.     , 24.     ],\n",
       "       [12.07   ,  2.     , 12.7    , 30.     ],\n",
       "       [21.56   ,  3.8    , 15.7    , 24.     ],\n",
       "       [17.035  ,  2.5    , 15.     , 25.     ],\n",
       "       [17.885  ,  3.     , 16.     , 24.     ],\n",
       "       [12.315  ,  2.     , 13.2    , 30.     ],\n",
       "       [22.195  ,  4.6    , 19.     , 21.     ],\n",
       "       [31.93   ,  4.     , 21.     , 19.     ],\n",
       "       [21.41   ,  3.     , 25.8375 , 21.     ],\n",
       "       [36.135  ,  4.6    , 25.8375 , 16.     ],\n",
       "       [12.05   ,  2.5    , 20.     , 23.     ],\n",
       "       [26.935  ,  4.6    , 25.1    , 18.     ],\n",
       "       [12.885  ,  1.6    , 11.9    , 32.     ],\n",
       "       [15.35   ,  2.3    , 17.1    , 27.     ],\n",
       "       [20.55   ,  2.     , 15.3    , 24.     ],\n",
       "       [26.6    ,  3.2    , 21.1    , 19.     ],\n",
       "       [26.     ,  3.5    , 20.     , 23.     ],\n",
       "       [ 9.699  ,  1.5    , 11.9    , 31.     ],\n",
       "       [11.799  ,  2.     , 14.5    , 27.     ],\n",
       "       [14.999  ,  2.4    , 17.2    , 25.     ],\n",
       "       [29.465  ,  3.     , 18.5    , 25.     ],\n",
       "       [42.8    ,  3.     , 18.4    , 21.     ],\n",
       "       [14.46   ,  2.5    , 19.     , 17.     ],\n",
       "       [21.62   ,  4.     , 20.     , 20.     ],\n",
       "       [26.895  ,  4.     , 20.5    , 19.     ],\n",
       "       [31.505  ,  3.     , 18.5    , 23.     ],\n",
       "       [37.805  ,  3.     , 19.8    , 23.     ],\n",
       "       [46.305  ,  4.     , 19.8    , 21.     ],\n",
       "       [53.01375,  4.     , 22.5    , 22.     ],\n",
       "       [53.01375,  4.7    , 25.4    , 15.     ],\n",
       "       [34.605  ,  3.     , 17.2    , 21.     ],\n",
       "       [39.08   ,  4.6    , 20.     , 22.     ],\n",
       "       [43.33   ,  4.6    , 19.     , 21.     ],\n",
       "       [42.66   ,  5.4    , 25.8375 , 15.     ],\n",
       "       [13.987  ,  1.8    , 13.2    , 30.     ],\n",
       "       [19.047  ,  2.4    , 15.9    , 24.     ],\n",
       "       [17.357  ,  2.4    , 16.3    , 25.     ],\n",
       "       [24.997  ,  3.5    , 19.     , 22.     ],\n",
       "       [25.45   ,  3.     , 19.8    , 21.     ],\n",
       "       [31.807  ,  3.5    , 24.3    , 18.     ],\n",
       "       [22.527  ,  3.     , 19.5    , 20.     ],\n",
       "       [16.24   ,  2.     , 15.     , 28.     ],\n",
       "       [16.54   ,  2.     , 16.     , 30.     ],\n",
       "       [19.035  ,  3.     , 16.     , 24.     ],\n",
       "       [22.605  ,  4.6    , 19.     , 21.     ],\n",
       "       [27.56   ,  4.     , 21.     , 18.     ],\n",
       "       [22.51   ,  3.3    , 20.     , 21.     ],\n",
       "       [31.75   ,  2.3    , 16.4    , 26.     ],\n",
       "       [49.9    ,  3.2    , 21.1    , 25.     ],\n",
       "       [53.01375,  4.3    , 23.2    , 21.     ],\n",
       "       [53.01375,  5.     , 21.1    , 20.     ],\n",
       "       [38.9    ,  2.3    , 15.9    , 26.     ],\n",
       "       [41.     ,  2.3    , 14.     , 27.     ],\n",
       "       [41.6    ,  3.2    , 16.4    , 26.     ],\n",
       "       [53.01375,  5.     , 23.2    , 20.     ],\n",
       "       [35.3    ,  3.2    , 19.     , 20.     ],\n",
       "       [13.499  ,  1.8    , 13.2    , 30.     ],\n",
       "       [20.39   ,  2.4    , 15.9    , 25.     ],\n",
       "       [26.249  ,  3.     , 18.5    , 25.     ],\n",
       "       [26.399  ,  3.3    , 20.     , 21.     ],\n",
       "       [29.299  ,  3.3    , 21.     , 19.     ],\n",
       "       [22.799  ,  3.3    , 19.4    , 18.     ],\n",
       "       [17.89   ,  3.3    , 19.4    , 18.     ],\n",
       "       [18.145  ,  3.1    , 15.2    , 25.     ],\n",
       "       [18.27   ,  2.4    , 15.     , 27.     ],\n",
       "       [36.229  ,  4.     , 18.5    , 22.     ],\n",
       "       [31.598  ,  4.3    , 17.5    , 19.     ],\n",
       "       [25.345  ,  3.4    , 25.     , 22.     ],\n",
       "       [12.64   ,  2.     , 12.5    , 29.     ],\n",
       "       [16.08   ,  2.     , 16.     , 27.     ],\n",
       "       [18.85   ,  2.4    , 20.     , 24.     ],\n",
       "       [43.     ,  3.5    , 12.     , 21.     ],\n",
       "       [21.61   ,  2.4    , 15.     , 27.     ],\n",
       "       [19.72   ,  3.4    , 15.2    , 25.     ],\n",
       "       [25.31   ,  3.8    , 16.8    , 25.     ],\n",
       "       [21.665  ,  3.8    , 18.     , 25.     ],\n",
       "       [23.755  ,  3.8    , 17.5    , 24.     ],\n",
       "       [25.635  ,  3.4    , 25.     , 23.     ],\n",
       "       [41.43   ,  2.7    , 17.     , 22.     ],\n",
       "       [53.01375,  3.4    , 17.     , 21.     ],\n",
       "       [53.01375,  3.4    , 17.     , 23.     ],\n",
       "       [33.12   ,  2.3    , 18.5    , 23.     ],\n",
       "       [26.1    ,  2.     , 16.9    , 23.     ],\n",
       "       [10.685  ,  1.9    , 12.1    , 33.     ],\n",
       "       [12.535  ,  1.9    , 12.1    , 33.     ],\n",
       "       [14.29   ,  1.9    , 12.1    , 31.     ],\n",
       "       [18.835  ,  2.2    , 13.1    , 27.     ],\n",
       "       [15.01   ,  2.2    , 13.1    , 28.     ],\n",
       "       [22.695  ,  2.5    , 16.9    , 25.     ],\n",
       "       [20.095  ,  2.5    , 15.9    , 24.     ],\n",
       "       [13.108  ,  1.8    , 13.2    , 33.     ],\n",
       "       [17.518  ,  2.2    , 18.5    , 27.     ],\n",
       "       [25.545  ,  3.     , 18.5    , 26.     ],\n",
       "       [16.875  ,  1.8    , 14.5    , 31.     ],\n",
       "       [11.528  ,  2.4    , 15.1    , 23.     ],\n",
       "       [22.368  ,  3.     , 20.9    , 22.     ],\n",
       "       [16.888  ,  2.     , 15.3    , 27.     ],\n",
       "       [22.288  ,  2.7    , 18.5    , 23.     ],\n",
       "       [51.728  ,  4.7    , 25.4    , 15.     ],\n",
       "       [14.9    ,  2.     , 14.5    , 26.     ],\n",
       "       [16.7    ,  2.     , 14.5    , 26.     ],\n",
       "       [21.2    ,  1.8    , 16.4    , 27.     ],\n",
       "       [19.99   ,  2.     , 13.7    , 26.     ],\n",
       "       [17.5    ,  2.     , 14.6    , 26.     ],\n",
       "       [15.9    ,  2.     , 14.5    , 26.     ],\n",
       "       [23.4    ,  1.9    , 15.8    , 25.     ],\n",
       "       [24.4    ,  1.9    , 15.8    , 25.     ],\n",
       "       [27.5    ,  2.4    , 17.9    , 25.     ],\n",
       "       [28.8    ,  2.4    , 17.9    , 25.     ],\n",
       "       [45.5    ,  2.3    , 18.5    , 23.     ],\n",
       "       [36.     ,  2.9    , 21.1    , 24.     ]])"
      ]
     },
     "execution_count": 146,
     "metadata": {},
     "output_type": "execute_result"
    }
   ],
   "source": [
    "x=df4[['Price_in_thousands', 'Engine_size',\n",
    "        'Fuel_capacity', 'Fuel_efficiency',]]\n",
    "y=df4[[\"log_sale\"]]\n",
    "x.columns\n",
    "x.values"
   ]
  },
  {
   "cell_type": "code",
   "execution_count": 147,
   "id": "51832a0a",
   "metadata": {},
   "outputs": [
    {
     "name": "stdout",
     "output_type": "stream",
     "text": [
      "              feature        VIF\n",
      "2       Fuel_capacity  38.619885\n",
      "1         Engine_size  28.946886\n",
      "0  Price_in_thousands  10.661013\n",
      "3     Fuel_efficiency   8.882654\n"
     ]
    }
   ],
   "source": [
    "from statsmodels.stats.outliers_influence import variance_inflation_factor\n",
    "vif_data = pd.DataFrame()\n",
    "vif_data[\"feature\"]=x.columns\n",
    "vif_data[\"VIF\"]=[variance_inflation_factor(x.values,i) for i in range(len(x.columns))]\n",
    "print(vif_data.sort_values(by=[\"VIF\"],ascending=False))"
   ]
  },
  {
   "cell_type": "code",
   "execution_count": 148,
   "id": "64350a50",
   "metadata": {},
   "outputs": [],
   "source": [
    "x_train,x_test,y_train,y_test=train_test_split(x,y, test_size=.3,random_state=88)"
   ]
  },
  {
   "cell_type": "code",
   "execution_count": 149,
   "id": "ff581f8c",
   "metadata": {},
   "outputs": [
    {
     "data": {
      "text/plain": [
       "(106, 4)"
      ]
     },
     "execution_count": 149,
     "metadata": {},
     "output_type": "execute_result"
    }
   ],
   "source": [
    "x_train.shape"
   ]
  },
  {
   "cell_type": "code",
   "execution_count": 150,
   "id": "a7fad1d9",
   "metadata": {},
   "outputs": [
    {
     "data": {
      "text/plain": [
       "(46, 4)"
      ]
     },
     "execution_count": 150,
     "metadata": {},
     "output_type": "execute_result"
    }
   ],
   "source": [
    "x_test.shape"
   ]
  },
  {
   "cell_type": "code",
   "execution_count": 151,
   "id": "a80985b4",
   "metadata": {},
   "outputs": [],
   "source": [
    "linreg=LinearRegression()"
   ]
  },
  {
   "cell_type": "code",
   "execution_count": 152,
   "id": "fcf64f38",
   "metadata": {},
   "outputs": [
    {
     "data": {
      "text/html": [
       "<style>#sk-container-id-1 {color: black;}#sk-container-id-1 pre{padding: 0;}#sk-container-id-1 div.sk-toggleable {background-color: white;}#sk-container-id-1 label.sk-toggleable__label {cursor: pointer;display: block;width: 100%;margin-bottom: 0;padding: 0.3em;box-sizing: border-box;text-align: center;}#sk-container-id-1 label.sk-toggleable__label-arrow:before {content: \"▸\";float: left;margin-right: 0.25em;color: #696969;}#sk-container-id-1 label.sk-toggleable__label-arrow:hover:before {color: black;}#sk-container-id-1 div.sk-estimator:hover label.sk-toggleable__label-arrow:before {color: black;}#sk-container-id-1 div.sk-toggleable__content {max-height: 0;max-width: 0;overflow: hidden;text-align: left;background-color: #f0f8ff;}#sk-container-id-1 div.sk-toggleable__content pre {margin: 0.2em;color: black;border-radius: 0.25em;background-color: #f0f8ff;}#sk-container-id-1 input.sk-toggleable__control:checked~div.sk-toggleable__content {max-height: 200px;max-width: 100%;overflow: auto;}#sk-container-id-1 input.sk-toggleable__control:checked~label.sk-toggleable__label-arrow:before {content: \"▾\";}#sk-container-id-1 div.sk-estimator input.sk-toggleable__control:checked~label.sk-toggleable__label {background-color: #d4ebff;}#sk-container-id-1 div.sk-label input.sk-toggleable__control:checked~label.sk-toggleable__label {background-color: #d4ebff;}#sk-container-id-1 input.sk-hidden--visually {border: 0;clip: rect(1px 1px 1px 1px);clip: rect(1px, 1px, 1px, 1px);height: 1px;margin: -1px;overflow: hidden;padding: 0;position: absolute;width: 1px;}#sk-container-id-1 div.sk-estimator {font-family: monospace;background-color: #f0f8ff;border: 1px dotted black;border-radius: 0.25em;box-sizing: border-box;margin-bottom: 0.5em;}#sk-container-id-1 div.sk-estimator:hover {background-color: #d4ebff;}#sk-container-id-1 div.sk-parallel-item::after {content: \"\";width: 100%;border-bottom: 1px solid gray;flex-grow: 1;}#sk-container-id-1 div.sk-label:hover label.sk-toggleable__label {background-color: #d4ebff;}#sk-container-id-1 div.sk-serial::before {content: \"\";position: absolute;border-left: 1px solid gray;box-sizing: border-box;top: 0;bottom: 0;left: 50%;z-index: 0;}#sk-container-id-1 div.sk-serial {display: flex;flex-direction: column;align-items: center;background-color: white;padding-right: 0.2em;padding-left: 0.2em;position: relative;}#sk-container-id-1 div.sk-item {position: relative;z-index: 1;}#sk-container-id-1 div.sk-parallel {display: flex;align-items: stretch;justify-content: center;background-color: white;position: relative;}#sk-container-id-1 div.sk-item::before, #sk-container-id-1 div.sk-parallel-item::before {content: \"\";position: absolute;border-left: 1px solid gray;box-sizing: border-box;top: 0;bottom: 0;left: 50%;z-index: -1;}#sk-container-id-1 div.sk-parallel-item {display: flex;flex-direction: column;z-index: 1;position: relative;background-color: white;}#sk-container-id-1 div.sk-parallel-item:first-child::after {align-self: flex-end;width: 50%;}#sk-container-id-1 div.sk-parallel-item:last-child::after {align-self: flex-start;width: 50%;}#sk-container-id-1 div.sk-parallel-item:only-child::after {width: 0;}#sk-container-id-1 div.sk-dashed-wrapped {border: 1px dashed gray;margin: 0 0.4em 0.5em 0.4em;box-sizing: border-box;padding-bottom: 0.4em;background-color: white;}#sk-container-id-1 div.sk-label label {font-family: monospace;font-weight: bold;display: inline-block;line-height: 1.2em;}#sk-container-id-1 div.sk-label-container {text-align: center;}#sk-container-id-1 div.sk-container {/* jupyter's `normalize.less` sets `[hidden] { display: none; }` but bootstrap.min.css set `[hidden] { display: none !important; }` so we also need the `!important` here to be able to override the default hidden behavior on the sphinx rendered scikit-learn.org. See: https://github.com/scikit-learn/scikit-learn/issues/21755 */display: inline-block !important;position: relative;}#sk-container-id-1 div.sk-text-repr-fallback {display: none;}</style><div id=\"sk-container-id-1\" class=\"sk-top-container\"><div class=\"sk-text-repr-fallback\"><pre>LinearRegression()</pre><b>In a Jupyter environment, please rerun this cell to show the HTML representation or trust the notebook. <br />On GitHub, the HTML representation is unable to render, please try loading this page with nbviewer.org.</b></div><div class=\"sk-container\" hidden><div class=\"sk-item\"><div class=\"sk-estimator sk-toggleable\"><input class=\"sk-toggleable__control sk-hidden--visually\" id=\"sk-estimator-id-1\" type=\"checkbox\" checked><label for=\"sk-estimator-id-1\" class=\"sk-toggleable__label sk-toggleable__label-arrow\">LinearRegression</label><div class=\"sk-toggleable__content\"><pre>LinearRegression()</pre></div></div></div></div></div>"
      ],
      "text/plain": [
       "LinearRegression()"
      ]
     },
     "execution_count": 152,
     "metadata": {},
     "output_type": "execute_result"
    }
   ],
   "source": [
    "linreg.fit(x_train,y_train)"
   ]
  },
  {
   "cell_type": "code",
   "execution_count": 153,
   "id": "c8878e44",
   "metadata": {
    "scrolled": true
   },
   "outputs": [
    {
     "data": {
      "text/plain": [
       "array([[-0.08095402,  0.45121483,  0.10562102,  0.08133121]])"
      ]
     },
     "execution_count": 153,
     "metadata": {},
     "output_type": "execute_result"
    }
   ],
   "source": [
    "linreg.coef_"
   ]
  },
  {
   "cell_type": "code",
   "execution_count": 154,
   "id": "8aba7445",
   "metadata": {},
   "outputs": [
    {
     "data": {
      "text/plain": [
       "Index(['Price_in_thousands', 'Engine_size', 'Fuel_capacity',\n",
       "       'Fuel_efficiency'],\n",
       "      dtype='object')"
      ]
     },
     "execution_count": 154,
     "metadata": {},
     "output_type": "execute_result"
    }
   ],
   "source": [
    "x_train.columns"
   ]
  },
  {
   "cell_type": "code",
   "execution_count": 155,
   "id": "5805b565",
   "metadata": {},
   "outputs": [
    {
     "data": {
      "text/plain": [
       "array([0.34700811])"
      ]
     },
     "execution_count": 155,
     "metadata": {},
     "output_type": "execute_result"
    }
   ],
   "source": [
    "linreg.intercept_"
   ]
  },
  {
   "cell_type": "code",
   "execution_count": 156,
   "id": "820474bc",
   "metadata": {},
   "outputs": [
    {
     "data": {
      "text/plain": [
       "0.4639188507218185"
      ]
     },
     "execution_count": 156,
     "metadata": {},
     "output_type": "execute_result"
    }
   ],
   "source": [
    "linreg.score(x_train,y_train)   "
   ]
  },
  {
   "cell_type": "code",
   "execution_count": 157,
   "id": "53cb2189",
   "metadata": {},
   "outputs": [
    {
     "data": {
      "text/plain": [
       "0.3278469480772819"
      ]
     },
     "execution_count": 157,
     "metadata": {},
     "output_type": "execute_result"
    }
   ],
   "source": [
    "linreg.score(x_test,y_test)   "
   ]
  },
  {
   "cell_type": "markdown",
   "id": "222d3792",
   "metadata": {},
   "source": [
    "### Evaluation of Model"
   ]
  },
  {
   "cell_type": "code",
   "execution_count": 158,
   "id": "a61d9053",
   "metadata": {},
   "outputs": [],
   "source": [
    "train_predict=linreg.predict(x_train)\n",
    "test_predict=linreg.predict(x_test)"
   ]
  },
  {
   "cell_type": "code",
   "execution_count": 159,
   "id": "f4c686ea",
   "metadata": {},
   "outputs": [
    {
     "data": {
      "text/plain": [
       "array([[3.73115158],\n",
       "       [2.44856716],\n",
       "       [4.30126672],\n",
       "       [3.68586954],\n",
       "       [3.45606903],\n",
       "       [2.38843769],\n",
       "       [3.51931559],\n",
       "       [3.50024054],\n",
       "       [3.84845743],\n",
       "       [4.24221407],\n",
       "       [3.79633352],\n",
       "       [3.90075906],\n",
       "       [3.84676506],\n",
       "       [4.04033075],\n",
       "       [2.21665594],\n",
       "       [4.14068596],\n",
       "       [2.9311304 ],\n",
       "       [4.01681484],\n",
       "       [3.80157804],\n",
       "       [2.20254291],\n",
       "       [2.02595056],\n",
       "       [3.71358886],\n",
       "       [3.92645469],\n",
       "       [3.27902073],\n",
       "       [4.02479477],\n",
       "       [3.16062003],\n",
       "       [3.33033979],\n",
       "       [3.47959726],\n",
       "       [3.1580164 ],\n",
       "       [3.88663885],\n",
       "       [1.83947181],\n",
       "       [2.60529595],\n",
       "       [3.69423041],\n",
       "       [3.84586786],\n",
       "       [3.13396166],\n",
       "       [3.56323532],\n",
       "       [3.43962423],\n",
       "       [3.39448966],\n",
       "       [2.18287007],\n",
       "       [3.41141497],\n",
       "       [4.40436537],\n",
       "       [3.68513279],\n",
       "       [4.14421998],\n",
       "       [4.3301621 ],\n",
       "       [3.30261133],\n",
       "       [3.52760507],\n",
       "       [4.34341695],\n",
       "       [3.01208442],\n",
       "       [4.30738533],\n",
       "       [2.02967631],\n",
       "       [3.49192555],\n",
       "       [3.37109682],\n",
       "       [3.1927862 ],\n",
       "       [3.09015456],\n",
       "       [3.51928751],\n",
       "       [4.63330733],\n",
       "       [3.38190787],\n",
       "       [3.12290742],\n",
       "       [1.09297486],\n",
       "       [2.66130808],\n",
       "       [3.69387988],\n",
       "       [3.67463461],\n",
       "       [3.91042758],\n",
       "       [4.48258734],\n",
       "       [3.54362174],\n",
       "       [4.10720393],\n",
       "       [4.08662264],\n",
       "       [2.60209969],\n",
       "       [4.34057648],\n",
       "       [1.52600078],\n",
       "       [2.93621098],\n",
       "       [3.58559149],\n",
       "       [2.2700043 ],\n",
       "       [3.14523509],\n",
       "       [3.89891683],\n",
       "       [1.79620685],\n",
       "       [2.16160754],\n",
       "       [2.92173875],\n",
       "       [3.02990093],\n",
       "       [3.50335576],\n",
       "       [3.37986693],\n",
       "       [3.69873821],\n",
       "       [3.48942063],\n",
       "       [4.58658085],\n",
       "       [3.60838496],\n",
       "       [3.34176301],\n",
       "       [3.77970751],\n",
       "       [3.56295947],\n",
       "       [3.60277766],\n",
       "       [3.73247327],\n",
       "       [2.07878344],\n",
       "       [2.61180315],\n",
       "       [2.01317349],\n",
       "       [2.15391851],\n",
       "       [2.4238755 ],\n",
       "       [4.0714596 ],\n",
       "       [3.86102455],\n",
       "       [3.47923057],\n",
       "       [4.25917083],\n",
       "       [1.4206446 ],\n",
       "       [3.90053012],\n",
       "       [1.8872025 ],\n",
       "       [3.22747945],\n",
       "       [3.12758448],\n",
       "       [2.96225953],\n",
       "       [3.90504667]])"
      ]
     },
     "execution_count": 159,
     "metadata": {},
     "output_type": "execute_result"
    }
   ],
   "source": [
    "train_predict"
   ]
  },
  {
   "cell_type": "code",
   "execution_count": 160,
   "id": "0e6a744a",
   "metadata": {
    "scrolled": true
   },
   "outputs": [
    {
     "data": {
      "text/html": [
       "<div>\n",
       "<style scoped>\n",
       "    .dataframe tbody tr th:only-of-type {\n",
       "        vertical-align: middle;\n",
       "    }\n",
       "\n",
       "    .dataframe tbody tr th {\n",
       "        vertical-align: top;\n",
       "    }\n",
       "\n",
       "    .dataframe thead th {\n",
       "        text-align: right;\n",
       "    }\n",
       "</style>\n",
       "<table border=\"1\" class=\"dataframe\">\n",
       "  <thead>\n",
       "    <tr style=\"text-align: right;\">\n",
       "      <th></th>\n",
       "      <th>log_sale</th>\n",
       "    </tr>\n",
       "  </thead>\n",
       "  <tbody>\n",
       "    <tr>\n",
       "      <th>0</th>\n",
       "      <td>2.885862</td>\n",
       "    </tr>\n",
       "    <tr>\n",
       "      <th>1</th>\n",
       "      <td>3.698434</td>\n",
       "    </tr>\n",
       "    <tr>\n",
       "      <th>3</th>\n",
       "      <td>2.260512</td>\n",
       "    </tr>\n",
       "    <tr>\n",
       "      <th>4</th>\n",
       "      <td>3.063251</td>\n",
       "    </tr>\n",
       "    <tr>\n",
       "      <th>5</th>\n",
       "      <td>2.984671</td>\n",
       "    </tr>\n",
       "    <tr>\n",
       "      <th>...</th>\n",
       "      <td>...</td>\n",
       "    </tr>\n",
       "    <tr>\n",
       "      <th>152</th>\n",
       "      <td>1.514028</td>\n",
       "    </tr>\n",
       "    <tr>\n",
       "      <th>153</th>\n",
       "      <td>2.787785</td>\n",
       "    </tr>\n",
       "    <tr>\n",
       "      <th>154</th>\n",
       "      <td>2.919445</td>\n",
       "    </tr>\n",
       "    <tr>\n",
       "      <th>155</th>\n",
       "      <td>1.502521</td>\n",
       "    </tr>\n",
       "    <tr>\n",
       "      <th>156</th>\n",
       "      <td>2.994181</td>\n",
       "    </tr>\n",
       "  </tbody>\n",
       "</table>\n",
       "<p>152 rows × 1 columns</p>\n",
       "</div>"
      ],
      "text/plain": [
       "     log_sale\n",
       "0    2.885862\n",
       "1    3.698434\n",
       "3    2.260512\n",
       "4    3.063251\n",
       "5    2.984671\n",
       "..        ...\n",
       "152  1.514028\n",
       "153  2.787785\n",
       "154  2.919445\n",
       "155  1.502521\n",
       "156  2.994181\n",
       "\n",
       "[152 rows x 1 columns]"
      ]
     },
     "execution_count": 160,
     "metadata": {},
     "output_type": "execute_result"
    }
   ],
   "source": [
    "y"
   ]
  },
  {
   "cell_type": "code",
   "execution_count": 161,
   "id": "03a0c783",
   "metadata": {},
   "outputs": [
    {
     "data": {
      "text/plain": [
       "0.6697024748384045"
      ]
     },
     "execution_count": 161,
     "metadata": {},
     "output_type": "execute_result"
    }
   ],
   "source": [
    "np.mean((train_predict-y_train)**2)    #MSE"
   ]
  },
  {
   "cell_type": "code",
   "execution_count": 162,
   "id": "10c57b39",
   "metadata": {},
   "outputs": [
    {
     "name": "stdout",
     "output_type": "stream",
     "text": [
      "MSE of Train 0.6697024748384045\n",
      "RMSE of Train 0.8183535145879222\n",
      "MAE 0.6121017783599468\n",
      "MAPE 0.5354133749270831\n"
     ]
    }
   ],
   "source": [
    "print(\"MSE of Train\",np.mean((train_predict-y_train)**2))\n",
    "print(\"RMSE of Train\",np.sqrt(np.mean((train_predict-y_train)**2)))\n",
    "print(\"MAE\",np.mean(np.abs(train_predict-y_train)))\n",
    "print(\"MAPE\",np.mean(np.abs((train_predict-y_train)/y_train)))"
   ]
  },
  {
   "cell_type": "code",
   "execution_count": 163,
   "id": "c6f8a218",
   "metadata": {},
   "outputs": [
    {
     "name": "stdout",
     "output_type": "stream",
     "text": [
      "MSE of Test 0.875929277905266\n",
      "RMSE of Test 0.8183535145879222\n",
      "MAE 0.7374491344007015\n",
      "MAPE 0.32750123040720697\n"
     ]
    }
   ],
   "source": [
    "print(\"MSE of Test\",np.mean((test_predict-y_test)**2))\n",
    "print(\"RMSE of Test\",np.sqrt(np.mean((train_predict-y_train)**2)))\n",
    "print(\"MAE\",np.mean(np.abs(test_predict-y_test)))\n",
    "print(\"MAPE\",np.mean(np.abs((test_predict-y_test)/y_test)))"
   ]
  },
  {
   "cell_type": "code",
   "execution_count": null,
   "id": "4ccafe49",
   "metadata": {},
   "outputs": [],
   "source": []
  },
  {
   "cell_type": "code",
   "execution_count": null,
   "id": "4823f05e",
   "metadata": {},
   "outputs": [],
   "source": []
  },
  {
   "cell_type": "markdown",
   "id": "db1c3dd4",
   "metadata": {},
   "source": [
    "### Cause of Overfitting"
   ]
  },
  {
   "cell_type": "markdown",
   "id": "da693443",
   "metadata": {},
   "source": [
    "<pre>\n",
    "1.the training data is too small  and does not contain enough data samples to acurately represent\n",
    "all possible input data values.\n",
    "2. the training data contain large amount of irrigularties/irreleven information,called noisy data\n",
    "3.the complexity of the model is high"
   ]
  },
  {
   "cell_type": "markdown",
   "id": "78ec2a1b",
   "metadata": {},
   "source": [
    "### Avoid Overfitting"
   ]
  },
  {
   "cell_type": "markdown",
   "id": "a2fd7740",
   "metadata": {},
   "source": [
    "<pre>\n",
    "1. cross validation :\n",
    "2. pruning of model\n",
    "3.Regularization - panelty   l1  &  l2\n",
    "4.Data Augmentation:\n",
    "5. Ensemble Modeling"
   ]
  },
  {
   "cell_type": "markdown",
   "id": "5a1f0008",
   "metadata": {},
   "source": []
  }
 ],
 "metadata": {
  "kernelspec": {
   "display_name": "Python 3 (ipykernel)",
   "language": "python",
   "name": "python3"
  },
  "language_info": {
   "codemirror_mode": {
    "name": "ipython",
    "version": 3
   },
   "file_extension": ".py",
   "mimetype": "text/x-python",
   "name": "python",
   "nbconvert_exporter": "python",
   "pygments_lexer": "ipython3",
   "version": "3.9.17"
  }
 },
 "nbformat": 4,
 "nbformat_minor": 5
}
